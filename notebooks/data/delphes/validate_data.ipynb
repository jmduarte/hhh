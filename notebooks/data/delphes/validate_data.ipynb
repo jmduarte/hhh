{
 "cells": [
  {
   "cell_type": "code",
   "execution_count": null,
   "id": "368b55fa",
   "metadata": {},
   "outputs": [],
   "source": [
    "import logging\n",
    "from pathlib import Path\n",
    "\n",
    "import awkward as ak\n",
    "import click\n",
    "import hist\n",
    "import matplotlib.pyplot as plt\n",
    "import mplhep as hep\n",
    "import numpy as np\n",
    "import uproot\n",
    "import vector\n",
    "from coffea.hist.plot import clopper_pearson_interval\n",
    "from matching import match_fjet_to_higgs, match_jets_to_higgs"
   ]
  },
  {
   "cell_type": "code",
   "execution_count": null,
   "id": "455443e2",
   "metadata": {},
   "outputs": [],
   "source": [
    "hep.style.use(hep.style.ROOT)\n",
    "vector.register_awkward()\n",
    "vector.register_numba()\n",
    "ak.numba.register()\n",
    "\n",
    "logging.basicConfig(level=logging.INFO)\n",
    "\n",
    "PROJECT_DIR = Path(__file__).resolve().parents[2]"
   ]
  },
  {
   "cell_type": "code",
   "execution_count": null,
   "id": "ba7234d1",
   "metadata": {},
   "outputs": [],
   "source": [
    "in_filename = "
   ]
  }
 ],
 "metadata": {
  "kernelspec": {
   "display_name": "Python 3 (ipykernel)",
   "language": "python",
   "name": "python3"
  },
  "language_info": {
   "codemirror_mode": {
    "name": "ipython",
    "version": 3
   },
   "file_extension": ".py",
   "mimetype": "text/x-python",
   "name": "python",
   "nbconvert_exporter": "python",
   "pygments_lexer": "ipython3",
   "version": "3.8.12"
  }
 },
 "nbformat": 4,
 "nbformat_minor": 5
}
