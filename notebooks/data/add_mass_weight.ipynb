{
 "cells": [
  {
   "cell_type": "markdown",
   "id": "196b974a-5d35-4859-96b3-5fc9d09a6975",
   "metadata": {},
   "source": [
    "# A Notebook for Calculating Weight by Target Weight Distribution"
   ]
  },
  {
   "cell_type": "code",
   "execution_count": null,
   "id": "424892ff-7157-40b2-9945-8bee958aa985",
   "metadata": {},
   "outputs": [],
   "source": []
  },
  {
   "cell_type": "markdown",
   "id": "8ad71eb3-d698-405d-8498-5c3c8f191af5",
   "metadata": {},
   "source": [
    "## load dataset and get the target weight distribution"
   ]
  },
  {
   "cell_type": "code",
   "execution_count": null,
   "id": "f41f38eb-dffe-4bd2-996f-247465e27f5a",
   "metadata": {},
   "outputs": [],
   "source": []
  },
  {
   "cell_type": "markdown",
   "id": "41a2d177-3d1a-49fa-999c-322b36edcef7",
   "metadata": {},
   "source": [
    "## Calculate the weight of each target"
   ]
  },
  {
   "cell_type": "code",
   "execution_count": null,
   "id": "2dfc4465-bcdc-4a43-aad1-1d8968a77fab",
   "metadata": {},
   "outputs": [],
   "source": []
  },
  {
   "cell_type": "markdown",
   "id": "c8071429-9ebb-4607-bdac-d5466088d7bf",
   "metadata": {},
   "source": [
    "## Copy dataset, add target weight, and dump the new dataset"
   ]
  },
  {
   "cell_type": "code",
   "execution_count": null,
   "id": "6af06cc4-9a6d-46e3-9385-7cd4855600b4",
   "metadata": {},
   "outputs": [],
   "source": []
  }
 ],
 "metadata": {
  "kernelspec": {
   "display_name": "Python 3 (ipykernel)",
   "language": "python",
   "name": "python3"
  },
  "language_info": {
   "codemirror_mode": {
    "name": "ipython",
    "version": 3
   },
   "file_extension": ".py",
   "mimetype": "text/x-python",
   "name": "python",
   "nbconvert_exporter": "python",
   "pygments_lexer": "ipython3",
   "version": "3.9.10"
  }
 },
 "nbformat": 4,
 "nbformat_minor": 5
}
