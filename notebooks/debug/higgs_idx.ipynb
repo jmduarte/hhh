{
 "cells": [
  {
   "attachments": {},
   "cell_type": "markdown",
   "id": "459912ac",
   "metadata": {},
   "source": [
    "## Higgs_idx Debug Notebook"
   ]
  },
  {
   "attachments": {},
   "cell_type": "markdown",
   "id": "8a66423b",
   "metadata": {},
   "source": [
    "### auxiliary"
   ]
  },
  {
   "cell_type": "code",
   "execution_count": null,
   "id": "483bfebc",
   "metadata": {
    "ExecuteTime": {
     "end_time": "2023-03-01T21:05:35.902982Z",
     "start_time": "2023-03-01T21:05:34.001988Z"
    }
   },
   "outputs": [],
   "source": [
    "import logging\n",
    "from pathlib import Path\n",
    "\n",
    "import awkward as ak\n",
    "import click\n",
    "import h5py\n",
    "import numpy as np\n",
    "import uproot\n",
    "import vector\n",
    "\n",
    "from src.data.delphes.matching import (\n",
    "    match_fjet_to_jet,\n",
    "    match_higgs_to_fjet,\n",
    "    match_higgs_to_jet,\n",
    ")"
   ]
  },
  {
   "cell_type": "code",
   "execution_count": null,
   "id": "909fcd5f",
   "metadata": {
    "ExecuteTime": {
     "end_time": "2023-03-01T21:05:35.908522Z",
     "start_time": "2023-03-01T21:05:35.905284Z"
    }
   },
   "outputs": [],
   "source": [
    "vector.register_awkward()\n",
    "vector.register_numba()\n",
    "ak.numba.register()\n",
    "\n",
    "logging.basicConfig(level=logging.INFO)\n",
    "\n",
    "N_JETS = 10\n",
    "N_FJETS = 3\n",
    "MIN_JET_PT = 20\n",
    "MIN_FJET_PT = 200\n",
    "MIN_JETS = 6\n",
    "PROJECT_DIR = Path.cwd().resolve().parents[3]"
   ]
  },
  {
   "cell_type": "code",
   "execution_count": null,
   "id": "78b6e83c",
   "metadata": {
    "ExecuteTime": {
     "end_time": "2023-03-01T21:05:35.911879Z",
     "start_time": "2023-03-01T21:05:35.909704Z"
    }
   },
   "outputs": [],
   "source": [
    "def to_np_array(ak_array, max_n=10, pad=0):\n",
    "    return ak.fill_none(ak.pad_none(ak_array, max_n, clip=True, axis=-1), pad).to_numpy()"
   ]
  },
  {
   "attachments": {},
   "cell_type": "markdown",
   "id": "4c16f147",
   "metadata": {},
   "source": [
    "#### Mimicing main() in this notebook"
   ]
  },
  {
   "cell_type": "code",
   "execution_count": null,
   "id": "607eaef0",
   "metadata": {
    "ExecuteTime": {
     "end_time": "2023-03-01T21:05:36.245069Z",
     "start_time": "2023-03-01T21:05:35.913784Z"
    }
   },
   "outputs": [],
   "source": [
    "in_files = Path(\"/hhh-vol/data/delphes/v2/GF_HHH_SM_c3_0_d4_0_14TeV/\").glob(\"sample_*.root\")\n",
    "in_files = [str(p) for p in in_files]\n",
    "out_file = \"/hhh-vol/data/delphes/v2/hhh_testing.h5\"\n",
    "train_frac = 0.95"
   ]
  },
  {
   "cell_type": "code",
   "execution_count": null,
   "id": "f0ae3490",
   "metadata": {
    "ExecuteTime": {
     "end_time": "2023-03-01T21:06:07.955143Z",
     "start_time": "2023-03-01T21:05:47.056217Z"
    }
   },
   "outputs": [],
   "source": [
    "file_name = in_files[0]\n",
    "in_file = uproot.open(file_name)\n",
    "events = in_file[\"Delphes\"]\n",
    "num_entries = events.num_entries\n",
    "if \"training\" in out_file:\n",
    "    entry_start = None\n",
    "    entry_stop = int(train_frac * num_entries)\n",
    "else:\n",
    "    entry_start = int(train_frac * num_entries)\n",
    "    entry_stop = None\n",
    "\n",
    "keys = (\n",
    "    [key for key in events.keys() if \"Particle/Particle.\" in key and \"fBits\" not in key]\n",
    "    + [key for key in events.keys() if \"Jet/Jet.\" in key]\n",
    "    + [key for key in events.keys() if \"FatJet/FatJet.\" in key and \"fBits\" not in key]\n",
    ")\n",
    "arrays = events.arrays(keys, entry_start=entry_start, entry_stop=entry_stop)"
   ]
  },
  {
   "cell_type": "code",
   "execution_count": null,
   "id": "bcd1ac7c",
   "metadata": {
    "ExecuteTime": {
     "end_time": "2023-03-01T21:07:23.876611Z",
     "start_time": "2023-03-01T21:07:21.748113Z"
    }
   },
   "outputs": [],
   "source": [
    "part_pid = arrays[\"Particle/Particle.PID\"]  # PDG ID\n",
    "part_m1 = arrays[\"Particle/Particle.M1\"]\n",
    "# note: see some +/-15 PDG ID particles (taus) so h->tautau is turned on\n",
    "# explicitly mask these events out, just keeping hhh6b events\n",
    "condition_hhh6b = np.logical_and(np.abs(part_pid) == 5, part_pid[part_m1] == 25)\n",
    "mask_hhh6b = ak.count(part_pid[condition_hhh6b], axis=-1) == 6\n",
    "part_pid = part_pid[mask_hhh6b]\n",
    "part_pt = arrays[\"Particle/Particle.PT\"][mask_hhh6b]\n",
    "part_eta = arrays[\"Particle/Particle.Eta\"][mask_hhh6b]\n",
    "part_phi = arrays[\"Particle/Particle.Phi\"][mask_hhh6b]\n",
    "part_mass = arrays[\"Particle/Particle.Mass\"][mask_hhh6b]\n",
    "part_m1 = arrays[\"Particle/Particle.M1\"][mask_hhh6b]\n",
    "part_d1 = arrays[\"Particle/Particle.D1\"][mask_hhh6b]\n",
    "\n",
    "# small-radius jet info\n",
    "pt = arrays[\"Jet/Jet.PT\"][mask_hhh6b]\n",
    "eta = arrays[\"Jet/Jet.Eta\"][mask_hhh6b]\n",
    "phi = arrays[\"Jet/Jet.Phi\"][mask_hhh6b]\n",
    "mass = arrays[\"Jet/Jet.Mass\"][mask_hhh6b]\n",
    "btag = arrays[\"Jet/Jet.BTag\"][mask_hhh6b]\n",
    "flavor = arrays[\"Jet/Jet.Flavor\"][mask_hhh6b]\n",
    "\n",
    "# large-radius jet info\n",
    "fj_pt = arrays[\"FatJet/FatJet.PT\"][mask_hhh6b]\n",
    "fj_eta = arrays[\"FatJet/FatJet.Eta\"][mask_hhh6b]\n",
    "fj_phi = arrays[\"FatJet/FatJet.Phi\"][mask_hhh6b]\n",
    "fj_mass = arrays[\"FatJet/FatJet.Mass\"][mask_hhh6b]\n",
    "fj_sdp4 = arrays[\"FatJet/FatJet.SoftDroppedP4[5]\"][mask_hhh6b]\n",
    "# first entry (i = 0) is the total SoftDropped Jet 4-momenta\n",
    "# from i = 1 to 4 are the pruned subjets 4-momenta\n",
    "fj_sdmass = np.sqrt(\n",
    "    fj_sdp4.fE[..., 0] ** 2 - fj_sdp4.fP.fX[..., 0] ** 2 - fj_sdp4.fP.fY[..., 0] ** 2 - fj_sdp4.fP.fZ[..., 0] ** 2\n",
    ")\n",
    "fj_nsub = arrays[\"FatJet/FatJet.NSubJetsSoftDropped\"][mask_hhh6b]\n",
    "fj_taus = arrays[\"FatJet/FatJet.Tau[5]\"][mask_hhh6b]\n",
    "# just saving just tau21 and tau32, can save others if useful\n",
    "fj_tau21 = fj_taus[..., 1] / fj_taus[..., 0]\n",
    "fj_tau32 = fj_taus[..., 2] / fj_taus[..., 1]\n",
    "fj_areap4 = arrays[\"FatJet/FatJet.Area\"][mask_hhh6b]\n",
    "fj_area = np.hypot(fj_areap4.fP.fX, fj_areap4.fP.fY)\n",
    "fj_charge = arrays[\"FatJet/FatJet.Charge\"][mask_hhh6b]\n",
    "fj_ptd = arrays[\"FatJet/FatJet.PTD\"][mask_hhh6b]\n",
    "fj_ehadovereem = arrays[\"FatJet/FatJet.EhadOverEem\"][mask_hhh6b]\n",
    "fj_neutralenergyfrac = arrays[\"FatJet/FatJet.NeutralEnergyFraction\"][mask_hhh6b]\n",
    "fj_chargedenergyfrac = arrays[\"FatJet/FatJet.ChargedEnergyFraction\"][mask_hhh6b]\n",
    "fj_nneutral = arrays[\"FatJet/FatJet.NNeutrals\"][mask_hhh6b]\n",
    "fj_ncharged = arrays[\"FatJet/FatJet.NCharged\"][mask_hhh6b]\n",
    "\n",
    "particles = ak.zip(\n",
    "    {\n",
    "        \"pt\": part_pt,\n",
    "        \"eta\": part_eta,\n",
    "        \"phi\": part_phi,\n",
    "        \"mass\": part_mass,\n",
    "        \"pid\": part_pid,\n",
    "        \"m1\": part_m1,\n",
    "        \"d1\": part_d1,\n",
    "        \"idx\": ak.local_index(part_pid),\n",
    "    },\n",
    "    with_name=\"Momentum4D\",\n",
    ")\n",
    "\n",
    "higgs_condition = np.logical_and(particles.pid == 25, np.abs(particles.pid[particles.d1]) == 5)\n",
    "higgses = ak.to_regular(particles[higgs_condition], axis=1)\n",
    "bquark_condition = np.logical_and(np.abs(particles.pid) == 5, particles.pid[particles.m1] == 25)\n",
    "bquarks = ak.to_regular(particles[bquark_condition], axis=1)\n",
    "\n",
    "jets = ak.zip(\n",
    "    {\n",
    "        \"pt\": pt,\n",
    "        \"eta\": eta,\n",
    "        \"phi\": phi,\n",
    "        \"mass\": mass,\n",
    "        \"flavor\": flavor,\n",
    "        \"idx\": ak.local_index(pt),\n",
    "    },\n",
    "    with_name=\"Momentum4D\",\n",
    ")\n",
    "\n",
    "fjets = ak.zip(\n",
    "    {\n",
    "        \"pt\": fj_pt,\n",
    "        \"eta\": fj_eta,\n",
    "        \"phi\": fj_phi,\n",
    "        \"mass\": fj_mass,\n",
    "        \"idx\": ak.local_index(fj_pt),\n",
    "    },\n",
    "    with_name=\"Momentum4D\",\n",
    ")\n",
    "\n",
    "higgs_idx = match_higgs_to_jet(higgses, bquarks, jets, ak.ArrayBuilder()).snapshot()\n",
    "matched_fj_idx = match_fjet_to_jet(fjets, jets, ak.ArrayBuilder()).snapshot()\n",
    "fj_higgs_idx = match_higgs_to_fjet(higgses, bquarks, fjets, ak.ArrayBuilder()).snapshot()"
   ]
  },
  {
   "cell_type": "code",
   "execution_count": null,
   "id": "cd081bff",
   "metadata": {
    "ExecuteTime": {
     "end_time": "2023-03-01T21:14:43.849139Z",
     "start_time": "2023-03-01T21:14:43.802115Z"
    }
   },
   "outputs": [],
   "source": [
    "higgs_all = ak.flatten(higgs_idx)"
   ]
  },
  {
   "cell_type": "code",
   "execution_count": null,
   "id": "84abc9cf",
   "metadata": {
    "ExecuteTime": {
     "end_time": "2023-03-01T21:15:03.480975Z",
     "start_time": "2023-03-01T21:15:03.043052Z"
    }
   },
   "outputs": [],
   "source": [
    "import matplotlib.pyplot as plt"
   ]
  },
  {
   "cell_type": "code",
   "execution_count": null,
   "id": "1a83c343",
   "metadata": {
    "ExecuteTime": {
     "end_time": "2023-03-01T21:15:11.185169Z",
     "start_time": "2023-03-01T21:15:10.975873Z"
    },
    "scrolled": true
   },
   "outputs": [],
   "source": [
    "plt.hist(higgs_all)"
   ]
  },
  {
   "cell_type": "code",
   "execution_count": null,
   "id": "88c86ab5",
   "metadata": {
    "ExecuteTime": {
     "end_time": "2023-03-01T22:51:00.397863Z",
     "start_time": "2023-03-01T22:51:00.296706Z"
    }
   },
   "outputs": [],
   "source": [
    "def get_n_features_v2(arrays, n):\n",
    "    result = []\n",
    "    for array in arrays:\n",
    "        if ak.num(array, axis=0) > n:\n",
    "            result.append(array[0:n])\n",
    "        else:\n",
    "            result.append(array)\n",
    "    return ak.Array(result)"
   ]
  },
  {
   "cell_type": "code",
   "execution_count": null,
   "id": "96764b54",
   "metadata": {
    "ExecuteTime": {
     "end_time": "2023-03-01T22:52:43.242748Z",
     "start_time": "2023-03-01T22:52:42.719274Z"
    }
   },
   "outputs": [],
   "source": [
    "# keep events with >= MIN_JETS small-radius jets\n",
    "mask_minjets = ak.num(pt[pt > MIN_JET_PT]) >= MIN_JETS\n",
    "# sort by btag first, then pt\n",
    "sorted_by_pt = ak.argsort(pt, ascending=False, axis=-1)\n",
    "sorted = ak.concatenate([sorted_by_pt[btag == 1], sorted_by_pt[btag == 0]], axis=-1)\n",
    "btag = btag[sorted][mask_minjets]\n",
    "pt = pt[sorted][mask_minjets]\n",
    "eta = eta[sorted][mask_minjets]\n",
    "phi = phi[sorted][mask_minjets]\n",
    "higgs_idx = higgs_idx[sorted][mask_minjets]\n",
    "matched_fj_idx = matched_fj_idx[sorted][mask_minjets]\n",
    "\n",
    "btag = get_n_features_v2(btag, N_JETS)\n",
    "pt = get_n_features_v2(pt, N_JETS)\n",
    "eta = get_n_features_v2(eta, N_JETS)\n",
    "phi = get_n_features_v2(phi, N_JETS)\n",
    "higgs_idx = get_n_features_v2(higgs_idx, N_JETS)\n",
    "matched_fj_idx = get_n_features_v2(matched_fj_idx, N_JETS)\n",
    "\n",
    "# sort by btag first, then pt\n",
    "sorted_by_fj_pt = ak.argsort(fj_pt, ascending=False, axis=-1)\n",
    "fj_pt = fj_pt[sorted_by_fj_pt][mask_minjets]\n",
    "fj_eta = fj_eta[sorted_by_fj_pt][mask_minjets]\n",
    "fj_phi = fj_phi[sorted_by_fj_pt][mask_minjets]\n",
    "fj_mass = fj_mass[sorted_by_fj_pt][mask_minjets]\n",
    "fj_sdmass = fj_sdmass[sorted_by_fj_pt][mask_minjets]\n",
    "fj_nsub = fj_nsub[sorted_by_fj_pt][mask_minjets]\n",
    "fj_tau21 = fj_tau21[sorted_by_fj_pt][mask_minjets]\n",
    "fj_tau32 = fj_tau32[sorted_by_fj_pt][mask_minjets]\n",
    "fj_area = fj_area[sorted_by_fj_pt][mask_minjets]\n",
    "fj_charge = fj_charge[sorted_by_fj_pt][mask_minjets]\n",
    "fj_ptd = fj_ptd[sorted_by_fj_pt][mask_minjets]\n",
    "fj_ehadovereem = fj_ehadovereem[sorted_by_fj_pt][mask_minjets]\n",
    "fj_neutralenergyfrac = fj_neutralenergyfrac[sorted_by_fj_pt][mask_minjets]\n",
    "fj_chargedenergyfrac = fj_chargedenergyfrac[sorted_by_fj_pt][mask_minjets]\n",
    "fj_nneutral = fj_nneutral[sorted_by_fj_pt][mask_minjets]\n",
    "fj_ncharged = fj_ncharged[sorted_by_fj_pt][mask_minjets]\n",
    "fj_higgs_idx = fj_higgs_idx[sorted_by_fj_pt][mask_minjets]"
   ]
  },
  {
   "cell_type": "code",
   "execution_count": null,
   "id": "d786b3c8",
   "metadata": {
    "ExecuteTime": {
     "end_time": "2023-03-01T22:56:45.167710Z",
     "start_time": "2023-03-01T22:56:45.157078Z"
    }
   },
   "outputs": [],
   "source": [
    "# mask to define zero-padded small-radius jets\n",
    "mask = pt > MIN_JET_PT\n",
    "\n",
    "# mask to define zero-padded large-radius jets\n",
    "fj_mask = fj_pt > MIN_FJET_PT\n",
    "\n",
    "# index of small-radius jet if Higgs is reconstructed\n",
    "h1_bs = ak.local_index(higgs_idx)[higgs_idx == 1]\n",
    "h2_bs = ak.local_index(higgs_idx)[higgs_idx == 2]\n",
    "h3_bs = ak.local_index(higgs_idx)[higgs_idx == 3]\n",
    "\n",
    "# index of large-radius jet if Higgs is reconstructed\n",
    "h1_bb = ak.local_index(fj_higgs_idx)[fj_higgs_idx == 1]\n",
    "h2_bb = ak.local_index(fj_higgs_idx)[fj_higgs_idx == 2]\n",
    "h3_bb = ak.local_index(fj_higgs_idx)[fj_higgs_idx == 3]"
   ]
  },
  {
   "cell_type": "code",
   "execution_count": null,
   "id": "1c4c5d23",
   "metadata": {
    "ExecuteTime": {
     "end_time": "2023-03-01T22:56:59.260143Z",
     "start_time": "2023-03-01T22:56:59.245237Z"
    }
   },
   "outputs": [],
   "source": [
    "# check/fix small-radius jet truth (ensure max 2 small-radius jets per higgs)\n",
    "check = (\n",
    "    np.unique(ak.count(h1_bs, axis=-1)).to_list()\n",
    "    + np.unique(ak.count(h2_bs, axis=-1)).to_list()\n",
    "    + np.unique(ak.count(h3_bs, axis=-1)).to_list()\n",
    ")\n",
    "if 3 in check:\n",
    "    logging.warning(\"some Higgs bosons match to 3 small-radius jets! Check truth\")\n",
    "\n",
    "# check/fix large-radius jet truth (ensure max 1 large-radius jet per higgs)\n",
    "fj_check = (\n",
    "    np.unique(ak.count(h1_bb, axis=-1)).to_list()\n",
    "    + np.unique(ak.count(h2_bb, axis=-1)).to_list()\n",
    "    + np.unique(ak.count(h3_bb, axis=-1)).to_list()\n",
    ")\n",
    "if 2 in fj_check:\n",
    "    logging.warning(\"some Higgs bosons match to 2 large-radius jets! Check truth\")\n",
    "\n",
    "h1_bs = ak.fill_none(ak.pad_none(h1_bs, 2, clip=True), -1)\n",
    "h2_bs = ak.fill_none(ak.pad_none(h2_bs, 2, clip=True), -1)\n",
    "h3_bs = ak.fill_none(ak.pad_none(h3_bs, 2, clip=True), -1)\n",
    "\n",
    "h1_bb = ak.fill_none(ak.pad_none(h1_bb, 1, clip=True), -1)\n",
    "h2_bb = ak.fill_none(ak.pad_none(h2_bb, 1, clip=True), -1)\n",
    "h3_bb = ak.fill_none(ak.pad_none(h3_bb, 1, clip=True), -1)\n",
    "\n",
    "h1_b1, h1_b2 = h1_bs[:, 0], h1_bs[:, 1]\n",
    "h2_b1, h2_b2 = h2_bs[:, 0], h2_bs[:, 1]\n",
    "h3_b1, h3_b2 = h3_bs[:, 0], h3_bs[:, 1]\n",
    "\n",
    "# mask whether Higgs can be reconstructed as 2 small-radius jet\n",
    "h1_mask = ak.all(h1_bs != -1, axis=-1)\n",
    "h2_mask = ak.all(h2_bs != -1, axis=-1)\n",
    "h3_mask = ak.all(h3_bs != -1, axis=-1)\n",
    "\n",
    "# mask whether Higgs can be reconstructed as 1 large-radius jet\n",
    "h1_fj_mask = ak.all(h1_bb != -1, axis=-1)\n",
    "h2_fj_mask = ak.all(h2_bb != -1, axis=-1)\n",
    "h3_fj_mask = ak.all(h3_bb != -1, axis=-1)"
   ]
  },
  {
   "cell_type": "code",
   "execution_count": null,
   "id": "8c17760f",
   "metadata": {
    "ExecuteTime": {
     "end_time": "2023-03-01T22:57:28.796722Z",
     "start_time": "2023-03-01T22:57:28.689226Z"
    }
   },
   "outputs": [],
   "source": [
    "plt.hist(h1_b1)"
   ]
  },
  {
   "cell_type": "code",
   "execution_count": null,
   "id": "b8f31c9b",
   "metadata": {},
   "outputs": [],
   "source": []
  }
 ],
 "metadata": {
  "kernelspec": {
   "display_name": "Python 3 (ipykernel)",
   "language": "python",
   "name": "python3"
  },
  "language_info": {
   "codemirror_mode": {
    "name": "ipython",
    "version": 3
   },
   "file_extension": ".py",
   "mimetype": "text/x-python",
   "name": "python",
   "nbconvert_exporter": "python",
   "pygments_lexer": "ipython3",
   "version": "3.10.6"
  }
 },
 "nbformat": 4,
 "nbformat_minor": 5
}
