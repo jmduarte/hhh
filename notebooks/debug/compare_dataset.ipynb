{
 "cells": [
  {
   "cell_type": "code",
   "execution_count": null,
   "id": "782a9046",
   "metadata": {
    "ExecuteTime": {
     "end_time": "2023-03-01T21:43:14.399679Z",
     "start_time": "2023-03-01T21:43:14.295272Z"
    }
   },
   "outputs": [],
   "source": [
    "import h5py\n",
    "import numpy as np"
   ]
  },
  {
   "cell_type": "code",
   "execution_count": null,
   "id": "dbc80769",
   "metadata": {
    "ExecuteTime": {
     "end_time": "2023-03-01T21:45:56.061690Z",
     "start_time": "2023-03-01T21:45:56.059736Z"
    }
   },
   "outputs": [],
   "source": [
    "fn_cms = \"/hhh-vol/data/cms/v12/hhh_testing.h5\"\n",
    "fn_delphes = \"/hhh-vol/data/delphes/v2/hhh_testing.h5\""
   ]
  },
  {
   "cell_type": "code",
   "execution_count": null,
   "id": "59f480e0",
   "metadata": {
    "ExecuteTime": {
     "end_time": "2023-03-01T21:46:17.122579Z",
     "start_time": "2023-03-01T21:45:56.399709Z"
    }
   },
   "outputs": [],
   "source": [
    "f1 = h5py.File(fn_cms, 'r+')\n",
    "f2 = h5py.File(fn_delphes, 'r+')"
   ]
  },
  {
   "cell_type": "code",
   "execution_count": null,
   "id": "10b7bfbe",
   "metadata": {
    "ExecuteTime": {
     "end_time": "2023-03-01T21:51:12.627915Z",
     "start_time": "2023-03-01T21:51:12.478212Z"
    }
   },
   "outputs": [],
   "source": [
    "import matplotlib.pyplot as plt"
   ]
  },
  {
   "cell_type": "code",
   "execution_count": null,
   "id": "551124be",
   "metadata": {
    "ExecuteTime": {
     "end_time": "2023-03-01T21:54:26.269403Z",
     "start_time": "2023-03-01T21:54:25.296704Z"
    }
   },
   "outputs": [],
   "source": [
    "fig, (ax1, ax2) = plt.subplots(1, 2, figsize=(10, 5))\n",
    "ax1.hist(f1[\"TARGETS/h2/b1\"])\n",
    "ax2.hist(f2[\"TARGETS/h2/b1\"])"
   ]
  },
  {
   "cell_type": "code",
   "execution_count": null,
   "id": "591a5fc6",
   "metadata": {
    "ExecuteTime": {
     "end_time": "2023-03-01T21:56:38.742103Z",
     "start_time": "2023-03-01T21:56:38.736114Z"
    }
   },
   "outputs": [],
   "source": [
    "print(np.min(f1[\"TARGETS/h3/b1\"]))\n",
    "print(np.min(f2[\"TARGETS/h3/b1\"]))"
   ]
  },
  {
   "cell_type": "code",
   "execution_count": null,
   "id": "c04b614a",
   "metadata": {},
   "outputs": [],
   "source": []
  }
 ],
 "metadata": {
  "kernelspec": {
   "display_name": "Python 3 (ipykernel)",
   "language": "python",
   "name": "python3"
  },
  "language_info": {
   "codemirror_mode": {
    "name": "ipython",
    "version": 3
   },
   "file_extension": ".py",
   "mimetype": "text/x-python",
   "name": "python",
   "nbconvert_exporter": "python",
   "pygments_lexer": "ipython3",
   "version": "3.10.6"
  }
 },
 "nbformat": 4,
 "nbformat_minor": 5
}
