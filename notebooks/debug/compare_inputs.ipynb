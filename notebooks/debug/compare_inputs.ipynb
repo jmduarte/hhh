{
 "cells": [
  {
   "cell_type": "code",
   "execution_count": null,
   "id": "782a9046",
   "metadata": {
    "ExecuteTime": {
     "end_time": "2023-03-01T21:43:14.399679Z",
     "start_time": "2023-03-01T21:43:14.295272Z"
    },
    "tags": []
   },
   "outputs": [],
   "source": [
    "import h5py\n",
    "import numpy as np"
   ]
  },
  {
   "cell_type": "code",
   "execution_count": null,
   "id": "dbc80769",
   "metadata": {
    "ExecuteTime": {
     "end_time": "2023-03-01T21:45:56.061690Z",
     "start_time": "2023-03-01T21:45:56.059736Z"
    },
    "tags": []
   },
   "outputs": [],
   "source": [
    "fn_delphes = \"../../data/delphes/v2/hhh_testing.h5\""
   ]
  },
  {
   "cell_type": "code",
   "execution_count": null,
   "id": "59f480e0",
   "metadata": {
    "ExecuteTime": {
     "end_time": "2023-03-01T21:46:17.122579Z",
     "start_time": "2023-03-01T21:45:56.399709Z"
    },
    "tags": []
   },
   "outputs": [],
   "source": [
    "f2 = h5py.File(fn_delphes, 'r+')"
   ]
  },
  {
   "cell_type": "code",
   "execution_count": null,
   "id": "10b7bfbe",
   "metadata": {
    "ExecuteTime": {
     "end_time": "2023-03-01T21:51:12.627915Z",
     "start_time": "2023-03-01T21:51:12.478212Z"
    },
    "tags": []
   },
   "outputs": [],
   "source": [
    "import matplotlib.pyplot as plt"
   ]
  },
  {
   "cell_type": "code",
   "execution_count": null,
   "id": "26581808-7127-48e8-aa99-40762ebc3d2f",
   "metadata": {
    "ExecuteTime": {
     "end_time": "2023-03-01T21:54:26.269403Z",
     "start_time": "2023-03-01T21:54:25.296704Z"
    },
    "tags": []
   },
   "outputs": [],
   "source": [
    "# get signal mask\n",
    "bh1 = f2['TARGETS']['bh1']['bb'][:]\n",
    "bh2 = f2['TARGETS']['bh2']['bb'][:]\n",
    "bh3 = f2['TARGETS']['bh3']['bb'][:]\n",
    "\n",
    "mask_fj1_bh1 = (bh1 == 0).astype(float)\n",
    "mask_fj1_bh2 = (bh2 == 0).astype(float)\n",
    "mask_fj1_bh3 = (bh3 == 0).astype(float)\n",
    "mask_fj1 = mask_fj1_bh1 + mask_fj1_bh2 + mask_fj1_bh3\n",
    "\n",
    "print(np.sum(mask_fj1), \"matched to fj1\")\n",
    "\n",
    "mask_fj2_bh1 = (bh1 == 1).astype(float)\n",
    "mask_fj2_bh2 = (bh2 == 1).astype(float)\n",
    "mask_fj2_bh3 = (bh3 == 1).astype(float)\n",
    "mask_fj2 = mask_fj2_bh1 + mask_fj2_bh2 + mask_fj2_bh3\n",
    "\n",
    "print(np.sum(mask_fj2), \"matched to fj2\")\n",
    "\n",
    "mask_fj3_bh1 = (bh1 == 2).astype(float)\n",
    "mask_fj3_bh2 = (bh2 == 2).astype(float)\n",
    "mask_fj3_bh3 = (bh3 == 2).astype(float)\n",
    "mask_fj3 = mask_fj3_bh1 + mask_fj3_bh2 + mask_fj3_bh3\n",
    "\n",
    "print(np.sum(mask_fj3), \"matched to fj3\")\n",
    "\n",
    "mask_signal = np.stack([mask_fj1, mask_fj2, mask_fj3], axis=1).flatten()\n",
    "\n",
    "print(np.sum(mask_signal), \"total matched jets\")\n",
    "\n",
    "# get zero mask\n",
    "mask_zero = f2['INPUTS']['BoostedJets'][\"MASK\"][:].astype(float).flatten()\n",
    "\n",
    "print(np.sum(mask_zero), \"total jets\")"
   ]
  },
  {
   "cell_type": "code",
   "execution_count": null,
   "id": "58c92e36-3c58-477d-a782-2131fe111855",
   "metadata": {
    "ExecuteTime": {
     "end_time": "2023-03-01T21:54:26.269403Z",
     "start_time": "2023-03-01T21:54:25.296704Z"
    },
    "tags": []
   },
   "outputs": [],
   "source": [
    "for key in f2['INPUTS']['BoostedJets'].keys():\n",
    "    feature = f2['INPUTS']['BoostedJets'][key][:].astype(float).flatten()\n",
    "\n",
    "    xmin = np.min(feature)\n",
    "    xmax = np.max(feature)\n",
    "    bins = np.linspace(xmin, xmax, 50)\n",
    "    plt.figure()\n",
    "    plt.hist(feature, weights=(1 - mask_signal) * mask_zero, bins=bins, density=True, alpha=0.5, label=\"unmatched\")\n",
    "    plt.hist(feature, weights=mask_signal * mask_zero, bins=bins, density=True, alpha=0.5, label=\"H(bb) matched\")\n",
    "    plt.xlabel(key)\n",
    "    plt.legend()\n",
    "    plt.show()"
   ]
  },
  {
   "cell_type": "code",
   "execution_count": null,
   "id": "5557772e-29a1-4e1b-bf01-fb6eb7c35b16",
   "metadata": {},
   "outputs": [],
   "source": []
  }
 ],
 "metadata": {
  "kernelspec": {
   "display_name": "Python 3 (ipykernel)",
   "language": "python",
   "name": "python3"
  },
  "language_info": {
   "codemirror_mode": {
    "name": "ipython",
    "version": 3
   },
   "file_extension": ".py",
   "mimetype": "text/x-python",
   "name": "python",
   "nbconvert_exporter": "python",
   "pygments_lexer": "ipython3",
   "version": "3.10.10"
  }
 },
 "nbformat": 4,
 "nbformat_minor": 5
}
