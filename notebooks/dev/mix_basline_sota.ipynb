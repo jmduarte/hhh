{
 "cells": [
  {
   "cell_type": "code",
   "execution_count": 1,
   "id": "2664c5a5",
   "metadata": {},
   "outputs": [],
   "source": [
    "import itertools\n",
    "import logging\n",
    "from pathlib import Path\n",
    "import numba as nb\n",
    "\n",
    "import awkward as ak\n",
    "import click\n",
    "import h5py\n",
    "import numpy as np\n",
    "import vector\n",
    "\n",
    "from src.data.cms.convert_to_h5 import MIN_JETS, N_JETS, N_FJETS\n",
    "\n",
    "vector.register_awkward()\n",
    "\n",
    "logging.basicConfig(level=logging.INFO)"
   ]
  },
  {
   "cell_type": "code",
   "execution_count": 2,
   "id": "06140c21",
   "metadata": {},
   "outputs": [],
   "source": [
    "# a function that loads jets from hhh_test.h5\n",
    "def load_jets(in_file):\n",
    "    # load jets from the h5\n",
    "    pt = ak.Array(in_file[\"INPUTS\"][\"Jets\"][\"pt\"])\n",
    "    eta = ak.Array(in_file[\"INPUTS\"][\"Jets\"][\"eta\"])\n",
    "    phi = ak.Array(in_file[\"INPUTS\"][\"Jets\"][\"phi\"])\n",
    "    btag = ak.Array(in_file[\"INPUTS\"][\"Jets\"][\"btag\"])\n",
    "    mass = ak.Array(in_file[\"INPUTS\"][\"Jets\"][\"mass\"])\n",
    "    mask = ak.Array(in_file[\"INPUTS\"][\"Jets\"][\"MASK\"])\n",
    "\n",
    "    jets = ak.zip(\n",
    "        {\n",
    "            \"pt\": pt,\n",
    "            \"eta\": eta,\n",
    "            \"phi\": phi,\n",
    "            \"btag\": btag,\n",
    "            \"mass\": mass,\n",
    "            \"mask\": mask\n",
    "        },\n",
    "        with_name=\"Momentum4D\",\n",
    "    )\n",
    "    \n",
    "    return jets"
   ]
  },
  {
   "cell_type": "code",
   "execution_count": 3,
   "id": "a356a240",
   "metadata": {},
   "outputs": [],
   "source": [
    "# a function that loads fat jets from hhh_test.h5\n",
    "def load_fjets(in_file):\n",
    "     # load fatjets from h5\n",
    "    fj_pt = ak.Array(in_file[\"INPUTS\"][\"BoostedJets\"][\"fj_pt\"])\n",
    "    fj_eta = ak.Array(in_file[\"INPUTS\"][\"BoostedJets\"][\"fj_eta\"])\n",
    "    fj_phi = ak.Array(in_file[\"INPUTS\"][\"BoostedJets\"][\"fj_phi\"])\n",
    "    fj_mass = ak.Array(in_file[\"INPUTS\"][\"BoostedJets\"][\"fj_mass\"])\n",
    "    fj_mask = ak.Array(in_file[\"INPUTS\"][\"BoostedJets\"][\"MASK\"])\n",
    "\n",
    "    fjets = ak.zip(\n",
    "        {\n",
    "            \"pt\": fj_pt,\n",
    "            \"eta\": fj_eta,\n",
    "            \"phi\": fj_phi,\n",
    "            'mass': fj_mass,\n",
    "            'mask': fj_mask\n",
    "        },\n",
    "        with_name=\"Momentum4D\"\n",
    "    )\n",
    "    \n",
    "    return fjets"
   ]
  },
  {
   "cell_type": "code",
   "execution_count": 4,
   "id": "2ae41356",
   "metadata": {},
   "outputs": [],
   "source": [
    "FJET_DR = 0.8\n",
    "\n",
    "@nb.njit\n",
    "def match_fjet_to_jet(fjets, jets, builder):\n",
    "    for fjets_event, jets_event in zip(fjets, jets):\n",
    "        builder.begin_list()\n",
    "        for i, jet in enumerate(jets_event):\n",
    "            match_idx = -1\n",
    "            for j, fjet in enumerate(fjets_event):\n",
    "                if jet.deltaR(fjet) < FJET_DR:\n",
    "                    match_idx = j\n",
    "            builder.append(match_idx)\n",
    "        builder.end_list()\n",
    "\n",
    "    return builder"
   ]
  },
  {
   "cell_type": "code",
   "execution_count": 5,
   "id": "d357f1ce",
   "metadata": {},
   "outputs": [],
   "source": [
    "@nb.njit\n",
    "def ja_list_2_ak(JET_ASSIGNMENTS, NrH, jcounts, builder):\n",
    "    builder.begin_list()\n",
    "    for NrH_e, jcounts_e in zip(NrH, jcounts):\n",
    "        builder.begin_list()\n",
    "        ja = JET_ASSIGNMENTS[NrH_e][jcounts_e]\n",
    "        for comb in ja:\n",
    "            builder.begin_list()\n",
    "            for b1_b2 in comb:\n",
    "                builder.begin_list()\n",
    "                for bx in b1_b2:\n",
    "                    builder.append(bx)\n",
    "                builder.end_list()\n",
    "            builder.end_list()\n",
    "        builder.end_list()\n",
    "    \n",
    "    builder.end_list()\n",
    "    return builder"
   ]
  },
  {
   "cell_type": "code",
   "execution_count": 6,
   "id": "a612ef7a",
   "metadata": {},
   "outputs": [],
   "source": [
    "@nb.njit\n",
    "def chi2_matching(js, jcounts, NrHs, jet_assignments, builder):\n",
    "    HIGGS_MASS = 125\n",
    "    builder.begin_list()\n",
    "    for js_e, jcount_e, ja_e, NrH_e in zip(js, jcounts, jet_assignments, NrHs):\n",
    "        builder.begin_list()\n",
    "        if NrH_e == 0:\n",
    "            continue\n",
    "\n",
    "        chi2_argmin = 0\n",
    "        chi2_min = 99999\n",
    "        for i, comb in enumerate(ja_e):\n",
    "            chi2 = 0\n",
    "            for b1_b2 in comb:\n",
    "                j_b1_idx = b1_b2[0]\n",
    "                j_b2_idx = b1_b2[1]\n",
    "                \n",
    "                j_b1 = js_e[j_b1_idx]\n",
    "                j_b2 = js_e[j_b2_idx]\n",
    "                mjj = (j_b1 + j_b2).mass\n",
    "                \n",
    "                chi2 += np.square(mjj - HIGGS_MASS)\n",
    "            if chi2<chi2_min:\n",
    "                argmin = i\n",
    "\n",
    "            \n",
    "        best_comb = ja_e[chi2_argmin]\n",
    "        for b1_b2 in best_comb:\n",
    "            builder.begin_list()\n",
    "            for bx in b1_b2:\n",
    "                builder.append(bx)\n",
    "            builder.end_list()\n",
    "        \n",
    "        builder.end_list()\n",
    "        \n",
    "    builder.end_list()\n",
    "\n",
    "    return builder"
   ]
  },
  {
   "cell_type": "code",
   "execution_count": 7,
   "id": "3db8bcf0",
   "metadata": {},
   "outputs": [],
   "source": [
    "# for ja_e in jet_assignments_ak:\n",
    "#     for comb in ja_e:\n",
    "#         for b1_b2 in comb:\n",
    "#             print(b1_b2[0], b1_b2[1])"
   ]
  },
  {
   "cell_type": "code",
   "execution_count": 8,
   "id": "6d2502b7",
   "metadata": {},
   "outputs": [],
   "source": [
    "pred_file = \"//home/billyli/UCSD/hhh/reports/bv2/pred_baseline.h5\"\n",
    "test_file = \"//home/billyli/UCSD/hhh/reports/bv2/hhh_test.h5\""
   ]
  },
  {
   "cell_type": "code",
   "execution_count": 13,
   "id": "1662a585",
   "metadata": {},
   "outputs": [
    {
     "name": "stdout",
     "output_type": "stream",
     "text": [
      "42815 * var * var * var * int64\n"
     ]
    }
   ],
   "source": [
    "# load jets and fat jets from test h5 file\n",
    "in_file = h5py.File(test_file)\n",
    "js = load_jets(in_file)\n",
    "js_idx = ak.local_index(js)\n",
    "fjs = load_fjets(in_file)\n",
    "fj_idx = ak.local_index(fjs)\n",
    "\n",
    "# select real fjets based on pT and mass cut\n",
    "fj_mask = fjs['mask']\n",
    "fjmass_cond = (fjs['mass']>110) & (fjs['mass']<140)\n",
    "fjpt_cond = fjs['pt']>300\n",
    "fj_cond = fjmass_cond & fjpt_cond & fj_mask\n",
    "fjs_selected = fjs[fj_cond]\n",
    "\n",
    "# save the qualified fjets indices\n",
    "# they will be bH candidates\n",
    "bh_fj_idx = fj_idx[fj_cond]\n",
    "\n",
    "# find ak4jets that matched to selected ak8jets (dR check)\n",
    "matched_fj_idx = match_fjet_to_jet(fjs_selected, js, ak.ArrayBuilder()).snapshot()\n",
    "\n",
    "# remove overlapped ak4jets and padded jets\n",
    "unoverlapped = matched_fj_idx==-1\n",
    "unmasked = js['mask']\n",
    "j_cond = unoverlapped & unmasked\n",
    "js_selected = js[j_cond]\n",
    "idx_js_selected = js_idx[j_cond]\n",
    "\n",
    "# get the auxiliary information for chi2_matching \n",
    "jcounts = ak.count(js_selected, axis=-1)\n",
    "n_bhs_matched = ak.count(fjs_selected, axis=-1)\n",
    "NrHs = (3-n_bhs_matched).to_numpy()\n",
    "\n",
    "# chi2 \n",
    "\n",
    "# mask events that don't have enough resolved jets to match to 3H (X bH + Y rH)\n",
    "# those events will be extracted later\n",
    "suff = jcounts >= NrHs*2\n",
    "js_suff = js_selected[suff]\n",
    "jcounts_suff = jcounts[suff]\n",
    "NrHs_suff = NrHs[suff]\n",
    "\n",
    "# construct jet assignment look-up array that has \n",
    "# all combinations of input jets\n",
    "# for different numbers of resolved higgs and jets\n",
    "JET_ASSIGNMENTS_ak = []\n",
    "for nH in range(0, 1+3):\n",
    "    JET_ASSIGNMENTS_ak.append([])\n",
    "    for nj in range(0, nH*2):\n",
    "        JET_ASSIGNMENTS_ak[nH].append([])\n",
    "    for nj in range(nH*2, N_JETS + 1):\n",
    "        JET_ASSIGNMENTS_ak[nH].append([])\n",
    "        a = list(itertools.combinations(range(nj), 2))\n",
    "        b = np.array([ assignment for assignment in itertools.combinations(a, nH) if len(np.unique(assignment)) == nH*2])\n",
    "        JET_ASSIGNMENTS_ak[nH][nj] = b\n",
    "\n",
    "JET_ASSIGNMENTS_ak = ak.Array(JET_ASSIGNMENTS_ak)\n",
    "\n",
    "# find the jet assignment combinations for each event\n",
    "jet_assignments_ak = ja_list_2_ak(JET_ASSIGNMENTS_ak, NrHs_suff, jcounts_suff, ak.ArrayBuilder()).snapshot()\n",
    "jet_assignments_ak = ak.flatten(jet_assignments_ak, axis=1)\n",
    "print(jet_assignments_ak.type)\n",
    "\n",
    "# assign ak4 jets to the resolved higgs by chi2\n",
    "rh_rj_idx_suff = chi2_matching(js_suff[0:1000], jcounts_suff[0:1000], NrHs_suff[0:1000], jet_assignments_ak[0:1000], ak.ArrayBuilder()).snapshot()\n",
    "\n",
    "# For events that don't have enough jets\n",
    "# try reconstruct one less higgs\n",
    "\n",
    "\n",
    "# save all assignment to the h5file\n"
   ]
  },
  {
   "cell_type": "code",
   "execution_count": 14,
   "id": "d7607a1b",
   "metadata": {},
   "outputs": [],
   "source": [
    "rh_rj_idx_suff_flatten = ak.flatten(rh_rj_idx_suff, axis=1)"
   ]
  },
  {
   "cell_type": "code",
   "execution_count": 15,
   "id": "c863eda0",
   "metadata": {},
   "outputs": [
    {
     "data": {
      "text/html": [
       "<pre>[[[0, 1], [2, 3], [4, 5]],\n",
       " [[0, 1], [2, 3], [4, 5]],\n",
       " [[0, 1], [2, 3], [4, 5]],\n",
       " [[0, 1], [2, 3], [4, 5]],\n",
       " [[0, 1], [2, 3], [4, 5]],\n",
       " [[0, 1], [2, 3], [4, 5]],\n",
       " [[0, 1], [2, 3], [4, 5]],\n",
       " [[0, 1], [2, 3], [4, 5]],\n",
       " [[0, 1], [2, 3]],\n",
       " [[0, 1], [2, 3], [4, 5]],\n",
       " ...,\n",
       " [[0, 1], [2, 3], [4, 5]],\n",
       " [[0, 1], [2, 3], [4, 5]],\n",
       " [[0, 1], [2, 3], [4, 5]],\n",
       " [[0, 1], [2, 3], [4, 5]],\n",
       " [[0, 1], [2, 3], [4, 5]],\n",
       " [[0, 1], [2, 3], [4, 5]],\n",
       " [[0, 1], [2, 3]],\n",
       " [[0, 1], [2, 3], [4, 5]],\n",
       " [[0, 1]]]\n",
       "------------------------------\n",
       "type: 1000 * var * var * int64</pre>"
      ],
      "text/plain": [
       "<Array [[[0, 1], [2, ...], [4, 5]], ...] type='1000 * var * var * int64'>"
      ]
     },
     "execution_count": 15,
     "metadata": {},
     "output_type": "execute_result"
    }
   ],
   "source": [
    "rh_rj_idx_suff_flatten"
   ]
  },
  {
   "cell_type": "code",
   "execution_count": 16,
   "id": "202baf84",
   "metadata": {},
   "outputs": [
    {
     "data": {
      "text/html": [
       "<pre>[[[[0, 1], [2, 3], [4, 5]], [[0, 1], [2, 3], [4, 5]], ..., [...], [[0, 1]]]]\n",
       "----------------------------------------------------------------------------\n",
       "type: 1 * var * var * var * int64</pre>"
      ],
      "text/plain": [
       "<Array [[[[0, 1], [2, ...], [4, 5]], ...]] type='1 * var * var * var * int64'>"
      ]
     },
     "execution_count": 16,
     "metadata": {},
     "output_type": "execute_result"
    }
   ],
   "source": [
    "rh_rj_idx_suff"
   ]
  },
  {
   "cell_type": "code",
   "execution_count": null,
   "id": "2dd6e9b2",
   "metadata": {},
   "outputs": [],
   "source": []
  }
 ],
 "metadata": {
  "kernelspec": {
   "display_name": "Python 3 (ipykernel)",
   "language": "python",
   "name": "python3"
  },
  "language_info": {
   "codemirror_mode": {
    "name": "ipython",
    "version": 3
   },
   "file_extension": ".py",
   "mimetype": "text/x-python",
   "name": "python",
   "nbconvert_exporter": "python",
   "pygments_lexer": "ipython3",
   "version": "3.9.16"
  }
 },
 "nbformat": 4,
 "nbformat_minor": 5
}
