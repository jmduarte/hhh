{
 "cells": [
  {
   "cell_type": "code",
   "execution_count": 1,
   "id": "2664c5a5",
   "metadata": {},
   "outputs": [],
   "source": [
    "import itertools\n",
    "import logging\n",
    "from pathlib import Path\n",
    "import numba as nb\n",
    "\n",
    "import awkward as ak\n",
    "import click\n",
    "import h5py\n",
    "import numpy as np\n",
    "import vector\n",
    "\n",
    "from src.data.cms.convert_to_h5 import MIN_JETS, N_JETS, N_FJETS\n",
    "\n",
    "vector.register_awkward()\n",
    "\n",
    "logging.basicConfig(level=logging.INFO)"
   ]
  },
  {
   "cell_type": "code",
   "execution_count": 2,
   "id": "06140c21",
   "metadata": {},
   "outputs": [],
   "source": [
    "# a function that loads jets from hhh_test.h5\n",
    "def load_jets(in_file):\n",
    "    # load jets from the h5\n",
    "    pt = ak.Array(in_file[\"INPUTS\"][\"Jets\"][\"pt\"])\n",
    "    eta = ak.Array(in_file[\"INPUTS\"][\"Jets\"][\"eta\"])\n",
    "    phi = ak.Array(in_file[\"INPUTS\"][\"Jets\"][\"phi\"])\n",
    "    btag = ak.Array(in_file[\"INPUTS\"][\"Jets\"][\"btag\"])\n",
    "    mass = ak.Array(in_file[\"INPUTS\"][\"Jets\"][\"mass\"])\n",
    "    mask = ak.Array(in_file[\"INPUTS\"][\"Jets\"][\"MASK\"])\n",
    "\n",
    "    jets = ak.zip(\n",
    "        {\n",
    "            \"pt\": pt,\n",
    "            \"eta\": eta,\n",
    "            \"phi\": phi,\n",
    "            \"btag\": btag,\n",
    "            \"mass\": mass,\n",
    "            \"mask\": mask\n",
    "        },\n",
    "        with_name=\"Momentum4D\",\n",
    "    )\n",
    "    \n",
    "    return jets"
   ]
  },
  {
   "cell_type": "code",
   "execution_count": 3,
   "id": "a356a240",
   "metadata": {},
   "outputs": [],
   "source": [
    "# a function that loads fat jets from hhh_test.h5\n",
    "def load_fjets(in_file):\n",
    "     # load fatjets from h5\n",
    "    fj_pt = ak.Array(in_file[\"INPUTS\"][\"BoostedJets\"][\"fj_pt\"])\n",
    "    fj_eta = ak.Array(in_file[\"INPUTS\"][\"BoostedJets\"][\"fj_eta\"])\n",
    "    fj_phi = ak.Array(in_file[\"INPUTS\"][\"BoostedJets\"][\"fj_phi\"])\n",
    "    fj_mass = ak.Array(in_file[\"INPUTS\"][\"BoostedJets\"][\"fj_mass\"])\n",
    "    fj_mask = ak.Array(in_file[\"INPUTS\"][\"BoostedJets\"][\"MASK\"])\n",
    "\n",
    "    fjets = ak.zip(\n",
    "        {\n",
    "            \"pt\": fj_pt,\n",
    "            \"eta\": fj_eta,\n",
    "            \"phi\": fj_phi,\n",
    "            'mass': fj_mass,\n",
    "            'mask': fj_mask\n",
    "        },\n",
    "        with_name=\"Momentum4D\"\n",
    "    )\n",
    "    \n",
    "    return fjets"
   ]
  },
  {
   "cell_type": "code",
   "execution_count": 4,
   "id": "2ae41356",
   "metadata": {},
   "outputs": [],
   "source": [
    "FJET_DR = 0.8\n",
    "\n",
    "@nb.njit\n",
    "def match_fjet_to_jet(fjets, jets, builder):\n",
    "    for fjets_event, jets_event in zip(fjets, jets):\n",
    "        builder.begin_list()\n",
    "        for i, jet in enumerate(jets_event):\n",
    "            match_idx = -1\n",
    "            for j, fjet in enumerate(fjets_event):\n",
    "                if jet.deltaR(fjet) < FJET_DR:\n",
    "                    match_idx = j\n",
    "            builder.append(match_idx)\n",
    "        builder.end_list()\n",
    "\n",
    "    return builder"
   ]
  },
  {
   "cell_type": "code",
   "execution_count": 5,
   "id": "d357f1ce",
   "metadata": {},
   "outputs": [],
   "source": [
    "@nb.njit\n",
    "def ja_list_2_ak(JET_ASSIGNMENTS, NrH, jcounts, builder):\n",
    "    builder.begin_list()\n",
    "    for NrH_e, jcounts_e in zip(NrH, jcounts):\n",
    "        builder.begin_list()\n",
    "        ja = JET_ASSIGNMENTS[NrH_e][jcounts_e]\n",
    "        for comb in ja:\n",
    "            builder.begin_list()\n",
    "            for b1_b2 in comb:\n",
    "                builder.begin_list()\n",
    "                for bx in b1_b2:\n",
    "                    builder.append(bx)\n",
    "                builder.end_list()\n",
    "            builder.end_list()\n",
    "        builder.end_list()\n",
    "    \n",
    "    builder.end_list()\n",
    "    return builder"
   ]
  },
  {
   "cell_type": "code",
   "execution_count": 6,
   "id": "a612ef7a",
   "metadata": {},
   "outputs": [],
   "source": [
    "@nb.njit\n",
    "def chi2_matching(js, jcounts, NrHs, jet_assignments, builder):\n",
    "    HIGGS_MASS = 125\n",
    "    builder.begin_list()\n",
    "    for js_e, jcount_e, ja_e, NrH_e in zip(js, jcounts, jet_assignments, NrHs):\n",
    "        builder.begin_list()\n",
    "        if NrH_e == 0:\n",
    "            continue\n",
    "\n",
    "        chi2_argmin = 0\n",
    "        chi2_min = 99999\n",
    "        for i, comb in enumerate(ja_e):\n",
    "            chi2 = 0\n",
    "            for b1_b2 in comb:\n",
    "                j_b1_idx = b1_b2[0]\n",
    "                j_b2_idx = b1_b2[1]\n",
    "                \n",
    "                j_b1 = js_e[j_b1_idx]\n",
    "                j_b2 = js_e[j_b2_idx]\n",
    "                mjj = (j_b1 + j_b2).mass\n",
    "                \n",
    "                chi2 += np.square(mjj - HIGGS_MASS)\n",
    "            if chi2<chi2_min:\n",
    "                argmin = i\n",
    "\n",
    "            \n",
    "        best_comb = ja_e[chi2_argmin]\n",
    "        for b1_b2 in best_comb:\n",
    "            builder.begin_list()\n",
    "            for bx in b1_b2:\n",
    "                builder.append(bx)\n",
    "            builder.end_list()\n",
    "        \n",
    "        builder.end_list()\n",
    "        \n",
    "    builder.end_list()\n",
    "\n",
    "    return builder"
   ]
  },
  {
   "cell_type": "code",
   "execution_count": 7,
   "id": "3db8bcf0",
   "metadata": {},
   "outputs": [],
   "source": [
    "# for ja_e in jet_assignments_ak:\n",
    "#     for comb in ja_e:\n",
    "#         for b1_b2 in comb:\n",
    "#             print(b1_b2[0], b1_b2[1])"
   ]
  },
  {
   "cell_type": "code",
   "execution_count": 39,
   "id": "d93ef2b6",
   "metadata": {},
   "outputs": [],
   "source": [
    "def to_np_array(ak_array, axis=-1, max_n=10, pad=0):\n",
    "    return ak.fill_none(ak.pad_none(ak_array, max_n, clip=True, axis=axis), pad, axis=axis).to_numpy()"
   ]
  },
  {
   "cell_type": "code",
   "execution_count": null,
   "id": "fb780f3c",
   "metadata": {},
   "outputs": [],
   "source": [
    "def fjIdx2Prob"
   ]
  },
  {
   "cell_type": "code",
   "execution_count": 8,
   "id": "6d2502b7",
   "metadata": {},
   "outputs": [],
   "source": [
    "pred_file = \"//home/billyli/UCSD/hhh/reports/bv2/pred_baseline.h5\"\n",
    "test_file = \"//home/billyli/UCSD/hhh/reports/bv2/hhh_test.h5\""
   ]
  },
  {
   "cell_type": "code",
   "execution_count": 49,
   "id": "1662a585",
   "metadata": {},
   "outputs": [
    {
     "ename": "NameError",
     "evalue": "name 'all_datasets' is not defined",
     "output_type": "error",
     "traceback": [
      "\u001b[0;31m---------------------------------------------------------------------------\u001b[0m",
      "\u001b[0;31mNameError\u001b[0m                                 Traceback (most recent call last)",
      "Cell \u001b[0;32mIn[49], line 94\u001b[0m\n\u001b[1;32m     91\u001b[0m datasets[\u001b[38;5;124m\"\u001b[39m\u001b[38;5;124mTARGETS/bh3/detection_probability\u001b[39m\u001b[38;5;124m\"\u001b[39m] \u001b[38;5;241m=\u001b[39m bhs_dp[:,\u001b[38;5;241m2\u001b[39m]\n\u001b[1;32m     93\u001b[0m \u001b[38;5;28;01mwith\u001b[39;00m h5py\u001b[38;5;241m.\u001b[39mFile(pred_file, \u001b[38;5;124m\"\u001b[39m\u001b[38;5;124mw\u001b[39m\u001b[38;5;124m\"\u001b[39m) \u001b[38;5;28;01mas\u001b[39;00m output:\n\u001b[0;32m---> 94\u001b[0m     \u001b[38;5;28;01mfor\u001b[39;00m dataset_name, all_data \u001b[38;5;129;01min\u001b[39;00m \u001b[43mall_datasets\u001b[49m\u001b[38;5;241m.\u001b[39mitems():\n\u001b[1;32m     95\u001b[0m         concat_data \u001b[38;5;241m=\u001b[39m np\u001b[38;5;241m.\u001b[39mconcatenate(all_data, axis\u001b[38;5;241m=\u001b[39m\u001b[38;5;241m0\u001b[39m)\n\u001b[1;32m     96\u001b[0m         output\u001b[38;5;241m.\u001b[39mcreate_dataset(dataset_name, data\u001b[38;5;241m=\u001b[39mconcat_data)\n",
      "\u001b[0;31mNameError\u001b[0m: name 'all_datasets' is not defined"
     ]
    }
   ],
   "source": [
    "# load jets and fat jets from test h5 file\n",
    "in_file = h5py.File(test_file)\n",
    "js = load_jets(in_file)\n",
    "js_idx = ak.local_index(js)\n",
    "fjs = load_fjets(in_file)\n",
    "fj_idx = ak.local_index(fjs)\n",
    "\n",
    "# select real fjets based on pT and mass cut\n",
    "fj_mask = fjs['mask']\n",
    "fjmass_cond = (fjs['mass']>110) & (fjs['mass']<140)\n",
    "fjpt_cond = fjs['pt']>300\n",
    "fj_cond = fjmass_cond & fjpt_cond & fj_mask\n",
    "fjs_selected = fjs[fj_cond]\n",
    "\n",
    "# save the qualified fjets indices\n",
    "# they will be bH candidates\n",
    "bh_fj_idx = fj_idx[fj_cond]\n",
    "bh_fj_idx = to_np_array(bh_fj_idx, max_n=3, pad=-1)\n",
    "\n",
    "# convert indices to AP and DP\n",
    "bhs_dp = np.zeros(shape=bh_fj_idx.shape)\n",
    "fjs_ap = np.zeros(shape=bh_fj_idx.shape)\n",
    "bhs_dp[bh_fj_idx!=-1] = 1\n",
    "fjs_ap[bh_fj_idx!=-1] = 1\n",
    "\n",
    "# find ak4jets that matched to selected ak8jets (dR check)\n",
    "matched_fj_idx = match_fjet_to_jet(fjs_selected, js, ak.ArrayBuilder()).snapshot()\n",
    "\n",
    "# remove overlapped ak4jets and padded jets\n",
    "unoverlapped = matched_fj_idx==-1\n",
    "unmasked = js['mask']\n",
    "j_cond = unoverlapped & unmasked\n",
    "js_selected = js[j_cond]\n",
    "idx_js_selected = js_idx[j_cond]\n",
    "\n",
    "# get the auxiliary information for chi2_matching \n",
    "jcounts = ak.count(js_selected, axis=-1)\n",
    "n_bhs_matched = ak.count(fjs_selected, axis=-1)\n",
    "NrHs = (3-n_bhs_matched).to_numpy()\n",
    "\n",
    "# chi2 \n",
    "\n",
    "# mask events that don't have enough resolved jets to match to 3H (X bH + Y rH)\n",
    "# those events will be extracted later\n",
    "suff = jcounts >= NrHs*2\n",
    "js_suff = js_selected[suff]\n",
    "jcounts_suff = jcounts[suff]\n",
    "NrHs_suff = NrHs[suff]\n",
    "\n",
    "# construct jet assignment look-up array that has \n",
    "# all combinations of input jets\n",
    "# for different numbers of resolved higgs and jets\n",
    "JET_ASSIGNMENTS_ak = []\n",
    "for nH in range(0, 1+3):\n",
    "    JET_ASSIGNMENTS_ak.append([])\n",
    "    for nj in range(0, nH*2):\n",
    "        JET_ASSIGNMENTS_ak[nH].append([])\n",
    "    for nj in range(nH*2, N_JETS + 1):\n",
    "        JET_ASSIGNMENTS_ak[nH].append([])\n",
    "        a = list(itertools.combinations(range(nj), 2))\n",
    "        b = np.array([ assignment for assignment in itertools.combinations(a, nH) if len(np.unique(assignment)) == nH*2])\n",
    "        JET_ASSIGNMENTS_ak[nH][nj] = b\n",
    "\n",
    "JET_ASSIGNMENTS_ak = ak.Array(JET_ASSIGNMENTS_ak)\n",
    "\n",
    "# find the jet assignment combinations for each event\n",
    "jet_assignments_ak = ja_list_2_ak(JET_ASSIGNMENTS_ak, NrHs_suff, jcounts_suff, ak.ArrayBuilder()).snapshot()\n",
    "jet_assignments_ak = ak.flatten(jet_assignments_ak, axis=1)\n",
    "\n",
    "# assign ak4 jets to the resolved higgs by chi2\n",
    "rh_j_idx_suff = chi2_matching(js_suff[0:1000], jcounts_suff[0:1000], NrHs_suff[0:1000], jet_assignments_ak[0:1000], ak.ArrayBuilder()).snapshot()\n",
    "rh_j_idx_suff = ak.flatten(rh_j_idx_suff, axis=1)\n",
    "rh_j_idx_suff = ak.fill_none(ak.pad_none(rh_j_idx_suff, 3, clip=True, axis=-2), ak.Array(np.array([-1, -1], dtype=np.int64)), axis=-2).to_numpy()\n",
    "\n",
    "# convert resolved jet indices to AP and DP\n",
    "rhs_dp = np.zeros(shape=rh_j_idx_suff.shape[0:-1])\n",
    "js_dp = np.zeros(shape=rh_j_idx_suff.shape)\n",
    "\n",
    "# For events that don't have enough jets\n",
    "# try reconstruct one less higgs\n",
    "\n",
    "\n",
    "# save all assignment to the h5file\n",
    "datasets = {}\n",
    "datasets[\"TARGETS/bh1/bb\"] = bh_fj_idx[:,0]\n",
    "datasets[\"TARGETS/bh2/bb\"] = bh_fj_idx[:,1]\n",
    "datasets[\"TARGETS/bh3/bb\"] = bh_fj_idx[:,2]\n",
    "\n",
    "datasets[\"TARGETS/bh1/detection_probability\"] = bhs_dp[:,0]\n",
    "datasets[\"TARGETS/bh2/detection_probability\"] = bhs_dp[:,1]\n",
    "datasets[\"TARGETS/bh3/detection_probability\"] = bhs_dp[:,2]\n",
    "\n",
    "with h5py.File(pred_file, \"w\") as output:\n",
    "    for dataset_name, all_data in all_datasets.items():\n",
    "        concat_data = np.concatenate(all_data, axis=0)\n",
    "        output.create_dataset(dataset_name, data=concat_data)"
   ]
  },
  {
   "cell_type": "code",
   "execution_count": 10,
   "id": "d7607a1b",
   "metadata": {},
   "outputs": [],
   "source": [
    "rh_rj_idx_suff_flatten = ak.flatten(rh_rj_idx_suff, axis=1)"
   ]
  },
  {
   "cell_type": "code",
   "execution_count": 45,
   "id": "c863eda0",
   "metadata": {},
   "outputs": [
    {
     "ename": "AttributeError",
     "evalue": "no field named 'shape'",
     "output_type": "error",
     "traceback": [
      "\u001b[0;31m---------------------------------------------------------------------------\u001b[0m",
      "\u001b[0;31mAttributeError\u001b[0m                            Traceback (most recent call last)",
      "Cell \u001b[0;32mIn[45], line 2\u001b[0m\n\u001b[1;32m      1\u001b[0m rh_rj_idx_suff_flatten\n\u001b[0;32m----> 2\u001b[0m \u001b[43mrh_rj_idx_suff\u001b[49m\u001b[38;5;241;43m.\u001b[39;49m\u001b[43mshape\u001b[49m[\u001b[38;5;241m0\u001b[39m:\u001b[38;5;241m-\u001b[39m\u001b[38;5;241m1\u001b[39m]\n",
      "File \u001b[0;32m~/anaconda3/lib/python3.9/site-packages/awkward/highlevel.py:1176\u001b[0m, in \u001b[0;36mArray.__getattr__\u001b[0;34m(self, where)\u001b[0m\n\u001b[1;32m   1171\u001b[0m         \u001b[38;5;28;01mraise\u001b[39;00m \u001b[38;5;167;01mAttributeError\u001b[39;00m(\n\u001b[1;32m   1172\u001b[0m             \u001b[38;5;124mf\u001b[39m\u001b[38;5;124m\"\u001b[39m\u001b[38;5;124mwhile trying to get field \u001b[39m\u001b[38;5;132;01m{\u001b[39;00mwhere\u001b[38;5;132;01m!r}\u001b[39;00m\u001b[38;5;124m, an exception \u001b[39m\u001b[38;5;124m\"\u001b[39m\n\u001b[1;32m   1173\u001b[0m             \u001b[38;5;124mf\u001b[39m\u001b[38;5;124m\"\u001b[39m\u001b[38;5;124moccurred:\u001b[39m\u001b[38;5;130;01m\\n\u001b[39;00m\u001b[38;5;132;01m{\u001b[39;00m\u001b[38;5;28mtype\u001b[39m(err)\u001b[38;5;132;01m}\u001b[39;00m\u001b[38;5;124m: \u001b[39m\u001b[38;5;132;01m{\u001b[39;00merr\u001b[38;5;132;01m!s}\u001b[39;00m\u001b[38;5;124m\"\u001b[39m\n\u001b[1;32m   1174\u001b[0m         ) \u001b[38;5;28;01mfrom\u001b[39;00m \u001b[38;5;21;01merr\u001b[39;00m\n\u001b[1;32m   1175\u001b[0m \u001b[38;5;28;01melse\u001b[39;00m:\n\u001b[0;32m-> 1176\u001b[0m     \u001b[38;5;28;01mraise\u001b[39;00m \u001b[38;5;167;01mAttributeError\u001b[39;00m(\u001b[38;5;124mf\u001b[39m\u001b[38;5;124m\"\u001b[39m\u001b[38;5;124mno field named \u001b[39m\u001b[38;5;132;01m{\u001b[39;00mwhere\u001b[38;5;132;01m!r}\u001b[39;00m\u001b[38;5;124m\"\u001b[39m)\n",
      "\u001b[0;31mAttributeError\u001b[0m: no field named 'shape'"
     ]
    }
   ],
   "source": [
    "rh_rj_idx_suff_flatten\n"
   ]
  },
  {
   "cell_type": "code",
   "execution_count": 47,
   "id": "02decb06",
   "metadata": {},
   "outputs": [
    {
     "data": {
      "text/plain": [
       "array([[0, 1],\n",
       "       [2, 3],\n",
       "       [4, 5]])"
      ]
     },
     "execution_count": 47,
     "metadata": {},
     "output_type": "execute_result"
    }
   ],
   "source": [
    "rh_rj_idx_suff = ak.fill_none(ak.pad_none(rh_rj_idx_suff_flatten, 3, clip=True, axis=-2), ak.Array(np.array([-1, -1], dtype=np.int64)), axis=-2).to_numpy()\n",
    "rh_rj_idx_suff.shape[0:-1]\n",
    "rh_rj_idx_suff[0]"
   ]
  },
  {
   "cell_type": "code",
   "execution_count": 43,
   "id": "e69bc3f0",
   "metadata": {},
   "outputs": [
    {
     "data": {
      "text/html": [
       "<pre>[[[0, 1], [2, 3], [4, 5]],\n",
       " [[0, 1], [2, 3], [4, 5]],\n",
       " [[0, 1], [2, 3], [4, 5]],\n",
       " [[0, 1], [2, 3], [4, 5]],\n",
       " [[0, 1], [2, 3], [4, 5]],\n",
       " [[0, 1], [2, 3], [4, 5]],\n",
       " [[0, 1], [2, 3], [4, 5]],\n",
       " [[0, 1], [2, 3], [4, 5]],\n",
       " [[0, 1], [2, 3], [-1, -1]],\n",
       " [[0, 1], [2, 3], [4, 5]],\n",
       " ...,\n",
       " [[0, 1], [2, 3], [4, 5]],\n",
       " [[0, 1], [2, 3], [4, 5]],\n",
       " [[0, 1], [2, 3], [4, 5]],\n",
       " [[0, 1], [2, 3], [4, 5]],\n",
       " [[0, 1], [2, 3], [4, 5]],\n",
       " [[0, 1], [2, 3], [4, 5]],\n",
       " [[0, 1], [2, 3], [-1, -1]],\n",
       " [[0, 1], [2, 3], [4, 5]],\n",
       " [[0, 1], [-1, -1], [-1, -1]]]\n",
       "------------------------------\n",
       "type: 1000 * 3 * var * int64</pre>"
      ],
      "text/plain": [
       "<Array [[[0, 1], [2, 3], [4, 5]], ..., [...]] type='1000 * 3 * var * int64'>"
      ]
     },
     "execution_count": 43,
     "metadata": {},
     "output_type": "execute_result"
    }
   ],
   "source": [
    "ak.fill_none(ak.pad_none(rh_rj_idx_suff_flatten, 3, clip=True, axis=-2), ak.Array(np.array([-1, -1], dtype=np.int64)), axis=-2)"
   ]
  },
  {
   "cell_type": "code",
   "execution_count": 12,
   "id": "202baf84",
   "metadata": {},
   "outputs": [
    {
     "data": {
      "text/html": [
       "<pre>[[[[0, 1], [2, 3], [4, 5]], [[0, 1], [2, 3], [4, 5]], ..., [...], [[0, 1]]]]\n",
       "----------------------------------------------------------------------------\n",
       "type: 1 * var * var * var * int64</pre>"
      ],
      "text/plain": [
       "<Array [[[[0, 1], [2, ...], [4, 5]], ...]] type='1 * var * var * var * int64'>"
      ]
     },
     "execution_count": 12,
     "metadata": {},
     "output_type": "execute_result"
    }
   ],
   "source": [
    "rh_rj_idx_suff"
   ]
  },
  {
   "cell_type": "code",
   "execution_count": 13,
   "id": "2dd6e9b2",
   "metadata": {
    "scrolled": false
   },
   "outputs": [
    {
     "ename": "ValueError",
     "evalue": "cannot convert to RegularArray because subarray lengths are not regular (in compiled code: https://github.com/scikit-hep/awkward/blob/awkward-cpp-23/awkward-cpp/src/cpu-kernels/awkward_ListOffsetArray_toRegularArray.cpp#L22)\n\nThis error occurred while calling\n\n    ak.to_numpy(\n        <Array [[], [], [], [], ..., [], [0], []] type='42829 * var * int64'>\n        allow_missing = True\n    )",
     "output_type": "error",
     "traceback": [
      "\u001b[0;31m---------------------------------------------------------------------------\u001b[0m",
      "\u001b[0;31mValueError\u001b[0m                                Traceback (most recent call last)",
      "File \u001b[0;32m~/anaconda3/lib/python3.9/site-packages/awkward/_dispatch.py:60\u001b[0m, in \u001b[0;36mnamed_high_level_function.<locals>.dispatch\u001b[0;34m(*args, **kwargs)\u001b[0m\n\u001b[1;32m     59\u001b[0m \u001b[38;5;28;01mtry\u001b[39;00m:\n\u001b[0;32m---> 60\u001b[0m     \u001b[38;5;28;43mnext\u001b[39;49m\u001b[43m(\u001b[49m\u001b[43mgen_or_result\u001b[49m\u001b[43m)\u001b[49m\n\u001b[1;32m     61\u001b[0m \u001b[38;5;28;01mexcept\u001b[39;00m \u001b[38;5;167;01mStopIteration\u001b[39;00m \u001b[38;5;28;01mas\u001b[39;00m err:\n",
      "File \u001b[0;32m~/anaconda3/lib/python3.9/site-packages/awkward/operations/ak_to_numpy.py:44\u001b[0m, in \u001b[0;36mto_numpy\u001b[0;34m(array, allow_missing)\u001b[0m\n\u001b[1;32m     43\u001b[0m \u001b[38;5;66;03m# Implementation\u001b[39;00m\n\u001b[0;32m---> 44\u001b[0m \u001b[38;5;28;01mreturn\u001b[39;00m \u001b[43m_impl\u001b[49m\u001b[43m(\u001b[49m\u001b[43marray\u001b[49m\u001b[43m,\u001b[49m\u001b[43m \u001b[49m\u001b[43mallow_missing\u001b[49m\u001b[43m)\u001b[49m\n",
      "File \u001b[0;32m~/anaconda3/lib/python3.9/site-packages/awkward/operations/ak_to_numpy.py:56\u001b[0m, in \u001b[0;36m_impl\u001b[0;34m(array, allow_missing)\u001b[0m\n\u001b[1;32m     54\u001b[0m numpy_layout \u001b[38;5;241m=\u001b[39m layout\u001b[38;5;241m.\u001b[39mto_backend(backend)\n\u001b[0;32m---> 56\u001b[0m \u001b[38;5;28;01mreturn\u001b[39;00m \u001b[43mnumpy_layout\u001b[49m\u001b[38;5;241;43m.\u001b[39;49m\u001b[43mto_backend_array\u001b[49m\u001b[43m(\u001b[49m\u001b[43mallow_missing\u001b[49m\u001b[38;5;241;43m=\u001b[39;49m\u001b[43mallow_missing\u001b[49m\u001b[43m)\u001b[49m\n",
      "File \u001b[0;32m~/anaconda3/lib/python3.9/site-packages/awkward/contents/content.py:1077\u001b[0m, in \u001b[0;36mContent.to_backend_array\u001b[0;34m(self, allow_missing, backend)\u001b[0m\n\u001b[1;32m   1076\u001b[0m     backend \u001b[38;5;241m=\u001b[39m regularize_backend(backend)\n\u001b[0;32m-> 1077\u001b[0m \u001b[38;5;28;01mreturn\u001b[39;00m \u001b[38;5;28;43mself\u001b[39;49m\u001b[38;5;241;43m.\u001b[39;49m\u001b[43m_to_backend_array\u001b[49m\u001b[43m(\u001b[49m\u001b[43mallow_missing\u001b[49m\u001b[43m,\u001b[49m\u001b[43m \u001b[49m\u001b[43mbackend\u001b[49m\u001b[43m)\u001b[49m\n",
      "File \u001b[0;32m~/anaconda3/lib/python3.9/site-packages/awkward/contents/listoffsetarray.py:2056\u001b[0m, in \u001b[0;36mListOffsetArray._to_backend_array\u001b[0;34m(self, allow_missing, backend)\u001b[0m\n\u001b[1;32m   2055\u001b[0m \u001b[38;5;28;01melse\u001b[39;00m:\n\u001b[0;32m-> 2056\u001b[0m     \u001b[38;5;28;01mreturn\u001b[39;00m \u001b[38;5;28;43mself\u001b[39;49m\u001b[38;5;241;43m.\u001b[39;49m\u001b[43mto_RegularArray\u001b[49m\u001b[43m(\u001b[49m\u001b[43m)\u001b[49m\u001b[38;5;241m.\u001b[39m_to_backend_array(allow_missing, backend)\n",
      "File \u001b[0;32m~/anaconda3/lib/python3.9/site-packages/awkward/contents/listoffsetarray.py:273\u001b[0m, in \u001b[0;36mListOffsetArray.to_RegularArray\u001b[0;34m(self)\u001b[0m\n\u001b[1;32m    269\u001b[0m \u001b[38;5;28;01massert\u001b[39;00m (\n\u001b[1;32m    270\u001b[0m     _size\u001b[38;5;241m.\u001b[39mnplike \u001b[38;5;129;01mis\u001b[39;00m \u001b[38;5;28mself\u001b[39m\u001b[38;5;241m.\u001b[39m_backend\u001b[38;5;241m.\u001b[39mindex_nplike\n\u001b[1;32m    271\u001b[0m     \u001b[38;5;129;01mand\u001b[39;00m \u001b[38;5;28mself\u001b[39m\u001b[38;5;241m.\u001b[39m_offsets\u001b[38;5;241m.\u001b[39mnplike \u001b[38;5;129;01mis\u001b[39;00m \u001b[38;5;28mself\u001b[39m\u001b[38;5;241m.\u001b[39m_backend\u001b[38;5;241m.\u001b[39mindex_nplike\n\u001b[1;32m    272\u001b[0m )\n\u001b[0;32m--> 273\u001b[0m \u001b[38;5;28;43mself\u001b[39;49m\u001b[38;5;241;43m.\u001b[39;49m\u001b[43m_backend\u001b[49m\u001b[38;5;241;43m.\u001b[39;49m\u001b[43mmaybe_kernel_error\u001b[49m\u001b[43m(\u001b[49m\n\u001b[1;32m    274\u001b[0m \u001b[43m    \u001b[49m\u001b[38;5;28;43mself\u001b[39;49m\u001b[38;5;241;43m.\u001b[39;49m\u001b[43m_backend\u001b[49m\u001b[43m[\u001b[49m\n\u001b[1;32m    275\u001b[0m \u001b[43m        \u001b[49m\u001b[38;5;124;43m\"\u001b[39;49m\u001b[38;5;124;43mawkward_ListOffsetArray_toRegularArray\u001b[39;49m\u001b[38;5;124;43m\"\u001b[39;49m\u001b[43m,\u001b[49m\n\u001b[1;32m    276\u001b[0m \u001b[43m        \u001b[49m\u001b[43m_size\u001b[49m\u001b[38;5;241;43m.\u001b[39;49m\u001b[43mdtype\u001b[49m\u001b[38;5;241;43m.\u001b[39;49m\u001b[43mtype\u001b[49m\u001b[43m,\u001b[49m\n\u001b[1;32m    277\u001b[0m \u001b[43m        \u001b[49m\u001b[38;5;28;43mself\u001b[39;49m\u001b[38;5;241;43m.\u001b[39;49m\u001b[43m_offsets\u001b[49m\u001b[38;5;241;43m.\u001b[39;49m\u001b[43mdtype\u001b[49m\u001b[38;5;241;43m.\u001b[39;49m\u001b[43mtype\u001b[49m\u001b[43m,\u001b[49m\n\u001b[1;32m    278\u001b[0m \u001b[43m    \u001b[49m\u001b[43m]\u001b[49m\u001b[43m(\u001b[49m\n\u001b[1;32m    279\u001b[0m \u001b[43m        \u001b[49m\u001b[43m_size\u001b[49m\u001b[38;5;241;43m.\u001b[39;49m\u001b[43mdata\u001b[49m\u001b[43m,\u001b[49m\n\u001b[1;32m    280\u001b[0m \u001b[43m        \u001b[49m\u001b[38;5;28;43mself\u001b[39;49m\u001b[38;5;241;43m.\u001b[39;49m\u001b[43m_offsets\u001b[49m\u001b[38;5;241;43m.\u001b[39;49m\u001b[43mdata\u001b[49m\u001b[43m,\u001b[49m\n\u001b[1;32m    281\u001b[0m \u001b[43m        \u001b[49m\u001b[38;5;28;43mself\u001b[39;49m\u001b[38;5;241;43m.\u001b[39;49m\u001b[43m_offsets\u001b[49m\u001b[38;5;241;43m.\u001b[39;49m\u001b[43mlength\u001b[49m\u001b[43m,\u001b[49m\n\u001b[1;32m    282\u001b[0m \u001b[43m    \u001b[49m\u001b[43m)\u001b[49m\n\u001b[1;32m    283\u001b[0m \u001b[43m\u001b[49m\u001b[43m)\u001b[49m\n\u001b[1;32m    284\u001b[0m size \u001b[38;5;241m=\u001b[39m \u001b[38;5;28mself\u001b[39m\u001b[38;5;241m.\u001b[39m_backend\u001b[38;5;241m.\u001b[39mindex_nplike\u001b[38;5;241m.\u001b[39mindex_as_shape_item(_size[\u001b[38;5;241m0\u001b[39m])\n",
      "File \u001b[0;32m~/anaconda3/lib/python3.9/site-packages/awkward/_backends/backend.py:72\u001b[0m, in \u001b[0;36mBackend.maybe_kernel_error\u001b[0;34m(self, error)\u001b[0m\n\u001b[1;32m     71\u001b[0m \u001b[38;5;28;01melse\u001b[39;00m:\n\u001b[0;32m---> 72\u001b[0m     \u001b[38;5;28;01mraise\u001b[39;00m \u001b[38;5;167;01mValueError\u001b[39;00m(\u001b[38;5;28mself\u001b[39m\u001b[38;5;241m.\u001b[39mformat_kernel_error(error))\n",
      "\u001b[0;31mValueError\u001b[0m: cannot convert to RegularArray because subarray lengths are not regular (in compiled code: https://github.com/scikit-hep/awkward/blob/awkward-cpp-23/awkward-cpp/src/cpu-kernels/awkward_ListOffsetArray_toRegularArray.cpp#L22)",
      "\nThe above exception was the direct cause of the following exception:\n",
      "\u001b[0;31mValueError\u001b[0m                                Traceback (most recent call last)",
      "Cell \u001b[0;32mIn[13], line 1\u001b[0m\n\u001b[0;32m----> 1\u001b[0m \u001b[43mbh_fj_idx\u001b[49m\u001b[38;5;241;43m.\u001b[39;49m\u001b[43mto_numpy\u001b[49m\u001b[43m(\u001b[49m\u001b[43m)\u001b[49m\n",
      "File \u001b[0;32m~/anaconda3/lib/python3.9/site-packages/awkward/highlevel.py:459\u001b[0m, in \u001b[0;36mArray.to_numpy\u001b[0;34m(self, allow_missing)\u001b[0m\n\u001b[1;32m    455\u001b[0m \u001b[38;5;28;01mdef\u001b[39;00m \u001b[38;5;21mto_numpy\u001b[39m(\u001b[38;5;28mself\u001b[39m, allow_missing\u001b[38;5;241m=\u001b[39m\u001b[38;5;28;01mTrue\u001b[39;00m):\n\u001b[1;32m    456\u001b[0m     \u001b[38;5;124;03m\"\"\"\u001b[39;00m\n\u001b[1;32m    457\u001b[0m \u001b[38;5;124;03m    Converts this Array into a NumPy array, if possible; same as #ak.to_numpy.\u001b[39;00m\n\u001b[1;32m    458\u001b[0m \u001b[38;5;124;03m    \"\"\"\u001b[39;00m\n\u001b[0;32m--> 459\u001b[0m     \u001b[38;5;28;01mreturn\u001b[39;00m \u001b[43mak\u001b[49m\u001b[38;5;241;43m.\u001b[39;49m\u001b[43moperations\u001b[49m\u001b[38;5;241;43m.\u001b[39;49m\u001b[43mto_numpy\u001b[49m\u001b[43m(\u001b[49m\u001b[38;5;28;43mself\u001b[39;49m\u001b[43m,\u001b[49m\u001b[43m \u001b[49m\u001b[43mallow_missing\u001b[49m\u001b[38;5;241;43m=\u001b[39;49m\u001b[43mallow_missing\u001b[49m\u001b[43m)\u001b[49m\n",
      "File \u001b[0;32m~/anaconda3/lib/python3.9/site-packages/awkward/_dispatch.py:68\u001b[0m, in \u001b[0;36mnamed_high_level_function.<locals>.dispatch\u001b[0;34m(*args, **kwargs)\u001b[0m\n\u001b[1;32m     63\u001b[0m     \u001b[38;5;28;01melse\u001b[39;00m:\n\u001b[1;32m     64\u001b[0m         \u001b[38;5;28;01mraise\u001b[39;00m \u001b[38;5;167;01mAssertionError\u001b[39;00m(\n\u001b[1;32m     65\u001b[0m             \u001b[38;5;124m\"\u001b[39m\u001b[38;5;124mhigh-level functions should only implement a single yield statement\u001b[39m\u001b[38;5;124m\"\u001b[39m\n\u001b[1;32m     66\u001b[0m         )\n\u001b[0;32m---> 68\u001b[0m \u001b[38;5;28;01mreturn\u001b[39;00m gen_or_result\n",
      "File \u001b[0;32m~/anaconda3/lib/python3.9/site-packages/awkward/_errors.py:67\u001b[0m, in \u001b[0;36mErrorContext.__exit__\u001b[0;34m(self, exception_type, exception_value, traceback)\u001b[0m\n\u001b[1;32m     60\u001b[0m \u001b[38;5;28;01mtry\u001b[39;00m:\n\u001b[1;32m     61\u001b[0m     \u001b[38;5;66;03m# Handle caught exception\u001b[39;00m\n\u001b[1;32m     62\u001b[0m     \u001b[38;5;28;01mif\u001b[39;00m (\n\u001b[1;32m     63\u001b[0m         exception_type \u001b[38;5;129;01mis\u001b[39;00m \u001b[38;5;129;01mnot\u001b[39;00m \u001b[38;5;28;01mNone\u001b[39;00m\n\u001b[1;32m     64\u001b[0m         \u001b[38;5;129;01mand\u001b[39;00m \u001b[38;5;28missubclass\u001b[39m(exception_type, \u001b[38;5;167;01mException\u001b[39;00m)\n\u001b[1;32m     65\u001b[0m         \u001b[38;5;129;01mand\u001b[39;00m \u001b[38;5;28mself\u001b[39m\u001b[38;5;241m.\u001b[39mprimary() \u001b[38;5;129;01mis\u001b[39;00m \u001b[38;5;28mself\u001b[39m\n\u001b[1;32m     66\u001b[0m     ):\n\u001b[0;32m---> 67\u001b[0m         \u001b[38;5;28;43mself\u001b[39;49m\u001b[38;5;241;43m.\u001b[39;49m\u001b[43mhandle_exception\u001b[49m\u001b[43m(\u001b[49m\u001b[43mexception_type\u001b[49m\u001b[43m,\u001b[49m\u001b[43m \u001b[49m\u001b[43mexception_value\u001b[49m\u001b[43m)\u001b[49m\n\u001b[1;32m     68\u001b[0m \u001b[38;5;28;01mfinally\u001b[39;00m:\n\u001b[1;32m     69\u001b[0m     \u001b[38;5;66;03m# `_kwargs` may hold cyclic references, that we really want to avoid\u001b[39;00m\n\u001b[1;32m     70\u001b[0m     \u001b[38;5;66;03m# as this can lead to large buffers remaining in memory for longer than absolutely necessary\u001b[39;00m\n\u001b[1;32m     71\u001b[0m     \u001b[38;5;66;03m# Let's just clear this, now.\u001b[39;00m\n\u001b[1;32m     72\u001b[0m     \u001b[38;5;28mself\u001b[39m\u001b[38;5;241m.\u001b[39m_kwargs\u001b[38;5;241m.\u001b[39mclear()\n",
      "File \u001b[0;32m~/anaconda3/lib/python3.9/site-packages/awkward/_errors.py:82\u001b[0m, in \u001b[0;36mErrorContext.handle_exception\u001b[0;34m(self, cls, exception)\u001b[0m\n\u001b[1;32m     80\u001b[0m     \u001b[38;5;28mself\u001b[39m\u001b[38;5;241m.\u001b[39mdecorate_exception(\u001b[38;5;28mcls\u001b[39m, exception)\n\u001b[1;32m     81\u001b[0m \u001b[38;5;28;01melse\u001b[39;00m:\n\u001b[0;32m---> 82\u001b[0m     \u001b[38;5;28;01mraise\u001b[39;00m \u001b[38;5;28mself\u001b[39m\u001b[38;5;241m.\u001b[39mdecorate_exception(\u001b[38;5;28mcls\u001b[39m, exception)\n",
      "\u001b[0;31mValueError\u001b[0m: cannot convert to RegularArray because subarray lengths are not regular (in compiled code: https://github.com/scikit-hep/awkward/blob/awkward-cpp-23/awkward-cpp/src/cpu-kernels/awkward_ListOffsetArray_toRegularArray.cpp#L22)\n\nThis error occurred while calling\n\n    ak.to_numpy(\n        <Array [[], [], [], [], ..., [], [0], []] type='42829 * var * int64'>\n        allow_missing = True\n    )"
     ]
    }
   ],
   "source": [
    "bh_fj_idx.to_numpy()"
   ]
  },
  {
   "cell_type": "code",
   "execution_count": 25,
   "id": "f33d1928",
   "metadata": {},
   "outputs": [],
   "source": [
    "bhs_dp = np.zeros(shape=bh_fj_idx.shape)\n",
    "bhs_ap = np.zeros(shape=bh_fj_idx.shape)\n",
    "bhs_dp[bh_fj_idx!=-1] = 1\n",
    "bhs_ap[bh_fj_idx!=-1] = 1"
   ]
  },
  {
   "cell_type": "code",
   "execution_count": 21,
   "id": "34376f02",
   "metadata": {},
   "outputs": [],
   "source": [
    "bh_fj_idx = to_np_array(bh_fj_idx, max_n=3, pad=-1)\n"
   ]
  },
  {
   "cell_type": "code",
   "execution_count": 24,
   "id": "6a624a78",
   "metadata": {},
   "outputs": [
    {
     "data": {
      "text/plain": [
       "(42829, 3)"
      ]
     },
     "execution_count": 24,
     "metadata": {},
     "output_type": "execute_result"
    }
   ],
   "source": [
    "bh_fj_idx.shape"
   ]
  },
  {
   "cell_type": "code",
   "execution_count": null,
   "id": "f620bdfc",
   "metadata": {},
   "outputs": [],
   "source": []
  }
 ],
 "metadata": {
  "kernelspec": {
   "display_name": "Python 3 (ipykernel)",
   "language": "python",
   "name": "python3"
  },
  "language_info": {
   "codemirror_mode": {
    "name": "ipython",
    "version": 3
   },
   "file_extension": ".py",
   "mimetype": "text/x-python",
   "name": "python",
   "nbconvert_exporter": "python",
   "pygments_lexer": "ipython3",
   "version": "3.9.16"
  }
 },
 "nbformat": 4,
 "nbformat_minor": 5
}
