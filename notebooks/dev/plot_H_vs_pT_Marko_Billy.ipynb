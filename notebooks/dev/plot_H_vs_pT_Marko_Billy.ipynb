{
 "cells": [
  {
   "cell_type": "code",
   "execution_count": 1,
   "id": "c04d00cf",
   "metadata": {},
   "outputs": [
    {
     "name": "stdout",
     "output_type": "stream",
     "text": [
      "Requirement already satisfied: coffea in /Users/billyli/miniforge_x86_new/envs/phys239/lib/python3.7/site-packages (0.7.22)\n",
      "Requirement already satisfied: tqdm>=4.27.0 in /Users/billyli/miniforge_x86_new/envs/phys239/lib/python3.7/site-packages (from coffea) (4.65.0)\n",
      "Requirement already satisfied: fsspec in /Users/billyli/miniforge_x86_new/envs/phys239/lib/python3.7/site-packages (from coffea) (2023.1.0)\n",
      "Requirement already satisfied: pyarrow>=1.0.0 in /Users/billyli/miniforge_x86_new/envs/phys239/lib/python3.7/site-packages (from coffea) (12.0.1)\n",
      "Requirement already satisfied: toml>=0.10.2 in /Users/billyli/miniforge_x86_new/envs/phys239/lib/python3.7/site-packages (from coffea) (0.10.2)\n",
      "Requirement already satisfied: packaging in /Users/billyli/miniforge_x86_new/envs/phys239/lib/python3.7/site-packages (from coffea) (23.0)\n",
      "Requirement already satisfied: correctionlib>=2.0.0 in /Users/billyli/miniforge_x86_new/envs/phys239/lib/python3.7/site-packages (from coffea) (2.4.0)\n",
      "Requirement already satisfied: uproot3-methods>=0.10.0 in /Users/billyli/miniforge_x86_new/envs/phys239/lib/python3.7/site-packages (from coffea) (0.10.1)\n",
      "Requirement already satisfied: cloudpickle>=1.2.3 in /Users/billyli/miniforge_x86_new/envs/phys239/lib/python3.7/site-packages (from coffea) (2.2.1)\n",
      "Requirement already satisfied: lz4 in /Users/billyli/miniforge_x86_new/envs/phys239/lib/python3.7/site-packages (from coffea) (4.3.2)\n",
      "Requirement already satisfied: hist>=2 in /Users/billyli/miniforge_x86_new/envs/phys239/lib/python3.7/site-packages (from coffea) (2.7.2)\n",
      "Requirement already satisfied: matplotlib>=3 in /Users/billyli/miniforge_x86_new/envs/phys239/lib/python3.7/site-packages (from coffea) (3.5.3)\n",
      "Requirement already satisfied: mplhep>=0.1.18 in /Users/billyli/miniforge_x86_new/envs/phys239/lib/python3.7/site-packages (from coffea) (0.3.28)\n",
      "Requirement already satisfied: cachetools in /Users/billyli/miniforge_x86_new/envs/phys239/lib/python3.7/site-packages (from coffea) (5.3.2)\n",
      "Requirement already satisfied: typing-extensions in /Users/billyli/miniforge_x86_new/envs/phys239/lib/python3.7/site-packages (from coffea) (4.4.0)\n",
      "Requirement already satisfied: pandas in /Users/billyli/miniforge_x86_new/envs/phys239/lib/python3.7/site-packages (from coffea) (1.3.5)\n",
      "Collecting awkward<2,>=1.10.3\n",
      "  Using cached awkward-1.10.5-cp37-cp37m-macosx_10_9_x86_64.whl (12.0 MB)\n",
      "Requirement already satisfied: numpy<1.24,>=1.18.0 in /Users/billyli/miniforge_x86_new/envs/phys239/lib/python3.7/site-packages (from coffea) (1.21.6)\n",
      "Requirement already satisfied: numba>=0.56.0 in /Users/billyli/miniforge_x86_new/envs/phys239/lib/python3.7/site-packages (from coffea) (0.56.3)\n",
      "Requirement already satisfied: uproot!=4.2.4,!=4.3.0,!=4.3.1,==4.*,>=4.1.6 in /Users/billyli/miniforge_x86_new/envs/phys239/lib/python3.7/site-packages (from coffea) (4.3.7)\n",
      "Requirement already satisfied: uproot3>=3.14.1 in /Users/billyli/miniforge_x86_new/envs/phys239/lib/python3.7/site-packages (from coffea) (3.14.4)\n",
      "Requirement already satisfied: scipy>=1.1.0 in /Users/billyli/miniforge_x86_new/envs/phys239/lib/python3.7/site-packages (from coffea) (1.7.3)\n",
      "Requirement already satisfied: setuptools in /Users/billyli/miniforge_x86_new/envs/phys239/lib/python3.7/site-packages (from uproot!=4.2.4,!=4.3.0,!=4.3.1,==4.*,>=4.1.6->coffea) (67.4.0)\n",
      "Requirement already satisfied: importlib-resources in /Users/billyli/miniforge_x86_new/envs/phys239/lib/python3.7/site-packages (from awkward<2,>=1.10.3->coffea) (5.12.0)\n",
      "Requirement already satisfied: pydantic<2,>=1.7.3 in /Users/billyli/miniforge_x86_new/envs/phys239/lib/python3.7/site-packages (from correctionlib>=2.0.0->coffea) (1.10.13)\n",
      "Requirement already satisfied: rich in /Users/billyli/miniforge_x86_new/envs/phys239/lib/python3.7/site-packages (from correctionlib>=2.0.0->coffea) (13.6.0)\n",
      "Requirement already satisfied: histoprint>=2.2.0 in /Users/billyli/miniforge_x86_new/envs/phys239/lib/python3.7/site-packages (from hist>=2->coffea) (2.4.0)\n",
      "Requirement already satisfied: boost-histogram<1.5,>=1.3.1 in /Users/billyli/miniforge_x86_new/envs/phys239/lib/python3.7/site-packages (from hist>=2->coffea) (1.4.0)\n",
      "Requirement already satisfied: python-dateutil>=2.7 in /Users/billyli/miniforge_x86_new/envs/phys239/lib/python3.7/site-packages (from matplotlib>=3->coffea) (2.8.2)\n",
      "Requirement already satisfied: cycler>=0.10 in /Users/billyli/miniforge_x86_new/envs/phys239/lib/python3.7/site-packages (from matplotlib>=3->coffea) (0.11.0)\n",
      "Requirement already satisfied: pillow>=6.2.0 in /Users/billyli/miniforge_x86_new/envs/phys239/lib/python3.7/site-packages (from matplotlib>=3->coffea) (9.4.0)\n",
      "Requirement already satisfied: kiwisolver>=1.0.1 in /Users/billyli/miniforge_x86_new/envs/phys239/lib/python3.7/site-packages (from matplotlib>=3->coffea) (1.4.4)\n",
      "Requirement already satisfied: pyparsing>=2.2.1 in /Users/billyli/miniforge_x86_new/envs/phys239/lib/python3.7/site-packages (from matplotlib>=3->coffea) (3.0.9)\n",
      "Requirement already satisfied: fonttools>=4.22.0 in /Users/billyli/miniforge_x86_new/envs/phys239/lib/python3.7/site-packages (from matplotlib>=3->coffea) (4.38.0)\n",
      "Requirement already satisfied: mplhep-data in /Users/billyli/miniforge_x86_new/envs/phys239/lib/python3.7/site-packages (from mplhep>=0.1.18->coffea) (0.0.3)\n",
      "Requirement already satisfied: uhi>=0.2.0 in /Users/billyli/miniforge_x86_new/envs/phys239/lib/python3.7/site-packages (from mplhep>=0.1.18->coffea) (0.4.0)\n",
      "Requirement already satisfied: llvmlite<0.40,>=0.39.0dev0 in /Users/billyli/miniforge_x86_new/envs/phys239/lib/python3.7/site-packages (from numba>=0.56.0->coffea) (0.39.1)\n",
      "Requirement already satisfied: importlib-metadata in /Users/billyli/miniforge_x86_new/envs/phys239/lib/python3.7/site-packages (from numba>=0.56.0->coffea) (4.11.4)\n",
      "Requirement already satisfied: awkward0 in /Users/billyli/miniforge_x86_new/envs/phys239/lib/python3.7/site-packages (from uproot3>=3.14.1->coffea) (0.15.5)\n",
      "Requirement already satisfied: pytz>=2017.3 in /Users/billyli/miniforge_x86_new/envs/phys239/lib/python3.7/site-packages (from pandas->coffea) (2022.7.1)\n",
      "Requirement already satisfied: click>=7.0.0 in /Users/billyli/miniforge_x86_new/envs/phys239/lib/python3.7/site-packages (from histoprint>=2.2.0->hist>=2->coffea) (8.1.7)\n",
      "Requirement already satisfied: six>=1.5 in /Users/billyli/miniforge_x86_new/envs/phys239/lib/python3.7/site-packages (from python-dateutil>=2.7->matplotlib>=3->coffea) (1.16.0)\n",
      "Requirement already satisfied: zipp>=0.5 in /Users/billyli/miniforge_x86_new/envs/phys239/lib/python3.7/site-packages (from importlib-metadata->numba>=0.56.0->coffea) (3.15.0)\n",
      "Requirement already satisfied: markdown-it-py>=2.2.0 in /Users/billyli/miniforge_x86_new/envs/phys239/lib/python3.7/site-packages (from rich->correctionlib>=2.0.0->coffea) (2.2.0)\n",
      "Requirement already satisfied: pygments<3.0.0,>=2.13.0 in /Users/billyli/miniforge_x86_new/envs/phys239/lib/python3.7/site-packages (from rich->correctionlib>=2.0.0->coffea) (2.14.0)\n",
      "Requirement already satisfied: mdurl~=0.1 in /Users/billyli/miniforge_x86_new/envs/phys239/lib/python3.7/site-packages (from markdown-it-py>=2.2.0->rich->correctionlib>=2.0.0->coffea) (0.1.2)\n",
      "Installing collected packages: awkward\n",
      "  Attempting uninstall: awkward\n",
      "    Found existing installation: awkward 2.2.4\n",
      "    Uninstalling awkward-2.2.4:\n",
      "      Successfully uninstalled awkward-2.2.4\n",
      "Successfully installed awkward-1.10.5\n",
      "Note: you may need to restart the kernel to use updated packages.\n",
      "Requirement already satisfied: awkward in /Users/billyli/miniforge_x86_new/envs/phys239/lib/python3.7/site-packages (1.10.5)\n",
      "Collecting awkward\n",
      "  Using cached awkward-2.2.4-py3-none-any.whl (622 kB)\n",
      "Requirement already satisfied: typing-extensions>=4.1.0 in /Users/billyli/miniforge_x86_new/envs/phys239/lib/python3.7/site-packages (from awkward) (4.4.0)\n",
      "Requirement already satisfied: numpy>=1.17.0 in /Users/billyli/miniforge_x86_new/envs/phys239/lib/python3.7/site-packages (from awkward) (1.21.6)\n",
      "Requirement already satisfied: awkward-cpp==17 in /Users/billyli/miniforge_x86_new/envs/phys239/lib/python3.7/site-packages (from awkward) (17)\n",
      "Requirement already satisfied: packaging in /Users/billyli/miniforge_x86_new/envs/phys239/lib/python3.7/site-packages (from awkward) (23.0)\n",
      "Requirement already satisfied: importlib-resources in /Users/billyli/miniforge_x86_new/envs/phys239/lib/python3.7/site-packages (from awkward) (5.12.0)\n"
     ]
    },
    {
     "name": "stdout",
     "output_type": "stream",
     "text": [
      "Requirement already satisfied: zipp>=3.1.0 in /Users/billyli/miniforge_x86_new/envs/phys239/lib/python3.7/site-packages (from importlib-resources->awkward) (3.15.0)\n",
      "Installing collected packages: awkward\n",
      "  Attempting uninstall: awkward\n",
      "    Found existing installation: awkward 1.10.5\n",
      "    Uninstalling awkward-1.10.5:\n",
      "      Successfully uninstalled awkward-1.10.5\n",
      "\u001b[31mERROR: pip's dependency resolver does not currently take into account all the packages that are installed. This behaviour is the source of the following dependency conflicts.\n",
      "coffea 0.7.22 requires awkward<2,>=1.10.3, but you have awkward 2.2.4 which is incompatible.\u001b[0m\u001b[31m\n",
      "\u001b[0mSuccessfully installed awkward-2.2.4\n",
      "Note: you may need to restart the kernel to use updated packages.\n"
     ]
    }
   ],
   "source": [
    "%pip install coffea\n",
    "%pip install --upgrade awkward"
   ]
  },
  {
   "cell_type": "code",
   "execution_count": 2,
   "id": "fb0fc16f",
   "metadata": {},
   "outputs": [
    {
     "name": "stderr",
     "output_type": "stream",
     "text": [
      "/Users/billyli/miniforge_x86_new/envs/phys239/lib/python3.7/site-packages/coffea/util.py:154: FutureWarning: In coffea version v2023.3.0 (target date: 31 Mar 2023), this will be an error.\n",
      "(Set coffea.deprecations_as_errors = True to get a stack trace now.)\n",
      "ImportError: coffea.hist is deprecated\n",
      "  warnings.warn(message, FutureWarning)\n"
     ]
    }
   ],
   "source": [
    "import itertools\n",
    "import logging\n",
    "from pathlib import Path\n",
    "import numba as nb\n",
    "\n",
    "import awkward as ak\n",
    "import click\n",
    "import h5py as h5\n",
    "import numpy as np\n",
    "import vector\n",
    "\n",
    "from coffea.hist.plot import clopper_pearson_interval\n",
    "import matplotlib.pyplot as plt\n",
    "\n",
    "# from src.data.cms.convert_to_h5 import MIN_JETS, N_JETS, N_FJETS\n",
    "\n",
    "vector.register_awkward()\n",
    "\n",
    "logging.basicConfig(level=logging.INFO)"
   ]
  },
  {
   "cell_type": "code",
   "execution_count": 3,
   "id": "cad6b150",
   "metadata": {},
   "outputs": [],
   "source": [
    "# read test target file\n",
    "test_file = \"//Users/billyli/UCSD/hhh/reports/bv2/hhh_test.h5\"\n",
    "test_h5 = h5.File(test_file)\n",
    "\n",
    "# read baseline prediction\n",
    "baseline_file = \"//Users/billyli/UCSD/hhh/reports/bv2/pred_baseline.h5\"\n",
    "b_h5 = h5.File(baseline_file)\n",
    "\n",
    "# read spanet prediction\n",
    "spanet_file = \"//Users/billyli/UCSD/hhh/reports/bv2/dp_on/pred_v53.h5\"\n",
    "s_h5 = h5.File(spanet_file)"
   ]
  },
  {
   "cell_type": "code",
   "execution_count": 4,
   "id": "458d96f8",
   "metadata": {},
   "outputs": [],
   "source": [
    "def sel_pred_by_dp(dps, aps, bb_ps, dp_cut):\n",
    "    # parse predicted bb assignment by DP\n",
    "    dp_filter = dps>dp_cut\n",
    "    ak8_filter = bb_ps>9\n",
    "    filter = dp_filter&ak8_filter\n",
    "    \n",
    "    bb_ps_passed = bb_ps.mask[filter]\n",
    "    bb_ps_passed = ak.drop_none(bb_ps_passed)\n",
    "    \n",
    "    return bb_ps_passed"
   ]
  },
  {
   "cell_type": "code",
   "execution_count": 5,
   "id": "97f4563b",
   "metadata": {},
   "outputs": [],
   "source": [
    "def sel_target_by_mask(bb_ts, bh_pts, bh_masks):\n",
    "    bb_ts_selected = bb_ts.mask[bh_masks]\n",
    "    bb_ts_selected = ak.drop_none(bb_ts_selected)\n",
    "    \n",
    "    bh_selected_pts = bh_pts.mask[bh_masks]\n",
    "    bh_selected_pts = ak.drop_none(bh_selected_pts)\n",
    "    \n",
    "    return bb_ts_selected, bh_selected_pts"
   ]
  },
  {
   "cell_type": "code",
   "execution_count": 6,
   "id": "81791964",
   "metadata": {},
   "outputs": [],
   "source": [
    "# A pred look up table is in shape\n",
    "# [event,\n",
    "#    pred_H, \n",
    "#       [correct, pred_H_pt]]\n",
    "def gen_pred_LUT(bb_ps_passed, bb_ts_selected, fj_pts):\n",
    "    LUT = []\n",
    "    # for each event\n",
    "    for bb_t_event, bb_p_event, fj_pt_event in zip(bb_ts_selected, bb_ps_passed, fj_pts):\n",
    "        # for each predicted bb assignment, check if any target H have a same bb assignment\n",
    "        LUT_event = []\n",
    "        for i, bb_p in enumerate(bb_p_event):\n",
    "            correct = 0\n",
    "            predH_pt = fj_pt_event[bb_p-10]\n",
    "            for bb_t in bb_t_event:\n",
    "                if bb_p == bb_t+10:\n",
    "                    correct = 1\n",
    "            LUT_event.append([correct, predH_pt])\n",
    "        LUT.append(LUT_event)\n",
    "    return LUT"
   ]
  },
  {
   "cell_type": "code",
   "execution_count": 7,
   "id": "a56f264f",
   "metadata": {},
   "outputs": [],
   "source": [
    "# A target look up table is in shape\n",
    "# [event,\n",
    "#    target_H, \n",
    "#        target_bb_assign,\n",
    "#           [retrieved, targetH_pt]]\n",
    "def gen_target_LUT(bb_ps_passed, bb_ts_selected, targetH_pts):\n",
    "    LUT = []\n",
    "    # for each event\n",
    "    for bb_t_event, bb_p_event, targetH_pts_event in zip(bb_ts_selected, bb_ps_passed, targetH_pts):\n",
    "        # for each target fatjet, check if the predictions have a p fatject same with the t fatjet\n",
    "        LUT_event = []\n",
    "        for i, bb_t in enumerate(bb_t_event):\n",
    "            retrieved = 0\n",
    "            targetH_pt = targetH_pts_event[i]\n",
    "            for bb_p in bb_p_event:\n",
    "                if bb_p == bb_t+10:\n",
    "                    retrieved = 1\n",
    "            LUT_event.append([retrieved, targetH_pt])\n",
    "        LUT.append(LUT_event)\n",
    "    return LUT"
   ]
  },
  {
   "cell_type": "code",
   "execution_count": 8,
   "id": "f57e2d53",
   "metadata": {},
   "outputs": [],
   "source": [
    "# generate pred/target LUT\n",
    "# each entry corresponds to [recoH correct or not, reco H pt]\n",
    "# or \n",
    "# [targetH retrieved or not, target H pt]\n",
    "def parse_pred_w_target(testfile, predfile, dp_cut=0.5):\n",
    "    # Collect H pt, mask, target and predicted jet and fjets for 3 Hs in each event\n",
    "    # h pt\n",
    "    h1_pt = np.array(testfile['TARGETS']['h1']['pt'])\n",
    "    h2_pt = np.array(testfile['TARGETS']['h2']['pt'])\n",
    "    h3_pt = np.array(testfile['TARGETS']['h3']['pt'])\n",
    "\n",
    "    bh1_pt = np.array(testfile['TARGETS']['bh1']['pt'])\n",
    "    bh2_pt = np.array(testfile['TARGETS']['bh2']['pt'])\n",
    "    bh3_pt = np.array(testfile['TARGETS']['bh3']['pt'])\n",
    "\n",
    "    # mask\n",
    "    h1_mask = np.array(testfile['TARGETS']['h1']['mask'])\n",
    "    h2_mask = np.array(testfile['TARGETS']['h2']['mask'])\n",
    "    h3_mask = np.array(testfile['TARGETS']['h3']['mask'])\n",
    "\n",
    "    bh1_mask = np.array(testfile['TARGETS']['bh1']['mask'])\n",
    "    bh2_mask = np.array(testfile['TARGETS']['bh2']['mask'])\n",
    "    bh3_mask = np.array(testfile['TARGETS']['bh3']['mask'])\n",
    "\n",
    "    # target jet/fjets\n",
    "    b1_h1_t = np.array(testfile[\"TARGETS\"][\"h1\"]['b1'])\n",
    "    b1_h2_t = np.array(testfile[\"TARGETS\"][\"h2\"]['b1'])\n",
    "    b1_h3_t = np.array(testfile[\"TARGETS\"][\"h3\"]['b1'])\n",
    "\n",
    "    b2_h1_t = np.array(testfile[\"TARGETS\"][\"h1\"]['b2'])\n",
    "    b2_h2_t = np.array(testfile[\"TARGETS\"][\"h2\"]['b2'])\n",
    "    b2_h3_t = np.array(testfile[\"TARGETS\"][\"h3\"]['b2'])\n",
    "\n",
    "    bb_bh1_t = np.array(testfile[\"TARGETS\"][\"bh1\"]['bb'])\n",
    "    bb_bh2_t = np.array(testfile[\"TARGETS\"][\"bh2\"]['bb'])\n",
    "    bb_bh3_t = np.array(testfile[\"TARGETS\"][\"bh3\"]['bb'])\n",
    "\n",
    "    # pred jet/fjets\n",
    "    bb_bh1_p = np.array(predfile[\"TARGETS\"][\"bh1\"]['bb'])\n",
    "    bb_bh2_p = np.array(predfile[\"TARGETS\"][\"bh2\"]['bb'])\n",
    "    bb_bh3_p = np.array(predfile[\"TARGETS\"][\"bh3\"]['bb'])\n",
    "\n",
    "\n",
    "    # fatjet detection probability\n",
    "    dp_bh1 = np.array(predfile[\"TARGETS\"][\"bh1\"]['detection_probability'])\n",
    "    dp_bh2 = np.array(predfile[\"TARGETS\"][\"bh2\"]['detection_probability'])\n",
    "    dp_bh3 = np.array(predfile[\"TARGETS\"][\"bh3\"]['detection_probability'])\n",
    "    \n",
    "    # fatjet assignment probability\n",
    "    ap_bh1 = np.array(predfile[\"TARGETS\"][\"bh1\"]['assignment_probability'])\n",
    "    ap_bh2 = np.array(predfile[\"TARGETS\"][\"bh2\"]['assignment_probability'])\n",
    "    ap_bh3 = np.array(predfile[\"TARGETS\"][\"bh3\"]['assignment_probability'])\n",
    "    \n",
    "    # collect fatjet pt\n",
    "    fj_pts = np.array(testfile['INPUTS']['BoostedJets']['fj_pt'])\n",
    "    \n",
    "    # convert some arrays to ak array\n",
    "    dps = np.concatenate((dp_bh1.reshape(-1, 1), dp_bh2.reshape(-1, 1), dp_bh3.reshape(-1, 1)), axis=1)\n",
    "    dps = ak.Array(dps)\n",
    "    aps = np.concatenate((ap_bh1.reshape(-1, 1), ap_bh2.reshape(-1, 1), ap_bh3.reshape(-1, 1)), axis=1)\n",
    "    aps = ak.Array(aps)\n",
    "    bb_ps = np.concatenate((bb_bh1_p.reshape(-1, 1), bb_bh2_p.reshape(-1, 1), bb_bh3_p.reshape(-1, 1)), axis=1)\n",
    "    bb_ps = ak.Array(bb_ps)\n",
    "    bb_ts = np.concatenate((bb_bh1_t.reshape(-1, 1), bb_bh2_t.reshape(-1, 1), bb_bh3_t.reshape(-1, 1)), axis=1)\n",
    "    bb_ts = ak.Array(bb_ts)\n",
    "    fj_pts = ak.Array(fj_pts)\n",
    "    bh_masks = np.concatenate((bh1_mask.reshape(-1, 1), bh2_mask.reshape(-1, 1), bh3_mask.reshape(-1, 1)), axis=1)\n",
    "    bh_masks = ak.Array(bh_masks)\n",
    "    bh_pts = np.concatenate((bh1_pt.reshape(-1, 1), bh2_pt.reshape(-1, 1), bh3_pt.reshape(-1, 1)), axis=1)\n",
    "    bh_pts = ak.Array(bh_pts)\n",
    "    \n",
    "    # select predictions and targets\n",
    "    bb_ts_selected, targetH_selected_pts = sel_target_by_mask(bb_ts, bh_pts, bh_masks)\n",
    "    bb_ps_selected = sel_pred_by_dp(dps, aps, bb_ps, dp_cut)\n",
    "    \n",
    "    # generate correct/retrieved LUT for pred/target respectively\n",
    "    LUT_pred = gen_pred_LUT(bb_ps_selected, bb_ts_selected, fj_pts)\n",
    "    LUT_target = gen_target_LUT(bb_ps_selected, bb_ts_selected, targetH_selected_pts)\n",
    "    \n",
    "    return LUT_pred, LUT_target"
   ]
  },
  {
   "cell_type": "code",
   "execution_count": 9,
   "id": "1c2773d3",
   "metadata": {},
   "outputs": [],
   "source": [
    "# generate pred/target LUT\n",
    "# each entry corresponds to [recoH correct or not, reco H pt]\n",
    "# or \n",
    "# [targetH retrieved or not, target H pt]\n",
    "def parse_pred_w_target_ap(testfile, predfile, dp_cut=0.5, ap_cut=1/20):\n",
    "    # Collect H pt, mask, target and predicted jet and fjets for 3 Hs in each event\n",
    "    # h pt\n",
    "    h1_pt = np.array(testfile['TARGETS']['h1']['pt'])\n",
    "    h2_pt = np.array(testfile['TARGETS']['h2']['pt'])\n",
    "    h3_pt = np.array(testfile['TARGETS']['h3']['pt'])\n",
    "\n",
    "    bh1_pt = np.array(testfile['TARGETS']['bh1']['pt'])\n",
    "    bh2_pt = np.array(testfile['TARGETS']['bh2']['pt'])\n",
    "    bh3_pt = np.array(testfile['TARGETS']['bh3']['pt'])\n",
    "\n",
    "    # mask\n",
    "    h1_mask = np.array(testfile['TARGETS']['h1']['mask'])\n",
    "    h2_mask = np.array(testfile['TARGETS']['h2']['mask'])\n",
    "    h3_mask = np.array(testfile['TARGETS']['h3']['mask'])\n",
    "\n",
    "    bh1_mask = np.array(testfile['TARGETS']['bh1']['mask'])\n",
    "    bh2_mask = np.array(testfile['TARGETS']['bh2']['mask'])\n",
    "    bh3_mask = np.array(testfile['TARGETS']['bh3']['mask'])\n",
    "\n",
    "    # target jet/fjets\n",
    "    b1_h1_t = np.array(testfile[\"TARGETS\"][\"h1\"]['b1'])\n",
    "    b1_h2_t = np.array(testfile[\"TARGETS\"][\"h2\"]['b1'])\n",
    "    b1_h3_t = np.array(testfile[\"TARGETS\"][\"h3\"]['b1'])\n",
    "\n",
    "    b2_h1_t = np.array(testfile[\"TARGETS\"][\"h1\"]['b2'])\n",
    "    b2_h2_t = np.array(testfile[\"TARGETS\"][\"h2\"]['b2'])\n",
    "    b2_h3_t = np.array(testfile[\"TARGETS\"][\"h3\"]['b2'])\n",
    "\n",
    "    bb_bh1_t = np.array(testfile[\"TARGETS\"][\"bh1\"]['bb'])\n",
    "    bb_bh2_t = np.array(testfile[\"TARGETS\"][\"bh2\"]['bb'])\n",
    "    bb_bh3_t = np.array(testfile[\"TARGETS\"][\"bh3\"]['bb'])\n",
    "\n",
    "    # pred jet/fjets\n",
    "    bb_bh1_p = np.array(predfile[\"TARGETS\"][\"bh1\"]['bb'])\n",
    "    bb_bh2_p = np.array(predfile[\"TARGETS\"][\"bh2\"]['bb'])\n",
    "    bb_bh3_p = np.array(predfile[\"TARGETS\"][\"bh3\"]['bb'])\n",
    "\n",
    "\n",
    "    # fatjet detection probability\n",
    "    dp_bh1 = np.array(predfile[\"TARGETS\"][\"bh1\"]['detection_probability'])\n",
    "    dp_bh2 = np.array(predfile[\"TARGETS\"][\"bh2\"]['detection_probability'])\n",
    "    dp_bh3 = np.array(predfile[\"TARGETS\"][\"bh3\"]['detection_probability'])\n",
    "    \n",
    "    # fatjet assignment probability\n",
    "    ap_bh1 = np.array(predfile[\"TARGETS\"][\"bh1\"]['assignment_probability'])\n",
    "    ap_bh2 = np.array(predfile[\"TARGETS\"][\"bh2\"]['assignment_probability'])\n",
    "    ap_bh3 = np.array(predfile[\"TARGETS\"][\"bh3\"]['assignment_probability'])\n",
    "    \n",
    "    # collect fatjet pt\n",
    "    fj_pts = np.array(testfile['INPUTS']['BoostedJets']['fj_pt'])\n",
    "    \n",
    "    # convert some arrays to ak array\n",
    "    dps = np.concatenate((dp_bh1.reshape(-1, 1), dp_bh2.reshape(-1, 1), dp_bh3.reshape(-1, 1)), axis=1)\n",
    "    dps = ak.Array(dps)\n",
    "    aps = np.concatenate((ap_bh1.reshape(-1, 1), ap_bh2.reshape(-1, 1), ap_bh3.reshape(-1, 1)), axis=1)\n",
    "    aps = ak.Array(aps)\n",
    "    bb_ps = np.concatenate((bb_bh1_p.reshape(-1, 1), bb_bh2_p.reshape(-1, 1), bb_bh3_p.reshape(-1, 1)), axis=1)\n",
    "    bb_ps = ak.Array(bb_ps)\n",
    "    bb_ts = np.concatenate((bb_bh1_t.reshape(-1, 1), bb_bh2_t.reshape(-1, 1), bb_bh3_t.reshape(-1, 1)), axis=1)\n",
    "    bb_ts = ak.Array(bb_ts)\n",
    "    fj_pts = ak.Array(fj_pts)\n",
    "    bh_masks = np.concatenate((bh1_mask.reshape(-1, 1), bh2_mask.reshape(-1, 1), bh3_mask.reshape(-1, 1)), axis=1)\n",
    "    bh_masks = ak.Array(bh_masks)\n",
    "    bh_pts = np.concatenate((bh1_pt.reshape(-1, 1), bh2_pt.reshape(-1, 1), bh3_pt.reshape(-1, 1)), axis=1)\n",
    "    bh_pts = ak.Array(bh_pts)\n",
    "    \n",
    "    # select predictions and targets\n",
    "    bb_ts_selected, targetH_selected_pts = sel_target_by_mask(bb_ts, bh_pts, bh_masks)\n",
    "    bb_ps_selected = sel_pred_by_dp_ap(dps, aps, bb_ps, dp_cut, ap_cut)\n",
    "    \n",
    "    # generate correct/retrieved LUT for pred/target respectively\n",
    "    LUT_pred = gen_pred_LUT(bb_ps_selected, bb_ts_selected, fj_pts)\n",
    "    LUT_target = gen_target_LUT(bb_ps_selected, bb_ts_selected, targetH_selected_pts)\n",
    "    \n",
    "    return LUT_pred, LUT_target"
   ]
  },
  {
   "cell_type": "code",
   "execution_count": 10,
   "id": "21e49987",
   "metadata": {},
   "outputs": [],
   "source": [
    "# calculate efficiency\n",
    "# if bins=None, put all data in a single bin\n",
    "def calc_eff(LUT_pred, bins):\n",
    "    predHs = [predH for event in LUT_pred for predH in event]\n",
    "    predHs = np.array(predHs)\n",
    "    \n",
    "    predHs_inds = np.digitize(predHs[:,1], bins)\n",
    "    \n",
    "    correctTruth_per_bin = []\n",
    "    for bin_i in range(1, len(bins)):\n",
    "        correctTruth_per_bin.append(predHs[:,0][predHs_inds==bin_i])\n",
    "    correctTruth_per_bin = ak.Array(correctTruth_per_bin)\n",
    "    \n",
    "    means = ak.mean(correctTruth_per_bin, axis=-1)\n",
    "    \n",
    "    errs = np.abs(\n",
    "    clopper_pearson_interval(num=ak.sum(correctTruth_per_bin, axis=-1),\\\n",
    "                             denom=ak.num(correctTruth_per_bin, axis=-1)) - means\n",
    "    )\n",
    "    \n",
    "    return means, errs"
   ]
  },
  {
   "cell_type": "code",
   "execution_count": 11,
   "id": "a597865b",
   "metadata": {},
   "outputs": [],
   "source": [
    "# calculate purity\n",
    "def calc_pur(LUT_target, bins):\n",
    "    targetHs = [targetH for event in LUT_target for targetH in event]\n",
    "    targetHs = np.array(targetHs)\n",
    "    \n",
    "    targetHs_inds = np.digitize(targetHs[:,1], bins)\n",
    "    \n",
    "    correctTruth_per_bin = []\n",
    "    for bin_i in range(1, len(bins)):\n",
    "        correctTruth_per_bin.append(targetHs[:,0][targetHs_inds==bin_i])\n",
    "    correctTruth_per_bin = ak.Array(correctTruth_per_bin)\n",
    "    \n",
    "    means = ak.mean(correctTruth_per_bin, axis=-1)\n",
    "    \n",
    "    errs = np.abs(\n",
    "    clopper_pearson_interval(num=ak.sum(correctTruth_per_bin, axis=-1),\\\n",
    "                             denom=ak.num(correctTruth_per_bin, axis=-1)) - means\n",
    "    )\n",
    "    \n",
    "    return means, errs"
   ]
  },
  {
   "cell_type": "code",
   "execution_count": 12,
   "id": "f2944545",
   "metadata": {},
   "outputs": [],
   "source": [
    "bins = np.arange(200, 1000, 100)\n",
    "bin_centers = [(bins[i]+bins[i+1])/2 for i in range(bins.size-1)]\n",
    "xerr=(bins[1]-bins[0])/2*np.ones(bins.shape[0]-1)"
   ]
  },
  {
   "cell_type": "code",
   "execution_count": 13,
   "id": "1836736a",
   "metadata": {},
   "outputs": [],
   "source": [
    "def sel_pred_by_dp_ap(dps, aps, bb_ps, dp_cut, ap_cut):\n",
    "    # parse predicted bb assignment by DP\n",
    "    dp_filter = dps>dp_cut\n",
    "    ap_filter = aps>ap_cut\n",
    "    filter = dp_filter&ap_filter\n",
    "    \n",
    "    bb_ps_passed = bb_ps.mask[filter]\n",
    "    bb_ps_passed = ak.drop_none(bb_ps_passed)\n",
    "    \n",
    "    return bb_ps_passed"
   ]
  },
  {
   "cell_type": "code",
   "execution_count": 14,
   "id": "ab9d36e1",
   "metadata": {},
   "outputs": [],
   "source": [
    "dp_cut = 0.8\n",
    "LUT_pred_spanet, LUT_target_spanet = parse_pred_w_target(test_h5, s_h5, dp_cut=dp_cut)\n",
    "eff_s, efferr_s = calc_eff(LUT_pred_spanet, bins)\n",
    "pur_s, purerr_s = calc_pur(LUT_target_spanet, bins)"
   ]
  },
  {
   "cell_type": "code",
   "execution_count": 15,
   "id": "d500caa0",
   "metadata": {},
   "outputs": [
    {
     "data": {
      "image/png": "[encoded data removed]",
      "text/plain": [
       "<Figure size 1200x500 with 2 Axes>"
      ]
     },
     "metadata": {},
     "output_type": "display_data"
    }
   ],
   "source": [
    "fig, ax = plt.subplots(1, 2, figsize=(12, 5))\n",
    "ax[0].errorbar(x=bin_centers, y=eff_s, xerr=xerr, yerr=efferr_s, fmt='o', capsize=5, label='Trust if a fatjet is assigned')\n",
    "ax[0].set(xlabel=r\"Reco H pT (GeV)\", ylabel=r\"Matching efficiency\", title=f\"Matching Efficiency vs. Reco H pT, DP cut at {dp_cut}, AP cut at 1/13\")\n",
    "\n",
    "ax[1].errorbar(x=bin_centers, y=pur_s, xerr=xerr, yerr=purerr_s, fmt='o', capsize=5, label='Trust if a fatjet is assigned')\n",
    "ax[1].set(xlabel=r\"Gen H pT (GeV)\", ylabel=r\"Matching purity\", title=f\"Matching Purity vs. Gen H pT, DP cut at {dp_cut}, AP cut at 1/13\")\n",
    "\n",
    "dp_cut = 0.8\n",
    "ap_cut = 1/13\n",
    "LUT_pred_spanet, LUT_target_spanet = parse_pred_w_target_ap(test_h5, s_h5, dp_cut=dp_cut)\n",
    "eff_s, efferr_s = calc_eff(LUT_pred_spanet, bins)\n",
    "pur_s, purerr_s = calc_pur(LUT_target_spanet, bins)\n",
    "\n",
    "ax[0].errorbar(x=bin_centers, y=eff_s, xerr=xerr, yerr=efferr_s, fmt='o', capsize=5, label='After AP_cut')\n",
    "ax[0].set(xlabel=r\"Reco H pT (GeV)\", ylabel=r\"Matching efficiency\", title=f\"Matching Efficiency vs. Reco H pT, DP cut at {dp_cut}, AP cut at 1/13\")\n",
    "\n",
    "ax[1].errorbar(x=bin_centers, y=pur_s, xerr=xerr, yerr=purerr_s, fmt='o', capsize=5, label='After AP_cut')\n",
    "ax[1].set(xlabel=r\"Gen H pT (GeV)\", ylabel=r\"Matching purity\", title=f\"Matching Purity vs. Gen H pT, DP cut at {dp_cut}, AP cut at 1/13\")\n",
    "\n",
    "ax[0].legend()\n",
    "ax[1].legend()\n",
    "plt.tight_layout()\n",
    "plt.show()"
   ]
  },
  {
   "cell_type": "markdown",
   "id": "bad0c881",
   "metadata": {},
   "source": [
    "#### Investigate the difference between two plots"
   ]
  },
  {
   "cell_type": "code",
   "execution_count": 16,
   "id": "3fc4b49c",
   "metadata": {},
   "outputs": [],
   "source": [
    "testfile = test_h5\n",
    "predfile = s_h5\n",
    "h1_pt = np.array(testfile['TARGETS']['h1']['pt'])\n",
    "h2_pt = np.array(testfile['TARGETS']['h2']['pt'])\n",
    "h3_pt = np.array(testfile['TARGETS']['h3']['pt'])\n",
    "\n",
    "bh1_pt = np.array(testfile['TARGETS']['bh1']['pt'])\n",
    "bh2_pt = np.array(testfile['TARGETS']['bh2']['pt'])\n",
    "bh3_pt = np.array(testfile['TARGETS']['bh3']['pt'])\n",
    "\n",
    "# mask\n",
    "h1_mask = np.array(testfile['TARGETS']['h1']['mask'])\n",
    "h2_mask = np.array(testfile['TARGETS']['h2']['mask'])\n",
    "h3_mask = np.array(testfile['TARGETS']['h3']['mask'])\n",
    "\n",
    "bh1_mask = np.array(testfile['TARGETS']['bh1']['mask'])\n",
    "bh2_mask = np.array(testfile['TARGETS']['bh2']['mask'])\n",
    "bh3_mask = np.array(testfile['TARGETS']['bh3']['mask'])\n",
    "\n",
    "# target jet/fjets\n",
    "b1_h1_t = np.array(testfile[\"TARGETS\"][\"h1\"]['b1'])\n",
    "b1_h2_t = np.array(testfile[\"TARGETS\"][\"h2\"]['b1'])\n",
    "b1_h3_t = np.array(testfile[\"TARGETS\"][\"h3\"]['b1'])\n",
    "\n",
    "b2_h1_t = np.array(testfile[\"TARGETS\"][\"h1\"]['b2'])\n",
    "b2_h2_t = np.array(testfile[\"TARGETS\"][\"h2\"]['b2'])\n",
    "b2_h3_t = np.array(testfile[\"TARGETS\"][\"h3\"]['b2'])\n",
    "\n",
    "bb_bh1_t = np.array(testfile[\"TARGETS\"][\"bh1\"]['bb'])\n",
    "bb_bh2_t = np.array(testfile[\"TARGETS\"][\"bh2\"]['bb'])\n",
    "bb_bh3_t = np.array(testfile[\"TARGETS\"][\"bh3\"]['bb'])\n",
    "\n",
    "# pred jet/fjets\n",
    "bb_bh1_p = np.array(predfile[\"TARGETS\"][\"bh1\"]['bb'])\n",
    "bb_bh2_p = np.array(predfile[\"TARGETS\"][\"bh2\"]['bb'])\n",
    "bb_bh3_p = np.array(predfile[\"TARGETS\"][\"bh3\"]['bb'])\n",
    "\n",
    "\n",
    "# fatjet detection probability\n",
    "dp_bh1 = np.array(predfile[\"TARGETS\"][\"bh1\"]['detection_probability'])\n",
    "dp_bh2 = np.array(predfile[\"TARGETS\"][\"bh2\"]['detection_probability'])\n",
    "dp_bh3 = np.array(predfile[\"TARGETS\"][\"bh3\"]['detection_probability'])\n",
    "\n",
    "# fatjet assignment probability\n",
    "ap_bh1 = np.array(predfile[\"TARGETS\"][\"bh1\"]['assignment_probability'])\n",
    "ap_bh2 = np.array(predfile[\"TARGETS\"][\"bh2\"]['assignment_probability'])\n",
    "ap_bh3 = np.array(predfile[\"TARGETS\"][\"bh3\"]['assignment_probability'])\n",
    "\n",
    "# collect fatjet pt\n",
    "fj_pts = np.array(testfile['INPUTS']['BoostedJets']['fj_pt'])\n",
    "\n",
    "# convert some arrays to ak array\n",
    "dps = np.concatenate((dp_bh1.reshape(-1, 1), dp_bh2.reshape(-1, 1), dp_bh3.reshape(-1, 1)), axis=1)\n",
    "dps = ak.Array(dps)\n",
    "aps = np.concatenate((ap_bh1.reshape(-1, 1), ap_bh2.reshape(-1, 1), ap_bh3.reshape(-1, 1)), axis=1)\n",
    "aps = ak.Array(aps)\n",
    "bb_ps = np.concatenate((bb_bh1_p.reshape(-1, 1), bb_bh2_p.reshape(-1, 1), bb_bh3_p.reshape(-1, 1)), axis=1)\n",
    "bb_ps = ak.Array(bb_ps)\n",
    "bb_ts = np.concatenate((bb_bh1_t.reshape(-1, 1), bb_bh2_t.reshape(-1, 1), bb_bh3_t.reshape(-1, 1)), axis=1)\n",
    "bb_ts = ak.Array(bb_ts)\n",
    "fj_pts = ak.Array(fj_pts)\n",
    "bh_masks = np.concatenate((bh1_mask.reshape(-1, 1), bh2_mask.reshape(-1, 1), bh3_mask.reshape(-1, 1)), axis=1)\n",
    "bh_masks = ak.Array(bh_masks)\n",
    "bh_pts = np.concatenate((bh1_pt.reshape(-1, 1), bh2_pt.reshape(-1, 1), bh3_pt.reshape(-1, 1)), axis=1)\n",
    "bh_pts = ak.Array(bh_pts)\n",
    "\n"
   ]
  },
  {
   "cell_type": "code",
   "execution_count": 17,
   "id": "eb67bc34",
   "metadata": {},
   "outputs": [],
   "source": [
    "dp_filter = dps>dp_cut\n",
    "ak8_filter = bb_ps>9\n",
    "filter = dp_filter&ak8_filter\n",
    "\n",
    "aps = aps.mask[filter]\n"
   ]
  },
  {
   "cell_type": "code",
   "execution_count": 18,
   "id": "fa368c47",
   "metadata": {},
   "outputs": [],
   "source": [
    "aps_pass_np = ak.ravel(ak.drop_none(aps)).to_numpy()"
   ]
  },
  {
   "cell_type": "code",
   "execution_count": 19,
   "id": "8741adb0",
   "metadata": {},
   "outputs": [
    {
     "data": {
      "text/plain": [
       "Text(0.5, 1.0, 'Maximum Assignment Probability of Fatjets of Each Event')"
      ]
     },
     "execution_count": 19,
     "metadata": {},
     "output_type": "execute_result"
    },
    {
     "data": {
      "image/png": "[encoded data removed]",
      "text/plain": [
       "<Figure size 640x480 with 1 Axes>"
      ]
     },
     "metadata": {},
     "output_type": "display_data"
    }
   ],
   "source": [
    "vals, bins, patches = plt.hist(aps_pass_np)\n",
    "plt.title('Maximum Assignment Probability of Fatjets of Each Event')"
   ]
  },
  {
   "cell_type": "code",
   "execution_count": 20,
   "id": "b89558a5",
   "metadata": {},
   "outputs": [
    {
     "data": {
      "text/plain": [
       "array([   12,     2,     2,     1,     4,    19,    17,    26,    57,\n",
       "       10281])"
      ]
     },
     "execution_count": 20,
     "metadata": {},
     "output_type": "execute_result"
    }
   ],
   "source": [
    "vals.astype('int')"
   ]
  },
  {
   "cell_type": "code",
   "execution_count": 21,
   "id": "24b5a4f6",
   "metadata": {},
   "outputs": [
    {
     "data": {
      "text/plain": [
       "array([1.31592751e-04, 1.00118436e-01, 2.00105280e-01, 3.00092101e-01,\n",
       "       4.00078952e-01, 5.00065804e-01, 6.00052655e-01, 7.00039506e-01,\n",
       "       8.00026298e-01, 9.00013149e-01, 1.00000000e+00], dtype=float32)"
      ]
     },
     "execution_count": 21,
     "metadata": {},
     "output_type": "execute_result"
    }
   ],
   "source": [
    "bins"
   ]
  },
  {
   "cell_type": "code",
   "execution_count": 22,
   "id": "816f5d16",
   "metadata": {},
   "outputs": [
    {
     "data": {
      "text/plain": [
       "0.00796468669033682"
      ]
     },
     "execution_count": 22,
     "metadata": {},
     "output_type": "execute_result"
    }
   ],
   "source": [
    "vals[0:-2].sum()/vals.sum()"
   ]
  },
  {
   "cell_type": "code",
   "execution_count": null,
   "id": "d93a28d5",
   "metadata": {},
   "outputs": [],
   "source": []
  }
 ],
 "metadata": {
  "kernelspec": {
   "display_name": "Python 3 (ipykernel)",
   "language": "python",
   "name": "python3"
  },
  "language_info": {
   "codemirror_mode": {
    "name": "ipython",
    "version": 3
   },
   "file_extension": ".py",
   "mimetype": "text/x-python",
   "name": "python",
   "nbconvert_exporter": "python",
   "pygments_lexer": "ipython3",
   "version": "3.7.12"
  }
 },
 "nbformat": 4,
 "nbformat_minor": 5
}
