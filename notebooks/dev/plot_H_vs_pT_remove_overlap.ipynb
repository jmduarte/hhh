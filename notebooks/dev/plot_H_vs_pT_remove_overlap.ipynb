{
 "cells": [
  {
   "cell_type": "code",
   "execution_count": 1,
   "id": "c04d00cf",
   "metadata": {},
   "outputs": [
    {
     "name": "stdout",
     "output_type": "stream",
     "text": [
      "Requirement already satisfied: coffea in /Users/billyli/miniforge_x86_new/lib/python3.9/site-packages (0.7.20)\n",
      "Requirement already satisfied: numba>=0.56.0 in /Users/billyli/miniforge_x86_new/lib/python3.9/site-packages (from coffea) (0.56.4)\n",
      "Requirement already satisfied: cachetools in /Users/billyli/miniforge_x86_new/lib/python3.9/site-packages (from coffea) (5.3.0)\n",
      "Requirement already satisfied: pandas in /Users/billyli/miniforge_x86_new/lib/python3.9/site-packages (from coffea) (1.5.3)\n",
      "Requirement already satisfied: cloudpickle>=1.2.3 in /Users/billyli/miniforge_x86_new/lib/python3.9/site-packages (from coffea) (2.2.1)\n",
      "Requirement already satisfied: uproot3>=3.14.1 in /Users/billyli/miniforge_x86_new/lib/python3.9/site-packages (from coffea) (3.14.4)\n",
      "Requirement already satisfied: toml>=0.10.2 in /Users/billyli/miniforge_x86_new/lib/python3.9/site-packages (from coffea) (0.10.2)\n",
      "Requirement already satisfied: matplotlib>=3 in /Users/billyli/miniforge_x86_new/lib/python3.9/site-packages (from coffea) (3.6.2)\n",
      "Requirement already satisfied: fsspec in /Users/billyli/miniforge_x86_new/lib/python3.9/site-packages (from coffea) (2022.11.0)\n",
      "Requirement already satisfied: numpy>=1.18.0 in /Users/billyli/miniforge_x86_new/lib/python3.9/site-packages (from coffea) (1.23.1)\n",
      "Requirement already satisfied: hist>=2 in /Users/billyli/miniforge_x86_new/lib/python3.9/site-packages (from coffea) (2.6.3)\n",
      "Collecting awkward<2,>=1.5.1\n",
      "  Using cached awkward-1.10.5-cp39-cp39-macosx_10_9_x86_64.whl (12.1 MB)\n",
      "Requirement already satisfied: correctionlib>=2.0.0 in /Users/billyli/miniforge_x86_new/lib/python3.9/site-packages (from coffea) (2.2.2)\n",
      "Requirement already satisfied: mplhep>=0.1.18 in /Users/billyli/miniforge_x86_new/lib/python3.9/site-packages (from coffea) (0.3.26)\n",
      "Requirement already satisfied: tqdm>=4.27.0 in /Users/billyli/miniforge_x86_new/lib/python3.9/site-packages (from coffea) (4.64.1)\n",
      "Requirement already satisfied: pyarrow>=1.0.0 in /Users/billyli/miniforge_x86_new/lib/python3.9/site-packages (from coffea) (11.0.0)\n",
      "Requirement already satisfied: lz4 in /Users/billyli/miniforge_x86_new/lib/python3.9/site-packages (from coffea) (4.3.2)\n",
      "Requirement already satisfied: packaging in /Users/billyli/miniforge_x86_new/lib/python3.9/site-packages (from coffea) (22.0)\n",
      "Requirement already satisfied: uproot3-methods>=0.10.0 in /Users/billyli/miniforge_x86_new/lib/python3.9/site-packages (from coffea) (0.10.1)\n",
      "Requirement already satisfied: uproot!=4.2.4,!=4.3.0,!=4.3.1,==4.*,>=4.1.6 in /Users/billyli/miniforge_x86_new/lib/python3.9/site-packages (from coffea) (4.3.4)\n",
      "Requirement already satisfied: scipy>=1.1.0 in /Users/billyli/miniforge_x86_new/lib/python3.9/site-packages (from coffea) (1.9.0)\n",
      "Requirement already satisfied: setuptools in /Users/billyli/miniforge_x86_new/lib/python3.9/site-packages (from uproot!=4.2.4,!=4.3.0,!=4.3.1,==4.*,>=4.1.6->coffea) (59.5.0)\n",
      "Requirement already satisfied: pydantic>=1.7.3 in /Users/billyli/miniforge_x86_new/lib/python3.9/site-packages (from correctionlib>=2.0.0->coffea) (1.10.5)\n",
      "Requirement already satisfied: rich in /Users/billyli/miniforge_x86_new/lib/python3.9/site-packages (from correctionlib>=2.0.0->coffea) (13.3.1)\n",
      "Requirement already satisfied: boost-histogram~=1.3.1 in /Users/billyli/miniforge_x86_new/lib/python3.9/site-packages (from hist>=2->coffea) (1.3.2)\n",
      "Requirement already satisfied: histoprint>=2.2.0 in /Users/billyli/miniforge_x86_new/lib/python3.9/site-packages (from hist>=2->coffea) (2.4.0)\n",
      "Requirement already satisfied: python-dateutil>=2.7 in /Users/billyli/miniforge_x86_new/lib/python3.9/site-packages (from matplotlib>=3->coffea) (2.8.2)\n",
      "Requirement already satisfied: cycler>=0.10 in /Users/billyli/miniforge_x86_new/lib/python3.9/site-packages (from matplotlib>=3->coffea) (0.11.0)\n",
      "Requirement already satisfied: pillow>=6.2.0 in /Users/billyli/miniforge_x86_new/lib/python3.9/site-packages (from matplotlib>=3->coffea) (9.2.0)\n",
      "Requirement already satisfied: pyparsing>=2.2.1 in /Users/billyli/miniforge_x86_new/lib/python3.9/site-packages (from matplotlib>=3->coffea) (3.0.9)\n",
      "Requirement already satisfied: kiwisolver>=1.0.1 in /Users/billyli/miniforge_x86_new/lib/python3.9/site-packages (from matplotlib>=3->coffea) (1.4.4)\n",
      "Requirement already satisfied: contourpy>=1.0.1 in /Users/billyli/miniforge_x86_new/lib/python3.9/site-packages (from matplotlib>=3->coffea) (1.0.6)\n",
      "Requirement already satisfied: fonttools>=4.22.0 in /Users/billyli/miniforge_x86_new/lib/python3.9/site-packages (from matplotlib>=3->coffea) (4.38.0)\n",
      "Requirement already satisfied: uhi>=0.2.0 in /Users/billyli/miniforge_x86_new/lib/python3.9/site-packages (from mplhep>=0.1.18->coffea) (0.3.3)\n",
      "Requirement already satisfied: mplhep-data in /Users/billyli/miniforge_x86_new/lib/python3.9/site-packages (from mplhep>=0.1.18->coffea) (0.0.3)\n",
      "Requirement already satisfied: llvmlite<0.40,>=0.39.0dev0 in /Users/billyli/miniforge_x86_new/lib/python3.9/site-packages (from numba>=0.56.0->coffea) (0.39.1)\n",
      "Requirement already satisfied: awkward0 in /Users/billyli/miniforge_x86_new/lib/python3.9/site-packages (from uproot3>=3.14.1->coffea) (0.15.5)\n",
      "Requirement already satisfied: pytz>=2020.1 in /Users/billyli/miniforge_x86_new/lib/python3.9/site-packages (from pandas->coffea) (2022.1)\n",
      "Requirement already satisfied: click>=7.0.0 in /Users/billyli/miniforge_x86_new/lib/python3.9/site-packages (from histoprint>=2.2.0->hist>=2->coffea) (8.1.3)\n",
      "Requirement already satisfied: typing-extensions>=4.2.0 in /Users/billyli/miniforge_x86_new/lib/python3.9/site-packages (from pydantic>=1.7.3->correctionlib>=2.0.0->coffea) (4.4.0)\n",
      "Requirement already satisfied: six>=1.5 in /Users/billyli/miniforge_x86_new/lib/python3.9/site-packages (from python-dateutil>=2.7->matplotlib>=3->coffea) (1.16.0)\n",
      "Requirement already satisfied: pygments<3.0.0,>=2.14.0 in /Users/billyli/miniforge_x86_new/lib/python3.9/site-packages (from rich->correctionlib>=2.0.0->coffea) (2.14.0)\n",
      "Requirement already satisfied: markdown-it-py<3.0.0,>=2.1.0 in /Users/billyli/miniforge_x86_new/lib/python3.9/site-packages (from rich->correctionlib>=2.0.0->coffea) (2.1.0)\n",
      "Requirement already satisfied: mdurl~=0.1 in /Users/billyli/miniforge_x86_new/lib/python3.9/site-packages (from markdown-it-py<3.0.0,>=2.1.0->rich->correctionlib>=2.0.0->coffea) (0.1.2)\n",
      "Installing collected packages: awkward\n",
      "  Attempting uninstall: awkward\n",
      "    Found existing installation: awkward 2.5.1\n",
      "    Uninstalling awkward-2.5.1:\n",
      "      Successfully uninstalled awkward-2.5.1\n",
      "Successfully installed awkward-1.10.5\n",
      "Note: you may need to restart the kernel to use updated packages.\n",
      "Requirement already satisfied: awkward in /Users/billyli/miniforge_x86_new/lib/python3.9/site-packages (1.10.5)\n",
      "Collecting awkward\n",
      "  Using cached awkward-2.5.1-py3-none-any.whl (733 kB)\n",
      "Requirement already satisfied: importlib-metadata>=4.13.0 in /Users/billyli/miniforge_x86_new/lib/python3.9/site-packages (from awkward) (6.8.0)\n",
      "Requirement already satisfied: typing-extensions>=4.1.0 in /Users/billyli/miniforge_x86_new/lib/python3.9/site-packages (from awkward) (4.4.0)\n",
      "Requirement already satisfied: packaging in /Users/billyli/miniforge_x86_new/lib/python3.9/site-packages (from awkward) (22.0)\n",
      "Requirement already satisfied: numpy>=1.18.0 in /Users/billyli/miniforge_x86_new/lib/python3.9/site-packages (from awkward) (1.23.1)\n",
      "Requirement already satisfied: awkward-cpp==27 in /Users/billyli/miniforge_x86_new/lib/python3.9/site-packages (from awkward) (27)\n",
      "Requirement already satisfied: zipp>=0.5 in /Users/billyli/miniforge_x86_new/lib/python3.9/site-packages (from importlib-metadata>=4.13.0->awkward) (3.8.1)\n",
      "Installing collected packages: awkward\n",
      "  Attempting uninstall: awkward\n",
      "    Found existing installation: awkward 1.10.5\n",
      "    Uninstalling awkward-1.10.5:\n",
      "      Successfully uninstalled awkward-1.10.5\n",
      "\u001b[31mERROR: pip's dependency resolver does not currently take into account all the packages that are installed. This behaviour is the source of the following dependency conflicts.\n",
      "coffea 0.7.20 requires awkward<2,>=1.5.1, but you have awkward 2.5.1 which is incompatible.\u001b[0m\u001b[31m\n",
      "\u001b[0mSuccessfully installed awkward-2.5.1\n",
      "Note: you may need to restart the kernel to use updated packages.\n"
     ]
    }
   ],
   "source": [
    "%pip install coffea\n",
    "%pip install --upgrade awkward"
   ]
  },
  {
   "cell_type": "code",
   "execution_count": 2,
   "id": "fb0fc16f",
   "metadata": {},
   "outputs": [
    {
     "name": "stderr",
     "output_type": "stream",
     "text": [
      "/Users/billyli/miniforge_x86_new/lib/python3.9/site-packages/coffea/util.py:154: FutureWarning: In coffea version v0.8.0 (target date: 31 Dec 2022), this will be an error.\n",
      "(Set coffea.deprecations_as_errors = True to get a stack trace now.)\n",
      "ImportError: coffea.hist is deprecated\n",
      "  warnings.warn(message, FutureWarning)\n"
     ]
    }
   ],
   "source": [
    "import itertools\n",
    "import logging\n",
    "from pathlib import Path\n",
    "import numba as nb\n",
    "\n",
    "import awkward as ak\n",
    "import click\n",
    "import h5py as h5\n",
    "import numpy as np\n",
    "import vector\n",
    "\n",
    "from coffea.hist.plot import clopper_pearson_interval\n",
    "import matplotlib.pyplot as plt\n",
    "\n",
    "# from src.data.cms.convert_to_h5 import MIN_JETS, N_JETS, N_FJETS\n",
    "\n",
    "vector.register_awkward()\n",
    "\n",
    "logging.basicConfig(level=logging.INFO)"
   ]
  },
  {
   "cell_type": "code",
   "execution_count": 3,
   "id": "cad6b150",
   "metadata": {},
   "outputs": [],
   "source": [
    "# read test target file\n",
    "test_file = \"//Users/billyli/UCSD/hhh/reports/bv2/hhh_test.h5\"\n",
    "test_h5 = h5.File(test_file)\n",
    "\n",
    "# read baseline prediction\n",
    "baseline_file = \"//Users/billyli/UCSD/hhh/reports/bv2/pred_baseline.h5\"\n",
    "b_h5 = h5.File(baseline_file)\n",
    "\n",
    "# read spanet prediction\n",
    "spanet_file = \"//Users/billyli/UCSD/hhh/reports/bv2/dp_on/pred_v53.h5\"\n",
    "s_h5 = h5.File(spanet_file)"
   ]
  },
  {
   "cell_type": "code",
   "execution_count": 4,
   "id": "cfb9df25",
   "metadata": {},
   "outputs": [
    {
     "data": {
      "text/plain": [
       "<KeysViewHDF5 ['BoostedJets', 'Jets']>"
      ]
     },
     "execution_count": 4,
     "metadata": {},
     "output_type": "execute_result"
    }
   ],
   "source": [
    "s_h5['INPUTS'].keys()"
   ]
  },
  {
   "cell_type": "code",
   "execution_count": 5,
   "id": "458d96f8",
   "metadata": {},
   "outputs": [],
   "source": [
    "def sel_pred_bH_by_dp(dps, aps, bb_ps, dp_cut, ap_cut=1/13):\n",
    "    # parse predicted bb assignment by DP\n",
    "    dp_filter = dps>dp_cut\n",
    "    ap_filter = aps>ap_cut\n",
    "    ak8_filter = bb_ps>9\n",
    "    filter = dp_filter&ak8_filter\n",
    "    \n",
    "    print(dp_filter)\n",
    "    \n",
    "    bb_ps_passed = bb_ps.mask[filter]\n",
    "    bb_ps_passed = ak.drop_none(bb_ps_passed)\n",
    "    \n",
    "    return bb_ps_passed"
   ]
  },
  {
   "cell_type": "code",
   "execution_count": 6,
   "id": "97f4563b",
   "metadata": {},
   "outputs": [],
   "source": [
    "def sel_target_bH_by_mask(bb_ts, bh_pts, bh_masks):\n",
    "    bb_ts_selected = bb_ts.mask[bh_masks]\n",
    "    bb_ts_selected = ak.drop_none(bb_ts_selected)\n",
    "    \n",
    "    bh_selected_pts = bh_pts.mask[bh_masks]\n",
    "    bh_selected_pts = ak.drop_none(bh_selected_pts)\n",
    "    \n",
    "    return bb_ts_selected, bh_selected_pts"
   ]
  },
  {
   "cell_type": "code",
   "execution_count": 7,
   "id": "81791964",
   "metadata": {},
   "outputs": [],
   "source": [
    "# A pred look up table is in shape\n",
    "# [event,\n",
    "#    pred_H, \n",
    "#       [correct, pred_H_pt]]\n",
    "def gen_pred_bH_LUT(bb_ps_passed, bb_ts_selected, fj_pts):\n",
    "    LUT = []\n",
    "    # for each event\n",
    "    for bb_t_event, bb_p_event, fj_pt_event in zip(bb_ts_selected, bb_ps_passed, fj_pts):\n",
    "        # for each predicted bb assignment, check if any target H have a same bb assignment\n",
    "        LUT_event = []\n",
    "        for i, bb_p in enumerate(bb_p_event):\n",
    "            correct = 0\n",
    "            predH_pt = fj_pt_event[bb_p-10]\n",
    "            for bb_t in bb_t_event:\n",
    "                if bb_p == bb_t+10:\n",
    "                    correct = 1\n",
    "            LUT_event.append([correct, predH_pt])\n",
    "        LUT.append(LUT_event)\n",
    "    return LUT"
   ]
  },
  {
   "cell_type": "code",
   "execution_count": 8,
   "id": "a56f264f",
   "metadata": {},
   "outputs": [],
   "source": [
    "# A target look up table is in shape\n",
    "# [event,\n",
    "#    target_H, \n",
    "#        target_bb_assign,\n",
    "#           [retrieved, targetH_pt]]\n",
    "def gen_target_bH_LUT(bb_ps_passed, bb_ts_selected, targetH_pts):\n",
    "    LUT = []\n",
    "    # for each event\n",
    "    for bb_t_event, bb_p_event, targetH_pts_event in zip(bb_ts_selected, bb_ps_passed, targetH_pts):\n",
    "        # for each target fatjet, check if the predictions have a p fatject same with the t fatjet\n",
    "        LUT_event = []\n",
    "        for i, bb_t in enumerate(bb_t_event):\n",
    "            retrieved = 0\n",
    "            targetH_pt = targetH_pts_event[i]\n",
    "            for bb_p in bb_p_event:\n",
    "                if bb_p == bb_t+10:\n",
    "                    retrieved = 1\n",
    "            LUT_event.append([retrieved, targetH_pt])\n",
    "        LUT.append(LUT_event)\n",
    "    return LUT"
   ]
  },
  {
   "cell_type": "code",
   "execution_count": 9,
   "id": "f57e2d53",
   "metadata": {},
   "outputs": [],
   "source": [
    "# generate pred/target LUT\n",
    "# each entry corresponds to [recoH correct or not, reco H pt]\n",
    "# or \n",
    "# [targetH retrieved or not, target H pt]\n",
    "def parse_boosted_w_target(testfile, predfile, dp_cut=0.8):\n",
    "    # Collect H pt, mask, target and predicted jet and fjets for 3 Hs in each event\n",
    "    # h pt\n",
    "    bh1_pt = np.array(testfile['TARGETS']['bh1']['pt'])\n",
    "    bh2_pt = np.array(testfile['TARGETS']['bh2']['pt'])\n",
    "    bh3_pt = np.array(testfile['TARGETS']['bh3']['pt'])\n",
    "\n",
    "    # mask\n",
    "    bh1_mask = np.array(testfile['TARGETS']['bh1']['mask'])\n",
    "    bh2_mask = np.array(testfile['TARGETS']['bh2']['mask'])\n",
    "    bh3_mask = np.array(testfile['TARGETS']['bh3']['mask'])\n",
    "\n",
    "    # target assignment\n",
    "    bb_bh1_t = np.array(testfile[\"TARGETS\"][\"bh1\"]['bb'])\n",
    "    bb_bh2_t = np.array(testfile[\"TARGETS\"][\"bh2\"]['bb'])\n",
    "    bb_bh3_t = np.array(testfile[\"TARGETS\"][\"bh3\"]['bb'])\n",
    "\n",
    "    try:\n",
    "        # pred assignment\n",
    "        bb_bh1_p = np.array(predfile[\"TARGETS\"][\"bh1\"]['bb'])\n",
    "        bb_bh2_p = np.array(predfile[\"TARGETS\"][\"bh2\"]['bb'])\n",
    "        bb_bh3_p = np.array(predfile[\"TARGETS\"][\"bh3\"]['bb'])\n",
    "    \n",
    "        # boosted Higgs detection probability\n",
    "        dp_bh1 = np.array(predfile[\"TARGETS\"][\"bh1\"]['detection_probability'])\n",
    "        dp_bh2 = np.array(predfile[\"TARGETS\"][\"bh2\"]['detection_probability'])\n",
    "        dp_bh3 = np.array(predfile[\"TARGETS\"][\"bh3\"]['detection_probability'])\n",
    "\n",
    "        # fatjet assignment probability\n",
    "        ap_bh1 = np.array(predfile[\"TARGETS\"][\"bh1\"]['assignment_probability'])\n",
    "        ap_bh2 = np.array(predfile[\"TARGETS\"][\"bh2\"]['assignment_probability'])\n",
    "        ap_bh3 = np.array(predfile[\"TARGETS\"][\"bh3\"]['assignment_probability'])\n",
    "    except:\n",
    "        # pred assignment\n",
    "        bb_bh1_p = np.array(predfile[\"TARGETS\"][\"bh1\"]['bb'])+10\n",
    "        bb_bh2_p = np.array(predfile[\"TARGETS\"][\"bh2\"]['bb'])+10\n",
    "        bb_bh3_p = np.array(predfile[\"TARGETS\"][\"bh3\"]['bb'])+10\n",
    "    \n",
    "         # boosted Higgs detection probability\n",
    "        dp_bh1 = np.array(predfile[\"TARGETS\"][\"bh1\"]['mask']).astype('float')\n",
    "        dp_bh2 = np.array(predfile[\"TARGETS\"][\"bh2\"]['mask']).astype('float')\n",
    "        dp_bh3 = np.array(predfile[\"TARGETS\"][\"bh3\"]['mask']).astype('float')\n",
    "\n",
    "        # fatjet assignment probability\n",
    "        ap_bh1 = np.array(predfile[\"TARGETS\"][\"bh1\"]['mask']).astype('float')\n",
    "        ap_bh2 = np.array(predfile[\"TARGETS\"][\"bh2\"]['mask']).astype('float')\n",
    "        ap_bh3 = np.array(predfile[\"TARGETS\"][\"bh3\"]['mask']).astype('float')\n",
    "    \n",
    "    # collect fatjet pt\n",
    "    fj_pt = np.array(testfile['INPUTS']['BoostedJets']['fj_pt'])\n",
    "    \n",
    "    # convert some arrays to ak array\n",
    "    dps = np.concatenate((dp_bh1.reshape(-1, 1), dp_bh2.reshape(-1, 1), dp_bh3.reshape(-1, 1)), axis=1)\n",
    "    dps = ak.Array(dps)\n",
    "    aps = np.concatenate((ap_bh1.reshape(-1, 1), ap_bh2.reshape(-1, 1), ap_bh3.reshape(-1, 1)), axis=1)\n",
    "    aps = ak.Array(aps)\n",
    "    bb_ps = np.concatenate((bb_bh1_p.reshape(-1, 1), bb_bh2_p.reshape(-1, 1), bb_bh3_p.reshape(-1, 1)), axis=1)\n",
    "    bb_ps = ak.Array(bb_ps)\n",
    "    bb_ts = np.concatenate((bb_bh1_t.reshape(-1, 1), bb_bh2_t.reshape(-1, 1), bb_bh3_t.reshape(-1, 1)), axis=1)\n",
    "    bb_ts = ak.Array(bb_ts)\n",
    "    fj_pt = ak.Array(fj_pt)\n",
    "    bh_masks = np.concatenate((bh1_mask.reshape(-1, 1), bh2_mask.reshape(-1, 1), bh3_mask.reshape(-1, 1)), axis=1)\n",
    "    bh_masks = ak.Array(bh_masks)\n",
    "    bh_pts = np.concatenate((bh1_pt.reshape(-1, 1), bh2_pt.reshape(-1, 1), bh3_pt.reshape(-1, 1)), axis=1)\n",
    "    bh_pts = ak.Array(bh_pts)\n",
    "    \n",
    "    # select predictions and targets\n",
    "    bb_ts_selected, targetH_selected_pts = sel_target_bH_by_mask(bb_ts, bh_pts, bh_masks)\n",
    "    bb_ps_selected = sel_pred_bH_by_dp(dps, aps, bb_ps, dp_cut)\n",
    "    \n",
    "    # generate correct/retrieved LUT for pred/target respectively\n",
    "    LUT_pred = gen_pred_bH_LUT(bb_ps_selected, bb_ts_selected, fj_pt)\n",
    "    LUT_target = gen_target_bH_LUT(bb_ps_selected, bb_ts_selected, targetH_selected_pts)\n",
    "    \n",
    "    # reconstruct bH to remove overlapped ak4 jets\n",
    "    fj_eta = np.array(testfile['INPUTS']['BoostedJets']['fj_eta'])\n",
    "    fj_phi = np.array(testfile['INPUTS']['BoostedJets']['fj_phi'])\n",
    "    fj_mass = np.array(testfile['INPUTS']['BoostedJets']['fj_mass'])\n",
    "    \n",
    "    fjs = ak.zip(\n",
    "        {\n",
    "            \"pt\": fj_pt,\n",
    "            \"eta\": fj_eta,\n",
    "            \"phi\": fj_phi,\n",
    "            \"mass\": fj_mass,\n",
    "        },\n",
    "        with_name=\"Momentum4D\"\n",
    "    )\n",
    "    fj_reco = fjs[bb_ps_selected-10]\n",
    "    \n",
    "    return LUT_pred, LUT_target, fj_reco"
   ]
  },
  {
   "cell_type": "code",
   "execution_count": 10,
   "id": "3cf6e0d3",
   "metadata": {},
   "outputs": [
    {
     "name": "stdout",
     "output_type": "stream",
     "text": [
      "[[False, False, False], [False, False, False], ..., [False, False, False]]\n"
     ]
    }
   ],
   "source": [
    "LUT_pred, LUT_target, fj_reco = parse_boosted_w_target(test_h5, s_h5)"
   ]
  },
  {
   "cell_type": "code",
   "execution_count": 11,
   "id": "9d1e162d",
   "metadata": {},
   "outputs": [],
   "source": [
    "testfile = s_h5\n",
    "j_pt = np.array(testfile['INPUTS']['Jets']['pt'])\n",
    "j_eta = np.array(testfile['INPUTS']['Jets']['eta'])\n",
    "j_phi = np.array(testfile['INPUTS']['Jets']['phi'])\n",
    "j_mass = np.array(testfile['INPUTS']['Jets']['mass'])\n",
    "js = ak.zip(\n",
    "    {\n",
    "        \"pt\": j_pt,\n",
    "        \"eta\": j_eta,\n",
    "        \"phi\": j_phi,\n",
    "        \"mass\": j_mass,\n",
    "    },\n",
    "    with_name=\"Momentum4D\"\n",
    ")"
   ]
  },
  {
   "cell_type": "code",
   "execution_count": 12,
   "id": "1a5e9829",
   "metadata": {},
   "outputs": [
    {
     "data": {
      "text/html": [
       "<pre>[[0, 1, 2, 3, 4, 5, 6, 7, 8, 9],\n",
       " [0, 1, 2, 3, 4, 5, 6, 7, 8, 9],\n",
       " [0, 1, 2, 3, 4, 5, 6, 7, 8, 9],\n",
       " [0, 1, 2, 3, 4, 5, 6, 7, 8, 9],\n",
       " [0, 1, 2, 3, 4, 5, 6, 7, 8, 9],\n",
       " [0, 1, 2, 3, 4, 5, 6, 7, 8, 9],\n",
       " [0, 1, 2, 3, 4, 5, 6, 7, 8, 9],\n",
       " [0, 1, 2, 3, 4, 5, 6, 7, 8, 9],\n",
       " [0, 1, 2, 3, 4, 5, 6, 7, 8, 9],\n",
       " [0, 1, 2, 3, 4, 5, 6, 7, 8, 9],\n",
       " ...,\n",
       " [0, 1, 2, 3, 4, 5, 6, 7, 8, 9],\n",
       " [0, 1, 2, 3, 4, 5, 6, 7, 8, 9],\n",
       " [0, 1, 2, 3, 4, 5, 6, 7, 8, 9],\n",
       " [0, 1, 2, 3, 4, 5, 6, 7, 8, 9],\n",
       " [0, 1, 2, 3, 4, 5, 6, 7, 8, 9],\n",
       " [0, 1, 2, 3, 4, 5, 6, 7, 8, 9],\n",
       " [0, 1, 2, 3, 4, 5, 6, 7, 8, 9],\n",
       " [0, 1, 2, 3, 4, 5, 6, 7, 8, 9],\n",
       " [0, 1, 2, 3, 4, 5, 6, 7, 8, 9]]\n",
       "--------------------------------\n",
       "type: 42829 * 10 * int64</pre>"
      ],
      "text/plain": [
       "<Array [[0, 1, 2, 3, 4, 5, 6, 7, 8, 9], ..., [...]] type='42829 * 10 * int64'>"
      ]
     },
     "execution_count": 12,
     "metadata": {},
     "output_type": "execute_result"
    }
   ],
   "source": [
    "js[:, np.newaxis].deltaR(fj_reco)[2]\n",
    "ak.sum(js[:, np.newaxis].deltaR(fj_reco)[2]<0.4, axis=-2)>0\n",
    "ak.local_index(js)"
   ]
  },
  {
   "cell_type": "code",
   "execution_count": 13,
   "id": "5b622454",
   "metadata": {},
   "outputs": [],
   "source": [
    "overlapped = ak.sum(js[:, np.newaxis].deltaR(fj_reco)<0.4, axis=-2)>0"
   ]
  },
  {
   "cell_type": "code",
   "execution_count": 14,
   "id": "48625f78",
   "metadata": {},
   "outputs": [],
   "source": [
    "def get_unoverlapped_jet_index(fjs, js, dR_min=0.8):\n",
    "    overlapped = ak.sum(js[:, np.newaxis].deltaR(fjs)<dR_min, axis=-2)>0\n",
    "    jet_index_passed = ak.local_index(js).mask[~overlapped]\n",
    "    jet_index_passed = ak.drop_none(jet_index_passed)\n",
    "    return jet_index_passed"
   ]
  },
  {
   "cell_type": "code",
   "execution_count": 15,
   "id": "b26eae3e",
   "metadata": {},
   "outputs": [],
   "source": [
    "jet_index_passed = get_unoverlapped_jet_index(fj_reco, js)"
   ]
  },
  {
   "cell_type": "code",
   "execution_count": 16,
   "id": "f326ed3a",
   "metadata": {},
   "outputs": [
    {
     "data": {
      "text/html": [
       "<pre>[[0, 1, 2, 3, 4, 5, 6, 7, 8, 9],\n",
       " [0, 1, 2, 3, 4, 5, 6, 7, 8, 9],\n",
       " [2, 4, 6, 7, 8, 9],\n",
       " [0, 1, 2, 3, 4, 5, 6, 7, 8, 9],\n",
       " [0, 1, 2, 3, 4, 5, 6, 7, 8, 9],\n",
       " [0, 1, 2, 3, 4, 5, 6, 7, 8, 9],\n",
       " [0, 1, 2, 3, 4, 5, 6, 7, 8, 9],\n",
       " [1, 2, 3, 5, 6, 7, 8, 9],\n",
       " [2, 3, 5, 7, 8, 9],\n",
       " [1, 2, 3, 4, 6, 7, 8, 9],\n",
       " ...,\n",
       " [0, 1, 2, 3, 4, 5, 6, 7, 8, 9],\n",
       " [0, 1, 2, 3, 4, 5, 6, 7, 8, 9],\n",
       " [0, 1, 2, 3, 4, 5, 6, 7, 8, 9],\n",
       " [0, 1, 2, 3, 4, 5, 6, 7, 8, 9],\n",
       " [0, 1, 2, 3, 4, 5, 6, 7, 8, 9],\n",
       " [0, 1, 2, 3, 4, 5, 6, 7, 8, 9],\n",
       " [0, 1, 2, 3, 4, 5, 6, 7, 8, 9],\n",
       " [0, 2, 4, 5, 6, 7, 8, 9],\n",
       " [0, 1, 2, 3, 4, 5, 6, 7, 8, 9]]\n",
       "--------------------------------\n",
       "type: 42829 * var * int64</pre>"
      ],
      "text/plain": [
       "<Array [[0, 1, 2, 3, 4, 5, 6, 7, 8, 9], ..., [...]] type='42829 * var * int64'>"
      ]
     },
     "execution_count": 16,
     "metadata": {},
     "output_type": "execute_result"
    }
   ],
   "source": [
    "jet_index_passed"
   ]
  },
  {
   "cell_type": "code",
   "execution_count": 17,
   "id": "659fd710",
   "metadata": {},
   "outputs": [],
   "source": [
    "def sel_pred_h_by_dp(dps, aps, b1_ps, b2_ps, dp_cut=0.0, ap_cut=0):\n",
    "    # parse predicted bb assignment by DP\n",
    "    dp_filter = dps > dp_cut\n",
    "    ap_filter = aps > ap_cut\n",
    "    b1_ak4_filter = b1_ps<10\n",
    "    b2_ak4_filter = b2_ps<10\n",
    "    filter = dp_filter & ap_filter & b1_ak4_filter & b2_ak4_filter\n",
    "    \n",
    "    b1_ps_passed = b1_ps.mask[filter]\n",
    "    b1_ps_passed = ak.drop_none(b1_ps_passed)\n",
    "    \n",
    "    b2_ps_passed = b2_ps.mask[filter]\n",
    "    b2_ps_passed = ak.drop_none(b2_ps_passed)\n",
    "    \n",
    "    return b1_ps_passed, b2_ps_passed"
   ]
  },
  {
   "cell_type": "code",
   "execution_count": 18,
   "id": "89ab96fe",
   "metadata": {},
   "outputs": [],
   "source": [
    "def sel_target_h_by_mask(b1_ts, b2_ts, h_pts, h_masks):\n",
    "    b1_ts_selected = b1_ts.mask[h_masks]\n",
    "    b1_ts_selected = ak.drop_none(b1_ts_selected)\n",
    "    \n",
    "    b2_ts_selected = b2_ts.mask[h_masks]\n",
    "    b2_ts_selected = ak.drop_none(b2_ts_selected)\n",
    "    \n",
    "    h_selected_pts = h_pts.mask[h_masks]\n",
    "    h_selected_pts = ak.drop_none(h_selected_pts)\n",
    "    \n",
    "    return b1_ts_selected, b2_ts_selected, h_selected_pts"
   ]
  },
  {
   "cell_type": "code",
   "execution_count": 19,
   "id": "a43a82f2",
   "metadata": {},
   "outputs": [
    {
     "data": {
      "text/plain": [
       "True"
      ]
     },
     "execution_count": 19,
     "metadata": {},
     "output_type": "execute_result"
    }
   ],
   "source": [
    "set((1,2))==set((2,1))"
   ]
  },
  {
   "cell_type": "code",
   "execution_count": 20,
   "id": "50b0e6d4",
   "metadata": {},
   "outputs": [],
   "source": [
    "# A pred look up table is in shape\n",
    "# [event,\n",
    "#    pred_H, \n",
    "#       [correct, pred_H_pt]]\n",
    "@nb.njit\n",
    "def gen_pred_h_LUT(b1_ps_passed, b2_ps_passed, b1_ts_selected, b2_ts_selected, js, goodJetIdx, builder):\n",
    "    # for each event\n",
    "    for b1_ps_e, b2_ps_e, b1_ts_e, b2_ts_e, jets_e, goodJetIdx_e in zip(b1_ps_passed, b2_ps_passed, b1_ts_selected, b2_ts_selected, js, goodJetIdx):\n",
    "        # for each predicted bb assignment, check if any target H have a same bb assignment\n",
    "        builder.begin_list()\n",
    "        for b1_p, b2_p in zip(b1_ps_e, b2_ps_e):\n",
    "            correct = 0\n",
    "            predH_pt = (jets_e[b1_p]+jets_e[b2_p]).pt\n",
    "            for b1_t, b2_t in zip(b1_ts_e, b2_ts_e):\n",
    "                if set((b1_p, b2_p)) == set((b1_t, b2_t)) and (b1_p in goodJetIdx_e) and (b2_p in goodJetIdx_e):\n",
    "                    correct = 1\n",
    "            builder.begin_list()\n",
    "            builder.append(correct)\n",
    "            builder.append(predH_pt)\n",
    "            builder.end_list()\n",
    "        \n",
    "        builder.end_list()\n",
    "    return builder"
   ]
  },
  {
   "cell_type": "code",
   "execution_count": 21,
   "id": "d38b23eb",
   "metadata": {},
   "outputs": [],
   "source": [
    "# A target look up table is in shape\n",
    "# [event,\n",
    "#    target_H, \n",
    "#        target_bb_assign,\n",
    "#           [retrieved, targetH_pt]]\n",
    "@nb.njit\n",
    "def gen_target_h_LUT(b1_ps_passed, b2_ps_passed, b1_ts_selected, b2_ts_selected, targetH_pts, builder):\n",
    "    # for each event\n",
    "    for b1_ps_e, b2_ps_e, b1_ts_e, b2_ts_e, tH_pts_e in zip(b1_ps_passed, b2_ps_passed, b1_ts_selected, b2_ts_selected, targetH_pts):\n",
    "        # for each target fatjet, check if the predictions have a p fatject same with the t fatjet\n",
    "        builder.begin_list()\n",
    "        for b1_t, b2_t, tH_pt in zip(b1_ts_e, b2_ts_e, tH_pts_e):\n",
    "            retrieved = 0\n",
    "            for b1_p, b2_p in zip(b1_ps_e, b2_ps_e):\n",
    "                if set((b1_p, b2_p)) == set((b1_t, b2_t)):\n",
    "                    retrieved = 1\n",
    "            builder.begin_list()\n",
    "            builder.append(retrieved)\n",
    "            builder.append(tH_pt)\n",
    "            builder.end_list()\n",
    "        \n",
    "        builder.end_list()\n",
    "    return builder"
   ]
  },
  {
   "cell_type": "code",
   "execution_count": 22,
   "id": "5701eb0c",
   "metadata": {},
   "outputs": [],
   "source": [
    "def parse_resolved_w_target(testfile, predfile, dp_cut=0.5, fjs_reco=None):\n",
    "    # h pt\n",
    "    h1_pt = np.array(testfile['TARGETS']['h1']['pt'])\n",
    "    h2_pt = np.array(testfile['TARGETS']['h2']['pt'])\n",
    "    h3_pt = np.array(testfile['TARGETS']['h3']['pt'])\n",
    "    \n",
    "    # mask\n",
    "    h1_mask = np.array(testfile['TARGETS']['h1']['mask'])\n",
    "    h2_mask = np.array(testfile['TARGETS']['h2']['mask'])\n",
    "    h3_mask = np.array(testfile['TARGETS']['h3']['mask'])\n",
    "    \n",
    "    # target assignments\n",
    "    b1_h1_t = np.array(testfile[\"TARGETS\"][\"h1\"]['b1']).astype('int')\n",
    "    b1_h2_t = np.array(testfile[\"TARGETS\"][\"h2\"]['b1']).astype('int')\n",
    "    b1_h3_t = np.array(testfile[\"TARGETS\"][\"h3\"]['b1']).astype('int')\n",
    "\n",
    "    b2_h1_t = np.array(testfile[\"TARGETS\"][\"h1\"]['b2']).astype('int')\n",
    "    b2_h2_t = np.array(testfile[\"TARGETS\"][\"h2\"]['b2']).astype('int')\n",
    "    b2_h3_t = np.array(testfile[\"TARGETS\"][\"h3\"]['b2']).astype('int')\n",
    "    \n",
    "    # predict assignments\n",
    "    b1_h1_p = np.array(predfile[\"TARGETS\"][\"h1\"]['b1']).astype('int')\n",
    "    b1_h2_p = np.array(predfile[\"TARGETS\"][\"h2\"]['b1']).astype('int')\n",
    "    b1_h3_p = np.array(predfile[\"TARGETS\"][\"h3\"]['b1']).astype('int')\n",
    "\n",
    "    b2_h1_p = np.array(predfile[\"TARGETS\"][\"h1\"]['b2']).astype('int')\n",
    "    b2_h2_p = np.array(predfile[\"TARGETS\"][\"h2\"]['b2']).astype('int')\n",
    "    b2_h3_p = np.array(predfile[\"TARGETS\"][\"h3\"]['b2']).astype('int')\n",
    "    \n",
    "    # resolved Higgs detection probability\n",
    "    dp_h1 = np.array(predfile[\"TARGETS\"][\"h1\"]['detection_probability'])\n",
    "    dp_h2 = np.array(predfile[\"TARGETS\"][\"h2\"]['detection_probability'])\n",
    "    dp_h3 = np.array(predfile[\"TARGETS\"][\"h3\"]['detection_probability'])\n",
    "    \n",
    "    # ak4 jets assignment probability\n",
    "    ap_h1 = np.array(predfile[\"TARGETS\"][\"h1\"]['assignment_probability'])\n",
    "    ap_h2 = np.array(predfile[\"TARGETS\"][\"h2\"]['assignment_probability'])\n",
    "    ap_h3 = np.array(predfile[\"TARGETS\"][\"h3\"]['assignment_probability'])\n",
    "    \n",
    "    # reconstruct jet 4-momentum objects\n",
    "    j_pt = np.array(testfile['INPUTS']['Jets']['pt'])\n",
    "    j_eta = np.array(testfile['INPUTS']['Jets']['eta'])\n",
    "    j_phi = np.array(testfile['INPUTS']['Jets']['phi'])\n",
    "    j_mass = np.array(testfile['INPUTS']['Jets']['mass'])\n",
    "    js = ak.zip(\n",
    "        {\n",
    "            \"pt\": j_pt,\n",
    "            \"eta\": j_eta,\n",
    "            \"phi\": j_phi,\n",
    "            \"mass\": j_mass,\n",
    "        },\n",
    "        with_name=\"Momentum4D\"\n",
    "    )\n",
    "    \n",
    "    # convert some numpy arrays to ak arrays\n",
    "    dps = np.concatenate((dp_h1.reshape(-1, 1), dp_h2.reshape(-1, 1), dp_h3.reshape(-1, 1)), axis=1)\n",
    "    dps = ak.Array(dps)\n",
    "    aps = np.concatenate((ap_h1.reshape(-1, 1), ap_h2.reshape(-1, 1), ap_h3.reshape(-1, 1)), axis=1)\n",
    "    aps = ak.Array(aps)\n",
    "    \n",
    "    b1_ps = np.concatenate((b1_h1_p.reshape(-1, 1), b1_h2_p.reshape(-1, 1), b1_h3_p.reshape(-1, 1)), axis=1)\n",
    "    b1_ps = ak.Array(b1_ps)\n",
    "    b1_ts = np.concatenate((b1_h1_t.reshape(-1, 1), b1_h2_t.reshape(-1, 1), b1_h3_t.reshape(-1, 1)), axis=1)\n",
    "    b1_ts = ak.Array(b1_ts)\n",
    "    b2_ps = np.concatenate((b2_h1_p.reshape(-1, 1), b2_h2_p.reshape(-1, 1), b2_h3_p.reshape(-1, 1)), axis=1)\n",
    "    b2_ps = ak.Array(b2_ps)\n",
    "    b2_ts = np.concatenate((b2_h1_t.reshape(-1, 1), b2_h2_t.reshape(-1, 1), b2_h3_t.reshape(-1, 1)), axis=1)\n",
    "    b2_ts = ak.Array(b2_ts)\n",
    "\n",
    "    h_masks = np.concatenate((h1_mask.reshape(-1, 1), h2_mask.reshape(-1, 1), h3_mask.reshape(-1, 1)), axis=1)\n",
    "    h_masks = ak.Array(h_masks)\n",
    "    \n",
    "    h_pts = np.concatenate((h1_pt.reshape(-1, 1), h2_pt.reshape(-1, 1), h3_pt.reshape(-1, 1)), axis=1)\n",
    "    h_pts = ak.Array(h_pts)\n",
    "    \n",
    "    # select predictions and targets\n",
    "    b1_ts_selected, b2_ts_selected, targetH_selected_pts = sel_target_h_by_mask(b1_ts, b2_ts, h_pts, h_masks)\n",
    "    b1_ps_selected, b2_ps_selected = sel_pred_h_by_dp(dps, aps, b1_ps, b2_ps, dp_cut=dp_cut)\n",
    "    \n",
    "    # find jets that are overlapped with reco boosted Higgs\n",
    "    if fjs_reco is None:\n",
    "        goodJetIdx =  ak.local_index(js)\n",
    "    else:\n",
    "        goodJetIdx = get_unoverlapped_jet_index(fjs_reco, js)\n",
    "    \n",
    "    # generate look up tables\n",
    "    LUT_pred = gen_pred_h_LUT(b1_ps_selected, b2_ps_selected, b1_ts_selected, b2_ts_selected, js, goodJetIdx, ak.ArrayBuilder()).snapshot()\n",
    "    LUT_target = gen_target_h_LUT(b1_ps_selected, b2_ps_selected, b1_ts_selected, b2_ts_selected, targetH_selected_pts, ak.ArrayBuilder()).snapshot()\n",
    "    \n",
    "    \n",
    "    return LUT_pred, LUT_target"
   ]
  },
  {
   "cell_type": "code",
   "execution_count": null,
   "id": "3e798507",
   "metadata": {},
   "outputs": [],
   "source": []
  },
  {
   "cell_type": "code",
   "execution_count": 23,
   "id": "21e49987",
   "metadata": {},
   "outputs": [],
   "source": [
    "# calculate efficiency\n",
    "# if bins=None, put all data in a single bin\n",
    "def calc_eff(LUT_pred, bins):\n",
    "    predHs = [predH for event in LUT_pred for predH in event]\n",
    "    predHs = np.array(predHs)\n",
    "    \n",
    "    predHs_inds = np.digitize(predHs[:,1], bins)\n",
    "    \n",
    "    correctTruth_per_bin = []\n",
    "    for bin_i in range(1, len(bins)):\n",
    "        correctTruth_per_bin.append(predHs[:,0][predHs_inds==bin_i])\n",
    "    correctTruth_per_bin = ak.Array(correctTruth_per_bin)\n",
    "    \n",
    "    means = ak.mean(correctTruth_per_bin, axis=-1)\n",
    "    \n",
    "    errs = np.abs(\n",
    "    clopper_pearson_interval(num=ak.sum(correctTruth_per_bin, axis=-1),\\\n",
    "                             denom=ak.num(correctTruth_per_bin, axis=-1)) - means\n",
    "    )\n",
    "    \n",
    "    return means, errs"
   ]
  },
  {
   "cell_type": "code",
   "execution_count": 24,
   "id": "a597865b",
   "metadata": {},
   "outputs": [],
   "source": [
    "# calculate purity\n",
    "def calc_pur(LUT_target, bins):\n",
    "    targetHs = [targetH for event in LUT_target for targetH in event]\n",
    "    targetHs = np.array(targetHs)\n",
    "    \n",
    "    targetHs_inds = np.digitize(targetHs[:,1], bins)\n",
    "    \n",
    "    correctTruth_per_bin = []\n",
    "    for bin_i in range(1, len(bins)):\n",
    "        correctTruth_per_bin.append(targetHs[:,0][targetHs_inds==bin_i])\n",
    "    correctTruth_per_bin = ak.Array(correctTruth_per_bin)\n",
    "    \n",
    "    means = ak.mean(correctTruth_per_bin, axis=-1)\n",
    "    \n",
    "    errs = np.abs(\n",
    "    clopper_pearson_interval(num=ak.sum(correctTruth_per_bin, axis=-1),\\\n",
    "                             denom=ak.num(correctTruth_per_bin, axis=-1)) - means\n",
    "    )\n",
    "    \n",
    "    return means, errs"
   ]
  },
  {
   "cell_type": "code",
   "execution_count": 25,
   "id": "f2944545",
   "metadata": {},
   "outputs": [],
   "source": [
    "bins = np.arange(0, 850, 50)\n",
    "bin_centers = [(bins[i]+bins[i+1])/2 for i in range(bins.size-1)]\n",
    "xerr=(bins[1]-bins[0])/2*np.ones(bins.shape[0]-1)"
   ]
  },
  {
   "cell_type": "code",
   "execution_count": 26,
   "id": "816f5d16",
   "metadata": {},
   "outputs": [
    {
     "data": {
      "text/plain": [
       "[Text(0.5, 0, 'Gen H pT (GeV)'),\n",
       " Text(0, 0.5, 'Matching purity'),\n",
       " Text(0.5, 1.0, 'Matching Purity vs. Gen H pT, DP cut at 0.5, AP cut at 1/(13*13)')]"
      ]
     },
     "execution_count": 26,
     "metadata": {},
     "output_type": "execute_result"
    },
    {
     "data": {
      "image/png": "[encoded data removed]",
      "text/plain": [
       "<Figure size 1200x500 with 2 Axes>"
      ]
     },
     "metadata": {},
     "output_type": "display_data"
    }
   ],
   "source": [
    "dp_cut = 0.5\n",
    "LUT_pred_spanet, LUT_target_spanet = parse_resolved_w_target(test_h5, s_h5, dp_cut=dp_cut, fjs_reco=None)\n",
    "eff_s, efferr_s = calc_eff(LUT_pred_spanet, bins)\n",
    "pur_s, purerr_s = calc_pur(LUT_target_spanet, bins)\n",
    "\n",
    "fig, ax = plt.subplots(1, 2, figsize=(12, 5))\n",
    "ax[0].errorbar(x=bin_centers, y=eff_s, xerr=xerr, yerr=efferr_s, fmt='o', capsize=5, label='Trust if a fatjet is assigned')\n",
    "ax[0].set(xlabel=r\"Reco H pT (GeV)\", ylabel=r\"Matching efficiency\", title=f\"Matching Efficiency vs. Reco H pT, DP cut at {dp_cut}, AP cut at 1/(13*13)\")\n",
    "\n",
    "ax[1].errorbar(x=bin_centers, y=pur_s, xerr=xerr, yerr=purerr_s, fmt='o', capsize=5, label='Trust if a fatjet is assigned')\n",
    "ax[1].set(xlabel=r\"Gen H pT (GeV)\", ylabel=r\"Matching purity\", title=f\"Matching Purity vs. Gen H pT, DP cut at {dp_cut}, AP cut at 1/(13*13)\")"
   ]
  },
  {
   "cell_type": "markdown",
   "id": "ef22b104",
   "metadata": {},
   "source": [
    "### Gen-level Overlap Removal Study\n",
    "Below is some code intended to provide some info about how often a resolved Higgs and a boosted Higgs overlap\n",
    "\n",
    "* N1: number of resolved H without overlapping removal\n",
    "* N2: number of resolved H with overlapping removal\n",
    "* N3: number of Higgs that are bothe resolved and boosted\n",
    "\n",
    "N1-N2-N3 = Number of Higgs that were removed - Number of Higgs that are both resolved and boosted"
   ]
  },
  {
   "cell_type": "markdown",
   "id": "f3d94ea3",
   "metadata": {},
   "source": [
    "#### Getting N1"
   ]
  },
  {
   "cell_type": "code",
   "execution_count": 27,
   "id": "8585ac1c",
   "metadata": {},
   "outputs": [],
   "source": [
    "def get_unmasked_arr(arr, mask):\n",
    "    return ak.drop_none(arr.mask[mask])"
   ]
  },
  {
   "cell_type": "code",
   "execution_count": 28,
   "id": "107d34b0",
   "metadata": {},
   "outputs": [],
   "source": [
    "testfile = test_h5\n",
    "# N1\n",
    "h1_pt = ak.Array(testfile['TARGETS']['h1']['pt'])\n",
    "h2_pt = ak.Array(testfile['TARGETS']['h2']['pt'])\n",
    "h3_pt = ak.Array(testfile['TARGETS']['h3']['pt'])\n",
    "\n",
    "# mask\n",
    "h1_mask = ak.Array(testfile['TARGETS']['h1']['mask'])\n",
    "h2_mask = ak.Array(testfile['TARGETS']['h2']['mask'])\n",
    "h3_mask = ak.Array(testfile['TARGETS']['h3']['mask'])\n"
   ]
  },
  {
   "cell_type": "code",
   "execution_count": 29,
   "id": "d9d53d14",
   "metadata": {},
   "outputs": [],
   "source": [
    "N1 = ak.count(get_unmasked_arr(h1_pt, h1_mask))+ak.count(get_unmasked_arr(h2_pt, h2_mask))+ak.count(get_unmasked_arr(h3_pt, h3_mask))"
   ]
  },
  {
   "cell_type": "markdown",
   "id": "3db03a68",
   "metadata": {},
   "source": [
    "#### Getting N2"
   ]
  },
  {
   "cell_type": "code",
   "execution_count": 30,
   "id": "25a07b92",
   "metadata": {},
   "outputs": [
    {
     "name": "stdout",
     "output_type": "stream",
     "text": [
      "[[False, False, False], [False, False, False], ..., [False, False, False]]\n"
     ]
    }
   ],
   "source": [
    "# assume perfect reconstruction\n",
    "_, _, fjs_reco = parse_boosted_w_target(test_h5, test_h5)"
   ]
  },
  {
   "cell_type": "code",
   "execution_count": 31,
   "id": "29893773",
   "metadata": {},
   "outputs": [],
   "source": [
    "# target assignments\n",
    "b1_h1_t = np.array(testfile[\"TARGETS\"][\"h1\"]['b1']).astype('int')\n",
    "b1_h2_t = np.array(testfile[\"TARGETS\"][\"h2\"]['b1']).astype('int')\n",
    "b1_h3_t = np.array(testfile[\"TARGETS\"][\"h3\"]['b1']).astype('int')\n",
    "\n",
    "b2_h1_t = np.array(testfile[\"TARGETS\"][\"h1\"]['b2']).astype('int')\n",
    "b2_h2_t = np.array(testfile[\"TARGETS\"][\"h2\"]['b2']).astype('int')\n",
    "b2_h3_t = np.array(testfile[\"TARGETS\"][\"h3\"]['b2']).astype('int')\n",
    "\n",
    "\n",
    "b1_ts = np.concatenate((b1_h1_t.reshape(-1, 1), b1_h2_t.reshape(-1, 1), b1_h3_t.reshape(-1, 1)), axis=1)\n",
    "b1_ts = ak.Array(b1_ts)\n",
    "\n",
    "b2_ts = np.concatenate((b2_h1_t.reshape(-1, 1), b2_h2_t.reshape(-1, 1), b2_h3_t.reshape(-1, 1)), axis=1)\n",
    "b2_ts = ak.Array(b2_ts)\n",
    "\n",
    "# reconstruct jet 4-momentum objects\n",
    "j_pt = np.array(testfile['INPUTS']['Jets']['pt'])\n",
    "j_eta = np.array(testfile['INPUTS']['Jets']['eta'])\n",
    "j_phi = np.array(testfile['INPUTS']['Jets']['phi'])\n",
    "j_mass = np.array(testfile['INPUTS']['Jets']['mass'])\n",
    "js = ak.zip(\n",
    "    {\n",
    "        \"pt\": j_pt,\n",
    "        \"eta\": j_eta,\n",
    "        \"phi\": j_phi,\n",
    "        \"mass\": j_mass,\n",
    "    },\n",
    "    with_name=\"Momentum4D\"\n",
    ")\n",
    "    \n",
    "goodJetIdx = get_unoverlapped_jet_index(fjs_reco, js, dR_min=0.4)\n"
   ]
  },
  {
   "cell_type": "code",
   "execution_count": 32,
   "id": "c76afb0d",
   "metadata": {},
   "outputs": [],
   "source": [
    "N2 = 0\n",
    "for tb1_e, tb2_e, goodJetIdx_e in zip(b1_ts, b2_ts, goodJetIdx):\n",
    "    for b1Hx, b2Hx in zip(tb1_e, tb2_e):\n",
    "        if (b1Hx in goodJetIdx_e) & (b2Hx in goodJetIdx_e):\n",
    "            N2 += 1"
   ]
  },
  {
   "cell_type": "code",
   "execution_count": 33,
   "id": "15cc3c00",
   "metadata": {},
   "outputs": [
    {
     "name": "stdout",
     "output_type": "stream",
     "text": [
      "81810 74770\n"
     ]
    }
   ],
   "source": [
    "print(N1, N2)"
   ]
  },
  {
   "cell_type": "markdown",
   "id": "78f8ee7b",
   "metadata": {},
   "source": [
    "#### Getting N3"
   ]
  },
  {
   "cell_type": "code",
   "execution_count": 34,
   "id": "aade4838",
   "metadata": {},
   "outputs": [],
   "source": [
    "# mask\n",
    "# mask\n",
    "h1_mask = np.array(testfile['TARGETS']['h1']['mask'])\n",
    "h2_mask = np.array(testfile['TARGETS']['h2']['mask'])\n",
    "h3_mask = np.array(testfile['TARGETS']['h3']['mask'])\n",
    "h_masks = np.concatenate((h1_mask.reshape(-1, 1), h2_mask.reshape(-1, 1), h3_mask.reshape(-1, 1)), axis=1)\n",
    "\n",
    "bh1_mask = np.array(testfile['TARGETS']['bh1']['mask'])\n",
    "bh2_mask = np.array(testfile['TARGETS']['bh2']['mask'])\n",
    "bh3_mask = np.array(testfile['TARGETS']['bh3']['mask'])\n",
    "\n",
    "bh_masks = np.concatenate((bh1_mask.reshape(-1, 1), bh2_mask.reshape(-1, 1), bh3_mask.reshape(-1, 1)), axis=1)"
   ]
  },
  {
   "cell_type": "code",
   "execution_count": 35,
   "id": "cce02929",
   "metadata": {},
   "outputs": [],
   "source": [
    "N3=np.sum(h_masks&bh_masks)"
   ]
  },
  {
   "cell_type": "markdown",
   "id": "449fd705",
   "metadata": {},
   "source": [
    "#### Summary"
   ]
  },
  {
   "cell_type": "code",
   "execution_count": 36,
   "id": "c1542006",
   "metadata": {},
   "outputs": [
    {
     "data": {
      "text/plain": [
       "0.0060628285050727294"
      ]
     },
     "execution_count": 36,
     "metadata": {},
     "output_type": "execute_result"
    }
   ],
   "source": [
    "# this percents of resolved Higgs should not be removed\n",
    "(N1-N2-N3)/N1"
   ]
  },
  {
   "cell_type": "code",
   "execution_count": 37,
   "id": "62add9d4",
   "metadata": {},
   "outputs": [
    {
     "data": {
      "text/plain": [
       "7040"
      ]
     },
     "execution_count": 37,
     "metadata": {},
     "output_type": "execute_result"
    }
   ],
   "source": [
    "# this number of resolved Higgs removed for overlapping with a boosted Higgs\n",
    "N1-N2"
   ]
  },
  {
   "cell_type": "code",
   "execution_count": 38,
   "id": "b3cb315b",
   "metadata": {},
   "outputs": [
    {
     "data": {
      "text/plain": [
       "6544"
      ]
     },
     "execution_count": 38,
     "metadata": {},
     "output_type": "execute_result"
    }
   ],
   "source": [
    "# this number of resolved Higgs can also be reconstructed as a boosted Higgs\n",
    "N3"
   ]
  },
  {
   "cell_type": "code",
   "execution_count": 39,
   "id": "a38cdea2",
   "metadata": {},
   "outputs": [
    {
     "data": {
      "text/plain": [
       "0.07999022124434665"
      ]
     },
     "execution_count": 39,
     "metadata": {},
     "output_type": "execute_result"
    }
   ],
   "source": [
    "N3/N1"
   ]
  },
  {
   "cell_type": "markdown",
   "id": "aac2b02f",
   "metadata": {},
   "source": [
    "How good is the correlation between removal and bi-category?"
   ]
  },
  {
   "cell_type": "code",
   "execution_count": 40,
   "id": "58036d92",
   "metadata": {},
   "outputs": [],
   "source": [
    "N_overlap_bicat = 0\n",
    "N_overlap_resolve = 0\n",
    "N_unoverlap_bicat = 0\n",
    "N_unoverlap_resolve = 0\n",
    "\n",
    "bAndr = h_masks&bh_masks\n",
    "for tb1_e, tb2_e, goodJetIdx_e, h_masks_e, bh_masks_e, in zip(b1_ts, b2_ts, goodJetIdx, h_masks, bh_masks):\n",
    "    for b1Hx, b2Hx, resolve, boost in zip(tb1_e, tb2_e, h_masks_e, bh_masks_e):\n",
    "        \n",
    "        if (b1Hx in goodJetIdx_e) & (b2Hx in goodJetIdx_e):\n",
    "            overlap = False\n",
    "        else:\n",
    "            overlap=True\n",
    "            \n",
    "        if resolve & boost:\n",
    "            bicat = True\n",
    "        else:\n",
    "            bicat = False\n",
    "            \n",
    "        if overlap & bicat:\n",
    "            N_overlap_bicat += 1\n",
    "        elif ~overlap & bicat:\n",
    "            N_unoverlap_bicat += 1\n",
    "        elif overlap & resolve:\n",
    "            N_overlap_resolve += 1\n",
    "        elif ~overlap & resolve:\n",
    "            N_unoverlap_resolve += 1"
   ]
  },
  {
   "cell_type": "code",
   "execution_count": 42,
   "id": "350bb51e",
   "metadata": {},
   "outputs": [
    {
     "name": "stdout",
     "output_type": "stream",
     "text": [
      "         Resolved+Boosted Resolved only\n",
      "Removed:       6374              666\n",
      "Not Removed:      170           74600\n"
     ]
    }
   ],
   "source": [
    "print(\"        \", \"Resolved+Boosted\",    \"Resolved only\")\n",
    "print(\"Removed:      \", N_overlap_bicat, \"            \",N_overlap_resolve)\n",
    "print(\"Not Removed:     \", N_unoverlap_bicat, \"         \", N_unoverlap_resolve)"
   ]
  },
  {
   "cell_type": "markdown",
   "id": "eaeb4aab",
   "metadata": {},
   "source": [
    "### Reco-level Overlap Removal Study"
   ]
  }
 ],
 "metadata": {
  "kernelspec": {
   "display_name": "Python 3 (ipykernel)",
   "language": "python",
   "name": "python3"
  },
  "language_info": {
   "codemirror_mode": {
    "name": "ipython",
    "version": 3
   },
   "file_extension": ".py",
   "mimetype": "text/x-python",
   "name": "python",
   "nbconvert_exporter": "python",
   "pygments_lexer": "ipython3",
   "version": "3.9.10"
  }
 },
 "nbformat": 4,
 "nbformat_minor": 5
}
