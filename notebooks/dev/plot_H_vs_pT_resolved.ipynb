{
 "cells": [
  {
   "cell_type": "markdown",
   "id": "38bf234a",
   "metadata": {},
   "source": [
    "# Purity/Efficiency Plot of the SPANet Resolved Output"
   ]
  },
  {
   "cell_type": "code",
   "execution_count": 1,
   "id": "fb0fc16f",
   "metadata": {},
   "outputs": [
    {
     "name": "stderr",
     "output_type": "stream",
     "text": [
      "/Users/billyli/miniforge_x86_new/lib/python3.9/site-packages/coffea/util.py:154: FutureWarning: In coffea version v0.8.0 (target date: 31 Dec 2022), this will be an error.\n",
      "(Set coffea.deprecations_as_errors = True to get a stack trace now.)\n",
      "ImportError: coffea.hist is deprecated\n",
      "  warnings.warn(message, FutureWarning)\n"
     ]
    }
   ],
   "source": [
    "import itertools\n",
    "import logging\n",
    "from pathlib import Path\n",
    "import numba as nb\n",
    "\n",
    "import awkward as ak\n",
    "import click\n",
    "import h5py as h5\n",
    "import numpy as np\n",
    "import vector\n",
    "\n",
    "from coffea.hist.plot import clopper_pearson_interval\n",
    "import matplotlib.pyplot as plt\n",
    "\n",
    "# from src.data.cms.convert_to_h5 import MIN_JETS, N_JETS, N_FJETS\n",
    "\n",
    "vector.register_awkward()\n",
    "\n",
    "logging.basicConfig(level=logging.INFO)"
   ]
  },
  {
   "cell_type": "code",
   "execution_count": 2,
   "id": "cad6b150",
   "metadata": {},
   "outputs": [],
   "source": [
    "# read test target file\n",
    "test_file = \"//Users/billyli/UCSD/hhh/reports/bv2/hhh_test.h5\"\n",
    "test_h5 = h5.File(test_file)\n",
    "\n",
    "# read baseline prediction\n",
    "baseline_file = \"//Users/billyli/UCSD/hhh/reports/bv2/pred_baseline.h5\"\n",
    "b_h5 = h5.File(baseline_file)\n",
    "\n",
    "# read spanet prediction\n",
    "spanet_file = \"//Users/billyli/UCSD/hhh/reports/bv2/dp_on/pred_v53.h5\"\n",
    "s_h5 = h5.File(spanet_file)"
   ]
  },
  {
   "cell_type": "code",
   "execution_count": 25,
   "id": "bfd8ea71-e1c2-4498-ac90-570e2d5caf7d",
   "metadata": {},
   "outputs": [
    {
     "data": {
      "text/plain": [
       "<KeysViewHDF5 ['bh1', 'bh2', 'bh3', 'h1', 'h2', 'h3']>"
      ]
     },
     "execution_count": 25,
     "metadata": {},
     "output_type": "execute_result"
    }
   ],
   "source": [
    "test_h5['TARGETS'].keys()"
   ]
  },
  {
   "cell_type": "code",
   "execution_count": 3,
   "id": "458d96f8",
   "metadata": {},
   "outputs": [],
   "source": [
    "def sel_pred_bH_by_dp(dps, aps, bb_ps, dp_cut, ap_cut=1/13):\n",
    "    # parse predicted bb assignment by DP\n",
    "    dp_filter = dps>dp_cut\n",
    "    ap_filter = aps>ap_cut\n",
    "    ak8_filter = bb_ps>9\n",
    "    filter = dp_filter&ak8_filter\n",
    "    \n",
    "    print(dp_filter)\n",
    "    \n",
    "    bb_ps_passed = bb_ps.mask[filter]\n",
    "    bb_ps_passed = ak.drop_none(bb_ps_passed)\n",
    "    \n",
    "    return bb_ps_passed"
   ]
  },
  {
   "cell_type": "code",
   "execution_count": 4,
   "id": "97f4563b",
   "metadata": {},
   "outputs": [],
   "source": [
    "def sel_target_bH_by_mask(bb_ts, bh_pts, bh_masks):\n",
    "    bb_ts_selected = bb_ts.mask[bh_masks]\n",
    "    bb_ts_selected = ak.drop_none(bb_ts_selected)\n",
    "    \n",
    "    bh_selected_pts = bh_pts.mask[bh_masks]\n",
    "    bh_selected_pts = ak.drop_none(bh_selected_pts)\n",
    "    \n",
    "    return bb_ts_selected, bh_selected_pts"
   ]
  },
  {
   "cell_type": "code",
   "execution_count": 5,
   "id": "81791964",
   "metadata": {},
   "outputs": [],
   "source": [
    "# A pred look up table is in shape\n",
    "# [event,\n",
    "#    pred_H, \n",
    "#       [correct, pred_H_pt]]\n",
    "def gen_pred_bH_LUT(bb_ps_passed, bb_ts_selected, fj_pts):\n",
    "    LUT = []\n",
    "    # for each event\n",
    "    for bb_t_event, bb_p_event, fj_pt_event in zip(bb_ts_selected, bb_ps_passed, fj_pts):\n",
    "        # for each predicted bb assignment, check if any target H have a same bb assignment\n",
    "        LUT_event = []\n",
    "        for i, bb_p in enumerate(bb_p_event):\n",
    "            correct = 0\n",
    "            predH_pt = fj_pt_event[bb_p-10]\n",
    "            for bb_t in bb_t_event:\n",
    "                if bb_p == bb_t+10:\n",
    "                    correct = 1\n",
    "            LUT_event.append([correct, predH_pt])\n",
    "        LUT.append(LUT_event)\n",
    "    return LUT"
   ]
  },
  {
   "cell_type": "code",
   "execution_count": 6,
   "id": "a56f264f",
   "metadata": {},
   "outputs": [],
   "source": [
    "# A target look up table is in shape\n",
    "# [event,\n",
    "#    target_H, \n",
    "#        target_bb_assign,\n",
    "#           [retrieved, targetH_pt]]\n",
    "def gen_target_bH_LUT(bb_ps_passed, bb_ts_selected, targetH_pts):\n",
    "    LUT = []\n",
    "    # for each event\n",
    "    for bb_t_event, bb_p_event, targetH_pts_event in zip(bb_ts_selected, bb_ps_passed, targetH_pts):\n",
    "        # for each target fatjet, check if the predictions have a p fatject same with the t fatjet\n",
    "        LUT_event = []\n",
    "        for i, bb_t in enumerate(bb_t_event):\n",
    "            retrieved = 0\n",
    "            targetH_pt = targetH_pts_event[i]\n",
    "            for bb_p in bb_p_event:\n",
    "                if bb_p == bb_t+10:\n",
    "                    retrieved = 1\n",
    "            LUT_event.append([retrieved, targetH_pt])\n",
    "        LUT.append(LUT_event)\n",
    "    return LUT"
   ]
  },
  {
   "cell_type": "code",
   "execution_count": 7,
   "id": "f57e2d53",
   "metadata": {},
   "outputs": [],
   "source": [
    "# generate pred/target LUT\n",
    "# each entry corresponds to [recoH correct or not, reco H pt]\n",
    "# or \n",
    "# [targetH retrieved or not, target H pt]\n",
    "def parse_boosted_w_target(testfile, predfile, dp_cut=0.8):\n",
    "    # Collect H pt, mask, target and predicted jet and fjets for 3 Hs in each event\n",
    "    # h pt\n",
    "    bh1_pt = np.array(testfile['TARGETS']['bh1']['pt'])\n",
    "    bh2_pt = np.array(testfile['TARGETS']['bh2']['pt'])\n",
    "    bh3_pt = np.array(testfile['TARGETS']['bh3']['pt'])\n",
    "\n",
    "    # mask\n",
    "    bh1_mask = np.array(testfile['TARGETS']['bh1']['mask'])\n",
    "    bh2_mask = np.array(testfile['TARGETS']['bh2']['mask'])\n",
    "    bh3_mask = np.array(testfile['TARGETS']['bh3']['mask'])\n",
    "\n",
    "    # target assignment\n",
    "    bb_bh1_t = np.array(testfile[\"TARGETS\"][\"bh1\"]['bb'])\n",
    "    bb_bh2_t = np.array(testfile[\"TARGETS\"][\"bh2\"]['bb'])\n",
    "    bb_bh3_t = np.array(testfile[\"TARGETS\"][\"bh3\"]['bb'])\n",
    "\n",
    "    try:\n",
    "        # pred assignment\n",
    "        bb_bh1_p = np.array(predfile[\"TARGETS\"][\"bh1\"]['bb'])\n",
    "        bb_bh2_p = np.array(predfile[\"TARGETS\"][\"bh2\"]['bb'])\n",
    "        bb_bh3_p = np.array(predfile[\"TARGETS\"][\"bh3\"]['bb'])\n",
    "    \n",
    "        # boosted Higgs detection probability\n",
    "        dp_bh1 = np.array(predfile[\"TARGETS\"][\"bh1\"]['detection_probability'])\n",
    "        dp_bh2 = np.array(predfile[\"TARGETS\"][\"bh2\"]['detection_probability'])\n",
    "        dp_bh3 = np.array(predfile[\"TARGETS\"][\"bh3\"]['detection_probability'])\n",
    "\n",
    "        # fatjet assignment probability\n",
    "        ap_bh1 = np.array(predfile[\"TARGETS\"][\"bh1\"]['assignment_probability'])\n",
    "        ap_bh2 = np.array(predfile[\"TARGETS\"][\"bh2\"]['assignment_probability'])\n",
    "        ap_bh3 = np.array(predfile[\"TARGETS\"][\"bh3\"]['assignment_probability'])\n",
    "    except:\n",
    "        # pred assignment\n",
    "        bb_bh1_p = np.array(predfile[\"TARGETS\"][\"bh1\"]['bb'])+10\n",
    "        bb_bh2_p = np.array(predfile[\"TARGETS\"][\"bh2\"]['bb'])+10\n",
    "        bb_bh3_p = np.array(predfile[\"TARGETS\"][\"bh3\"]['bb'])+10\n",
    "    \n",
    "         # boosted Higgs detection probability\n",
    "        dp_bh1 = np.array(predfile[\"TARGETS\"][\"bh1\"]['mask']).astype('float')\n",
    "        dp_bh2 = np.array(predfile[\"TARGETS\"][\"bh2\"]['mask']).astype('float')\n",
    "        dp_bh3 = np.array(predfile[\"TARGETS\"][\"bh3\"]['mask']).astype('float')\n",
    "\n",
    "        # fatjet assignment probability\n",
    "        ap_bh1 = np.array(predfile[\"TARGETS\"][\"bh1\"]['mask']).astype('float')\n",
    "        ap_bh2 = np.array(predfile[\"TARGETS\"][\"bh2\"]['mask']).astype('float')\n",
    "        ap_bh3 = np.array(predfile[\"TARGETS\"][\"bh3\"]['mask']).astype('float')\n",
    "    \n",
    "    # collect fatjet pt\n",
    "    fj_pt = np.array(testfile['INPUTS']['BoostedJets']['fj_pt'])\n",
    "    \n",
    "    # convert some arrays to ak array\n",
    "    dps = np.concatenate((dp_bh1.reshape(-1, 1), dp_bh2.reshape(-1, 1), dp_bh3.reshape(-1, 1)), axis=1)\n",
    "    dps = ak.Array(dps)\n",
    "    aps = np.concatenate((ap_bh1.reshape(-1, 1), ap_bh2.reshape(-1, 1), ap_bh3.reshape(-1, 1)), axis=1)\n",
    "    aps = ak.Array(aps)\n",
    "    bb_ps = np.concatenate((bb_bh1_p.reshape(-1, 1), bb_bh2_p.reshape(-1, 1), bb_bh3_p.reshape(-1, 1)), axis=1)\n",
    "    bb_ps = ak.Array(bb_ps)\n",
    "    bb_ts = np.concatenate((bb_bh1_t.reshape(-1, 1), bb_bh2_t.reshape(-1, 1), bb_bh3_t.reshape(-1, 1)), axis=1)\n",
    "    bb_ts = ak.Array(bb_ts)\n",
    "    fj_pt = ak.Array(fj_pt)\n",
    "    bh_masks = np.concatenate((bh1_mask.reshape(-1, 1), bh2_mask.reshape(-1, 1), bh3_mask.reshape(-1, 1)), axis=1)\n",
    "    bh_masks = ak.Array(bh_masks)\n",
    "    bh_pts = np.concatenate((bh1_pt.reshape(-1, 1), bh2_pt.reshape(-1, 1), bh3_pt.reshape(-1, 1)), axis=1)\n",
    "    bh_pts = ak.Array(bh_pts)\n",
    "    \n",
    "    # select predictions and targets\n",
    "    bb_ts_selected, targetH_selected_pts = sel_target_bH_by_mask(bb_ts, bh_pts, bh_masks)\n",
    "    bb_ps_selected = sel_pred_bH_by_dp(dps, aps, bb_ps, dp_cut)\n",
    "    \n",
    "    # generate correct/retrieved LUT for pred/target respectively\n",
    "    LUT_pred = gen_pred_bH_LUT(bb_ps_selected, bb_ts_selected, fj_pt)\n",
    "    LUT_target = gen_target_bH_LUT(bb_ps_selected, bb_ts_selected, targetH_selected_pts)\n",
    "    \n",
    "    # reconstruct bH to remove overlapped ak4 jets\n",
    "    fj_eta = np.array(testfile['INPUTS']['BoostedJets']['fj_eta'])\n",
    "    fj_phi = np.array(testfile['INPUTS']['BoostedJets']['fj_phi'])\n",
    "    fj_mass = np.array(testfile['INPUTS']['BoostedJets']['fj_mass'])\n",
    "    \n",
    "    fjs = ak.zip(\n",
    "        {\n",
    "            \"pt\": fj_pt,\n",
    "            \"eta\": fj_eta,\n",
    "            \"phi\": fj_phi,\n",
    "            \"mass\": fj_mass,\n",
    "        },\n",
    "        with_name=\"Momentum4D\"\n",
    "    )\n",
    "    fj_reco = fjs[bb_ps_selected-10]\n",
    "    \n",
    "    return LUT_pred, LUT_target, fj_reco"
   ]
  },
  {
   "cell_type": "code",
   "execution_count": 8,
   "id": "3cf6e0d3",
   "metadata": {},
   "outputs": [
    {
     "name": "stdout",
     "output_type": "stream",
     "text": [
      "[[False, False, False], [False, False, False], ..., [False, False, False]]\n"
     ]
    }
   ],
   "source": [
    "LUT_pred, LUT_target, fj_reco = parse_boosted_w_target(test_h5, s_h5)"
   ]
  },
  {
   "cell_type": "code",
   "execution_count": 9,
   "id": "9d1e162d",
   "metadata": {},
   "outputs": [],
   "source": [
    "testfile = s_h5\n",
    "j_pt = np.array(testfile['INPUTS']['Jets']['pt'])\n",
    "j_eta = np.array(testfile['INPUTS']['Jets']['eta'])\n",
    "j_phi = np.array(testfile['INPUTS']['Jets']['phi'])\n",
    "j_mass = np.array(testfile['INPUTS']['Jets']['mass'])\n",
    "js = ak.zip(\n",
    "    {\n",
    "        \"pt\": j_pt,\n",
    "        \"eta\": j_eta,\n",
    "        \"phi\": j_phi,\n",
    "        \"mass\": j_mass,\n",
    "    },\n",
    "    with_name=\"Momentum4D\"\n",
    ")"
   ]
  },
  {
   "cell_type": "code",
   "execution_count": 10,
   "id": "1a5e9829",
   "metadata": {},
   "outputs": [
    {
     "data": {
      "text/html": [
       "<pre>[[0, 1, 2, 3, 4, 5, 6, 7, 8, 9],\n",
       " [0, 1, 2, 3, 4, 5, 6, 7, 8, 9],\n",
       " [0, 1, 2, 3, 4, 5, 6, 7, 8, 9],\n",
       " [0, 1, 2, 3, 4, 5, 6, 7, 8, 9],\n",
       " [0, 1, 2, 3, 4, 5, 6, 7, 8, 9],\n",
       " [0, 1, 2, 3, 4, 5, 6, 7, 8, 9],\n",
       " [0, 1, 2, 3, 4, 5, 6, 7, 8, 9],\n",
       " [0, 1, 2, 3, 4, 5, 6, 7, 8, 9],\n",
       " [0, 1, 2, 3, 4, 5, 6, 7, 8, 9],\n",
       " [0, 1, 2, 3, 4, 5, 6, 7, 8, 9],\n",
       " ...,\n",
       " [0, 1, 2, 3, 4, 5, 6, 7, 8, 9],\n",
       " [0, 1, 2, 3, 4, 5, 6, 7, 8, 9],\n",
       " [0, 1, 2, 3, 4, 5, 6, 7, 8, 9],\n",
       " [0, 1, 2, 3, 4, 5, 6, 7, 8, 9],\n",
       " [0, 1, 2, 3, 4, 5, 6, 7, 8, 9],\n",
       " [0, 1, 2, 3, 4, 5, 6, 7, 8, 9],\n",
       " [0, 1, 2, 3, 4, 5, 6, 7, 8, 9],\n",
       " [0, 1, 2, 3, 4, 5, 6, 7, 8, 9],\n",
       " [0, 1, 2, 3, 4, 5, 6, 7, 8, 9]]\n",
       "--------------------------------\n",
       "type: 42829 * 10 * int64</pre>"
      ],
      "text/plain": [
       "<Array [[0, 1, 2, 3, 4, 5, 6, 7, 8, 9], ..., [...]] type='42829 * 10 * int64'>"
      ]
     },
     "execution_count": 10,
     "metadata": {},
     "output_type": "execute_result"
    }
   ],
   "source": [
    "js[:, np.newaxis].deltaR(fj_reco)[2]\n",
    "ak.sum(js[:, np.newaxis].deltaR(fj_reco)[2]<0.4, axis=-2)>0\n",
    "ak.local_index(js)"
   ]
  },
  {
   "cell_type": "code",
   "execution_count": 11,
   "id": "5b622454",
   "metadata": {},
   "outputs": [],
   "source": [
    "overlapped = ak.sum(js[:, np.newaxis].deltaR(fj_reco)<0.4, axis=-2)>0"
   ]
  },
  {
   "cell_type": "code",
   "execution_count": 12,
   "id": "48625f78",
   "metadata": {},
   "outputs": [],
   "source": [
    "def get_unoverlapped_jet_index(fjs, js, dR_min=0.8):\n",
    "    overlapped = ak.sum(js[:, np.newaxis].deltaR(fjs)<dR_min, axis=-2)>0\n",
    "    jet_index_passed = ak.local_index(js).mask[~overlapped]\n",
    "    jet_index_passed = ak.drop_none(jet_index_passed)\n",
    "    return jet_index_passed"
   ]
  },
  {
   "cell_type": "code",
   "execution_count": 13,
   "id": "b26eae3e",
   "metadata": {},
   "outputs": [],
   "source": [
    "jet_index_passed = get_unoverlapped_jet_index(fj_reco, js)"
   ]
  },
  {
   "cell_type": "code",
   "execution_count": 14,
   "id": "f326ed3a",
   "metadata": {},
   "outputs": [
    {
     "data": {
      "text/html": [
       "<pre>[[0, 1, 2, 3, 4, 5, 6, 7, 8, 9],\n",
       " [0, 1, 2, 3, 4, 5, 6, 7, 8, 9],\n",
       " [2, 4, 6, 7, 8, 9],\n",
       " [0, 1, 2, 3, 4, 5, 6, 7, 8, 9],\n",
       " [0, 1, 2, 3, 4, 5, 6, 7, 8, 9],\n",
       " [0, 1, 2, 3, 4, 5, 6, 7, 8, 9],\n",
       " [0, 1, 2, 3, 4, 5, 6, 7, 8, 9],\n",
       " [1, 2, 3, 5, 6, 7, 8, 9],\n",
       " [2, 3, 5, 7, 8, 9],\n",
       " [1, 2, 3, 4, 6, 7, 8, 9],\n",
       " ...,\n",
       " [0, 1, 2, 3, 4, 5, 6, 7, 8, 9],\n",
       " [0, 1, 2, 3, 4, 5, 6, 7, 8, 9],\n",
       " [0, 1, 2, 3, 4, 5, 6, 7, 8, 9],\n",
       " [0, 1, 2, 3, 4, 5, 6, 7, 8, 9],\n",
       " [0, 1, 2, 3, 4, 5, 6, 7, 8, 9],\n",
       " [0, 1, 2, 3, 4, 5, 6, 7, 8, 9],\n",
       " [0, 1, 2, 3, 4, 5, 6, 7, 8, 9],\n",
       " [0, 2, 4, 5, 6, 7, 8, 9],\n",
       " [0, 1, 2, 3, 4, 5, 6, 7, 8, 9]]\n",
       "--------------------------------\n",
       "type: 42829 * var * int64</pre>"
      ],
      "text/plain": [
       "<Array [[0, 1, 2, 3, 4, 5, 6, 7, 8, 9], ..., [...]] type='42829 * var * int64'>"
      ]
     },
     "execution_count": 14,
     "metadata": {},
     "output_type": "execute_result"
    }
   ],
   "source": [
    "jet_index_passed"
   ]
  },
  {
   "cell_type": "code",
   "execution_count": 15,
   "id": "659fd710",
   "metadata": {},
   "outputs": [],
   "source": [
    "def sel_pred_h_by_dp(dps, aps, b1_ps, b2_ps, dp_cut=0.0, ap_cut=0):\n",
    "    # parse predicted bb assignment by DP\n",
    "    dp_filter = dps > dp_cut\n",
    "    ap_filter = aps > ap_cut\n",
    "    b1_ak4_filter = b1_ps<10\n",
    "    b2_ak4_filter = b2_ps<10\n",
    "    filter = dp_filter & ap_filter & b1_ak4_filter & b2_ak4_filter\n",
    "    \n",
    "    b1_ps_passed = b1_ps.mask[filter]\n",
    "    b1_ps_passed = ak.drop_none(b1_ps_passed)\n",
    "    \n",
    "    b2_ps_passed = b2_ps.mask[filter]\n",
    "    b2_ps_passed = ak.drop_none(b2_ps_passed)\n",
    "    \n",
    "    return b1_ps_passed, b2_ps_passed"
   ]
  },
  {
   "cell_type": "code",
   "execution_count": 16,
   "id": "89ab96fe",
   "metadata": {},
   "outputs": [],
   "source": [
    "def sel_target_h_by_mask(b1_ts, b2_ts, h_pts, h_masks):\n",
    "    b1_ts_selected = b1_ts.mask[h_masks]\n",
    "    b1_ts_selected = ak.drop_none(b1_ts_selected)\n",
    "    \n",
    "    b2_ts_selected = b2_ts.mask[h_masks]\n",
    "    b2_ts_selected = ak.drop_none(b2_ts_selected)\n",
    "    \n",
    "    h_selected_pts = h_pts.mask[h_masks]\n",
    "    h_selected_pts = ak.drop_none(h_selected_pts)\n",
    "    \n",
    "    return b1_ts_selected, b2_ts_selected, h_selected_pts"
   ]
  },
  {
   "cell_type": "code",
   "execution_count": 17,
   "id": "a43a82f2",
   "metadata": {},
   "outputs": [
    {
     "data": {
      "text/plain": [
       "True"
      ]
     },
     "execution_count": 17,
     "metadata": {},
     "output_type": "execute_result"
    }
   ],
   "source": [
    "set((1,2))==set((2,1))"
   ]
  },
  {
   "cell_type": "code",
   "execution_count": 18,
   "id": "50b0e6d4",
   "metadata": {},
   "outputs": [],
   "source": [
    "# A pred look up table is in shape\n",
    "# [event,\n",
    "#    pred_H, \n",
    "#       [correct, pred_H_pt]]\n",
    "@nb.njit\n",
    "def gen_pred_h_LUT(b1_ps_passed, b2_ps_passed, b1_ts_selected, b2_ts_selected, js, goodJetIdx, builder):\n",
    "    # for each event\n",
    "    for b1_ps_e, b2_ps_e, b1_ts_e, b2_ts_e, jets_e, goodJetIdx_e in zip(b1_ps_passed, b2_ps_passed, b1_ts_selected, b2_ts_selected, js, goodJetIdx):\n",
    "        # for each predicted bb assignment, check if any target H have a same bb assignment\n",
    "        builder.begin_list()\n",
    "        for b1_p, b2_p in zip(b1_ps_e, b2_ps_e):\n",
    "            correct = 0\n",
    "            predH_pt = (jets_e[b1_p]+jets_e[b2_p]).pt\n",
    "            for b1_t, b2_t in zip(b1_ts_e, b2_ts_e):\n",
    "                if set((b1_p, b2_p)) == set((b1_t, b2_t)) and (b1_p in goodJetIdx_e) and (b2_p in goodJetIdx_e):\n",
    "                    correct = 1\n",
    "            builder.begin_list()\n",
    "            builder.append(correct)\n",
    "            builder.append(predH_pt)\n",
    "            builder.end_list()\n",
    "        \n",
    "        builder.end_list()\n",
    "    return builder"
   ]
  },
  {
   "cell_type": "code",
   "execution_count": 19,
   "id": "d38b23eb",
   "metadata": {},
   "outputs": [],
   "source": [
    "# A target look up table is in shape\n",
    "# [event,\n",
    "#    target_H, \n",
    "#        target_bb_assign,\n",
    "#           [retrieved, targetH_pt]]\n",
    "@nb.njit\n",
    "def gen_target_h_LUT(b1_ps_passed, b2_ps_passed, b1_ts_selected, b2_ts_selected, targetH_pts, builder):\n",
    "    # for each event\n",
    "    for b1_ps_e, b2_ps_e, b1_ts_e, b2_ts_e, tH_pts_e in zip(b1_ps_passed, b2_ps_passed, b1_ts_selected, b2_ts_selected, targetH_pts):\n",
    "        # for each target fatjet, check if the predictions have a p fatject same with the t fatjet\n",
    "        builder.begin_list()\n",
    "        for b1_t, b2_t, tH_pt in zip(b1_ts_e, b2_ts_e, tH_pts_e):\n",
    "            retrieved = 0\n",
    "            for b1_p, b2_p in zip(b1_ps_e, b2_ps_e):\n",
    "                if set((b1_p, b2_p)) == set((b1_t, b2_t)):\n",
    "                    retrieved = 1\n",
    "            builder.begin_list()\n",
    "            builder.append(retrieved)\n",
    "            builder.append(tH_pt)\n",
    "            builder.end_list()\n",
    "        \n",
    "        builder.end_list()\n",
    "    return builder"
   ]
  },
  {
   "cell_type": "code",
   "execution_count": 20,
   "id": "5701eb0c",
   "metadata": {},
   "outputs": [],
   "source": [
    "def parse_resolved_w_target(testfile, predfile, dp_cut=0.5, fjs_reco=None):\n",
    "    # h pt\n",
    "    h1_pt = np.array(testfile['TARGETS']['h1']['pt'])\n",
    "    h2_pt = np.array(testfile['TARGETS']['h2']['pt'])\n",
    "    h3_pt = np.array(testfile['TARGETS']['h3']['pt'])\n",
    "    \n",
    "    # mask\n",
    "    h1_mask = np.array(testfile['TARGETS']['h1']['mask'])\n",
    "    h2_mask = np.array(testfile['TARGETS']['h2']['mask'])\n",
    "    h3_mask = np.array(testfile['TARGETS']['h3']['mask'])\n",
    "    \n",
    "    # target assignments\n",
    "    b1_h1_t = np.array(testfile[\"TARGETS\"][\"h1\"]['b1']).astype('int')\n",
    "    b1_h2_t = np.array(testfile[\"TARGETS\"][\"h2\"]['b1']).astype('int')\n",
    "    b1_h3_t = np.array(testfile[\"TARGETS\"][\"h3\"]['b1']).astype('int')\n",
    "\n",
    "    b2_h1_t = np.array(testfile[\"TARGETS\"][\"h1\"]['b2']).astype('int')\n",
    "    b2_h2_t = np.array(testfile[\"TARGETS\"][\"h2\"]['b2']).astype('int')\n",
    "    b2_h3_t = np.array(testfile[\"TARGETS\"][\"h3\"]['b2']).astype('int')\n",
    "    \n",
    "    # predict assignments\n",
    "    b1_h1_p = np.array(predfile[\"TARGETS\"][\"h1\"]['b1']).astype('int')\n",
    "    b1_h2_p = np.array(predfile[\"TARGETS\"][\"h2\"]['b1']).astype('int')\n",
    "    b1_h3_p = np.array(predfile[\"TARGETS\"][\"h3\"]['b1']).astype('int')\n",
    "\n",
    "    b2_h1_p = np.array(predfile[\"TARGETS\"][\"h1\"]['b2']).astype('int')\n",
    "    b2_h2_p = np.array(predfile[\"TARGETS\"][\"h2\"]['b2']).astype('int')\n",
    "    b2_h3_p = np.array(predfile[\"TARGETS\"][\"h3\"]['b2']).astype('int')\n",
    "    \n",
    "    # resolved Higgs detection probability\n",
    "    dp_h1 = np.array(predfile[\"TARGETS\"][\"h1\"]['detection_probability'])\n",
    "    dp_h2 = np.array(predfile[\"TARGETS\"][\"h2\"]['detection_probability'])\n",
    "    dp_h3 = np.array(predfile[\"TARGETS\"][\"h3\"]['detection_probability'])\n",
    "    \n",
    "    # ak4 jets assignment probability\n",
    "    ap_h1 = np.array(predfile[\"TARGETS\"][\"h1\"]['assignment_probability'])\n",
    "    ap_h2 = np.array(predfile[\"TARGETS\"][\"h2\"]['assignment_probability'])\n",
    "    ap_h3 = np.array(predfile[\"TARGETS\"][\"h3\"]['assignment_probability'])\n",
    "    \n",
    "    # reconstruct jet 4-momentum objects\n",
    "    j_pt = np.array(testfile['INPUTS']['Jets']['pt'])\n",
    "    j_eta = np.array(testfile['INPUTS']['Jets']['eta'])\n",
    "    j_phi = np.array(testfile['INPUTS']['Jets']['phi'])\n",
    "    j_mass = np.array(testfile['INPUTS']['Jets']['mass'])\n",
    "    js = ak.zip(\n",
    "        {\n",
    "            \"pt\": j_pt,\n",
    "            \"eta\": j_eta,\n",
    "            \"phi\": j_phi,\n",
    "            \"mass\": j_mass,\n",
    "        },\n",
    "        with_name=\"Momentum4D\"\n",
    "    )\n",
    "    \n",
    "    # convert some numpy arrays to ak arrays\n",
    "    dps = np.concatenate((dp_h1.reshape(-1, 1), dp_h2.reshape(-1, 1), dp_h3.reshape(-1, 1)), axis=1)\n",
    "    dps = ak.Array(dps)\n",
    "    aps = np.concatenate((ap_h1.reshape(-1, 1), ap_h2.reshape(-1, 1), ap_h3.reshape(-1, 1)), axis=1)\n",
    "    aps = ak.Array(aps)\n",
    "    \n",
    "    b1_ps = np.concatenate((b1_h1_p.reshape(-1, 1), b1_h2_p.reshape(-1, 1), b1_h3_p.reshape(-1, 1)), axis=1)\n",
    "    b1_ps = ak.Array(b1_ps)\n",
    "    b1_ts = np.concatenate((b1_h1_t.reshape(-1, 1), b1_h2_t.reshape(-1, 1), b1_h3_t.reshape(-1, 1)), axis=1)\n",
    "    b1_ts = ak.Array(b1_ts)\n",
    "    b2_ps = np.concatenate((b2_h1_p.reshape(-1, 1), b2_h2_p.reshape(-1, 1), b2_h3_p.reshape(-1, 1)), axis=1)\n",
    "    b2_ps = ak.Array(b2_ps)\n",
    "    b2_ts = np.concatenate((b2_h1_t.reshape(-1, 1), b2_h2_t.reshape(-1, 1), b2_h3_t.reshape(-1, 1)), axis=1)\n",
    "    b2_ts = ak.Array(b2_ts)\n",
    "\n",
    "    h_masks = np.concatenate((h1_mask.reshape(-1, 1), h2_mask.reshape(-1, 1), h3_mask.reshape(-1, 1)), axis=1)\n",
    "    h_masks = ak.Array(h_masks)\n",
    "    \n",
    "    h_pts = np.concatenate((h1_pt.reshape(-1, 1), h2_pt.reshape(-1, 1), h3_pt.reshape(-1, 1)), axis=1)\n",
    "    h_pts = ak.Array(h_pts)\n",
    "    \n",
    "    # select predictions and targets\n",
    "    b1_ts_selected, b2_ts_selected, targetH_selected_pts = sel_target_h_by_mask(b1_ts, b2_ts, h_pts, h_masks)\n",
    "    b1_ps_selected, b2_ps_selected = sel_pred_h_by_dp(dps, aps, b1_ps, b2_ps, dp_cut=dp_cut)\n",
    "    \n",
    "    # find jets that are overlapped with reco boosted Higgs\n",
    "    if fjs_reco is None:\n",
    "        goodJetIdx =  ak.local_index(js)\n",
    "    else:\n",
    "        goodJetIdx = get_unoverlapped_jet_index(fjs_reco, js)\n",
    "    \n",
    "    # generate look up tables\n",
    "    LUT_pred = gen_pred_h_LUT(b1_ps_selected, b2_ps_selected, b1_ts_selected, b2_ts_selected, js, goodJetIdx, ak.ArrayBuilder()).snapshot()\n",
    "    LUT_target = gen_target_h_LUT(b1_ps_selected, b2_ps_selected, b1_ts_selected, b2_ts_selected, targetH_selected_pts, ak.ArrayBuilder()).snapshot()\n",
    "    \n",
    "    \n",
    "    return LUT_pred, LUT_target"
   ]
  },
  {
   "cell_type": "code",
   "execution_count": null,
   "id": "3e798507",
   "metadata": {},
   "outputs": [],
   "source": []
  },
  {
   "cell_type": "code",
   "execution_count": 21,
   "id": "21e49987",
   "metadata": {},
   "outputs": [],
   "source": [
    "# calculate efficiency\n",
    "# if bins=None, put all data in a single bin\n",
    "def calc_eff(LUT_pred, bins):\n",
    "    predHs = [predH for event in LUT_pred for predH in event]\n",
    "    predHs = np.array(predHs)\n",
    "    \n",
    "    predHs_inds = np.digitize(predHs[:,1], bins)\n",
    "    \n",
    "    correctTruth_per_bin = []\n",
    "    for bin_i in range(1, len(bins)):\n",
    "        correctTruth_per_bin.append(predHs[:,0][predHs_inds==bin_i])\n",
    "    correctTruth_per_bin = ak.Array(correctTruth_per_bin)\n",
    "    \n",
    "    means = ak.mean(correctTruth_per_bin, axis=-1)\n",
    "    \n",
    "    errs = np.abs(\n",
    "    clopper_pearson_interval(num=ak.sum(correctTruth_per_bin, axis=-1),\\\n",
    "                             denom=ak.num(correctTruth_per_bin, axis=-1)) - means\n",
    "    )\n",
    "    \n",
    "    return means, errs"
   ]
  },
  {
   "cell_type": "code",
   "execution_count": 22,
   "id": "a597865b",
   "metadata": {},
   "outputs": [],
   "source": [
    "# calculate purity\n",
    "def calc_pur(LUT_target, bins):\n",
    "    targetHs = [targetH for event in LUT_target for targetH in event]\n",
    "    targetHs = np.array(targetHs)\n",
    "    \n",
    "    targetHs_inds = np.digitize(targetHs[:,1], bins)\n",
    "    \n",
    "    correctTruth_per_bin = []\n",
    "    for bin_i in range(1, len(bins)):\n",
    "        correctTruth_per_bin.append(targetHs[:,0][targetHs_inds==bin_i])\n",
    "    correctTruth_per_bin = ak.Array(correctTruth_per_bin)\n",
    "    \n",
    "    means = ak.mean(correctTruth_per_bin, axis=-1)\n",
    "    \n",
    "    errs = np.abs(\n",
    "    clopper_pearson_interval(num=ak.sum(correctTruth_per_bin, axis=-1),\\\n",
    "                             denom=ak.num(correctTruth_per_bin, axis=-1)) - means\n",
    "    )\n",
    "    \n",
    "    return means, errs"
   ]
  },
  {
   "cell_type": "code",
   "execution_count": 23,
   "id": "f2944545",
   "metadata": {},
   "outputs": [],
   "source": [
    "bins = np.arange(0, 850, 50)\n",
    "bin_centers = [(bins[i]+bins[i+1])/2 for i in range(bins.size-1)]\n",
    "xerr=(bins[1]-bins[0])/2*np.ones(bins.shape[0]-1)"
   ]
  },
  {
   "cell_type": "code",
   "execution_count": 24,
   "id": "df3cd689",
   "metadata": {},
   "outputs": [
    {
     "ename": "KeyError",
     "evalue": "\"Unable to open object (object 'h1' doesn't exist)\"",
     "output_type": "error",
     "traceback": [
      "\u001b[0;31m---------------------------------------------------------------------------\u001b[0m",
      "\u001b[0;31mKeyError\u001b[0m                                  Traceback (most recent call last)",
      "Cell \u001b[0;32mIn[24], line 3\u001b[0m\n\u001b[1;32m      1\u001b[0m dp_cut \u001b[38;5;241m=\u001b[39m \u001b[38;5;241m0.8\u001b[39m\n\u001b[1;32m      2\u001b[0m LUT_pred_spanet, LUT_target_spanet \u001b[38;5;241m=\u001b[39m parse_resolved_w_target(test_h5, s_h5, dp_cut\u001b[38;5;241m=\u001b[39mdp_cut, fjs_reco\u001b[38;5;241m=\u001b[39m\u001b[38;5;28;01mNone\u001b[39;00m)\n\u001b[0;32m----> 3\u001b[0m LUT_pred_base, LUT_target_base \u001b[38;5;241m=\u001b[39m \u001b[43mparse_resolved_w_target\u001b[49m\u001b[43m(\u001b[49m\u001b[43mtest_h5\u001b[49m\u001b[43m,\u001b[49m\u001b[43m \u001b[49m\u001b[43mb_h5\u001b[49m\u001b[43m,\u001b[49m\u001b[43m \u001b[49m\u001b[43mdp_cut\u001b[49m\u001b[38;5;241;43m=\u001b[39;49m\u001b[43mdp_cut\u001b[49m\u001b[43m,\u001b[49m\u001b[43m \u001b[49m\u001b[43mfjs_reco\u001b[49m\u001b[38;5;241;43m=\u001b[39;49m\u001b[38;5;28;43;01mNone\u001b[39;49;00m\u001b[43m)\u001b[49m\n",
      "Cell \u001b[0;32mIn[20], line 22\u001b[0m, in \u001b[0;36mparse_resolved_w_target\u001b[0;34m(testfile, predfile, dp_cut, fjs_reco)\u001b[0m\n\u001b[1;32m     19\u001b[0m b2_h3_t \u001b[38;5;241m=\u001b[39m np\u001b[38;5;241m.\u001b[39marray(testfile[\u001b[38;5;124m\"\u001b[39m\u001b[38;5;124mTARGETS\u001b[39m\u001b[38;5;124m\"\u001b[39m][\u001b[38;5;124m\"\u001b[39m\u001b[38;5;124mh3\u001b[39m\u001b[38;5;124m\"\u001b[39m][\u001b[38;5;124m'\u001b[39m\u001b[38;5;124mb2\u001b[39m\u001b[38;5;124m'\u001b[39m])\u001b[38;5;241m.\u001b[39mastype(\u001b[38;5;124m'\u001b[39m\u001b[38;5;124mint\u001b[39m\u001b[38;5;124m'\u001b[39m)\n\u001b[1;32m     21\u001b[0m \u001b[38;5;66;03m# predict assignments\u001b[39;00m\n\u001b[0;32m---> 22\u001b[0m b1_h1_p \u001b[38;5;241m=\u001b[39m np\u001b[38;5;241m.\u001b[39marray(\u001b[43mpredfile\u001b[49m\u001b[43m[\u001b[49m\u001b[38;5;124;43m\"\u001b[39;49m\u001b[38;5;124;43mTARGETS\u001b[39;49m\u001b[38;5;124;43m\"\u001b[39;49m\u001b[43m]\u001b[49m\u001b[43m[\u001b[49m\u001b[38;5;124;43m\"\u001b[39;49m\u001b[38;5;124;43mh1\u001b[39;49m\u001b[38;5;124;43m\"\u001b[39;49m\u001b[43m]\u001b[49m[\u001b[38;5;124m'\u001b[39m\u001b[38;5;124mb1\u001b[39m\u001b[38;5;124m'\u001b[39m])\u001b[38;5;241m.\u001b[39mastype(\u001b[38;5;124m'\u001b[39m\u001b[38;5;124mint\u001b[39m\u001b[38;5;124m'\u001b[39m)\n\u001b[1;32m     23\u001b[0m b1_h2_p \u001b[38;5;241m=\u001b[39m np\u001b[38;5;241m.\u001b[39marray(predfile[\u001b[38;5;124m\"\u001b[39m\u001b[38;5;124mTARGETS\u001b[39m\u001b[38;5;124m\"\u001b[39m][\u001b[38;5;124m\"\u001b[39m\u001b[38;5;124mh2\u001b[39m\u001b[38;5;124m\"\u001b[39m][\u001b[38;5;124m'\u001b[39m\u001b[38;5;124mb1\u001b[39m\u001b[38;5;124m'\u001b[39m])\u001b[38;5;241m.\u001b[39mastype(\u001b[38;5;124m'\u001b[39m\u001b[38;5;124mint\u001b[39m\u001b[38;5;124m'\u001b[39m)\n\u001b[1;32m     24\u001b[0m b1_h3_p \u001b[38;5;241m=\u001b[39m np\u001b[38;5;241m.\u001b[39marray(predfile[\u001b[38;5;124m\"\u001b[39m\u001b[38;5;124mTARGETS\u001b[39m\u001b[38;5;124m\"\u001b[39m][\u001b[38;5;124m\"\u001b[39m\u001b[38;5;124mh3\u001b[39m\u001b[38;5;124m\"\u001b[39m][\u001b[38;5;124m'\u001b[39m\u001b[38;5;124mb1\u001b[39m\u001b[38;5;124m'\u001b[39m])\u001b[38;5;241m.\u001b[39mastype(\u001b[38;5;124m'\u001b[39m\u001b[38;5;124mint\u001b[39m\u001b[38;5;124m'\u001b[39m)\n",
      "File \u001b[0;32mh5py/_objects.pyx:54\u001b[0m, in \u001b[0;36mh5py._objects.with_phil.wrapper\u001b[0;34m()\u001b[0m\n",
      "File \u001b[0;32mh5py/_objects.pyx:55\u001b[0m, in \u001b[0;36mh5py._objects.with_phil.wrapper\u001b[0;34m()\u001b[0m\n",
      "File \u001b[0;32m~/miniforge_x86_new/lib/python3.9/site-packages/h5py/_hl/group.py:328\u001b[0m, in \u001b[0;36mGroup.__getitem__\u001b[0;34m(self, name)\u001b[0m\n\u001b[1;32m    326\u001b[0m         \u001b[38;5;28;01mraise\u001b[39;00m \u001b[38;5;167;01mValueError\u001b[39;00m(\u001b[38;5;124m\"\u001b[39m\u001b[38;5;124mInvalid HDF5 object reference\u001b[39m\u001b[38;5;124m\"\u001b[39m)\n\u001b[1;32m    327\u001b[0m \u001b[38;5;28;01melif\u001b[39;00m \u001b[38;5;28misinstance\u001b[39m(name, (\u001b[38;5;28mbytes\u001b[39m, \u001b[38;5;28mstr\u001b[39m)):\n\u001b[0;32m--> 328\u001b[0m     oid \u001b[38;5;241m=\u001b[39m \u001b[43mh5o\u001b[49m\u001b[38;5;241;43m.\u001b[39;49m\u001b[43mopen\u001b[49m\u001b[43m(\u001b[49m\u001b[38;5;28;43mself\u001b[39;49m\u001b[38;5;241;43m.\u001b[39;49m\u001b[43mid\u001b[49m\u001b[43m,\u001b[49m\u001b[43m \u001b[49m\u001b[38;5;28;43mself\u001b[39;49m\u001b[38;5;241;43m.\u001b[39;49m\u001b[43m_e\u001b[49m\u001b[43m(\u001b[49m\u001b[43mname\u001b[49m\u001b[43m)\u001b[49m\u001b[43m,\u001b[49m\u001b[43m \u001b[49m\u001b[43mlapl\u001b[49m\u001b[38;5;241;43m=\u001b[39;49m\u001b[38;5;28;43mself\u001b[39;49m\u001b[38;5;241;43m.\u001b[39;49m\u001b[43m_lapl\u001b[49m\u001b[43m)\u001b[49m\n\u001b[1;32m    329\u001b[0m \u001b[38;5;28;01melse\u001b[39;00m:\n\u001b[1;32m    330\u001b[0m     \u001b[38;5;28;01mraise\u001b[39;00m \u001b[38;5;167;01mTypeError\u001b[39;00m(\u001b[38;5;124m\"\u001b[39m\u001b[38;5;124mAccessing a group is done with bytes or str, \u001b[39m\u001b[38;5;124m\"\u001b[39m\n\u001b[1;32m    331\u001b[0m                     \u001b[38;5;124m\"\u001b[39m\u001b[38;5;124m not \u001b[39m\u001b[38;5;132;01m{}\u001b[39;00m\u001b[38;5;124m\"\u001b[39m\u001b[38;5;241m.\u001b[39mformat(\u001b[38;5;28mtype\u001b[39m(name)))\n",
      "File \u001b[0;32mh5py/_objects.pyx:54\u001b[0m, in \u001b[0;36mh5py._objects.with_phil.wrapper\u001b[0;34m()\u001b[0m\n",
      "File \u001b[0;32mh5py/_objects.pyx:55\u001b[0m, in \u001b[0;36mh5py._objects.with_phil.wrapper\u001b[0;34m()\u001b[0m\n",
      "File \u001b[0;32mh5py/h5o.pyx:190\u001b[0m, in \u001b[0;36mh5py.h5o.open\u001b[0;34m()\u001b[0m\n",
      "\u001b[0;31mKeyError\u001b[0m: \"Unable to open object (object 'h1' doesn't exist)\""
     ]
    }
   ],
   "source": [
    "dp_cut = 0.8\n",
    "LUT_pred_spanet, LUT_target_spanet = parse_resolved_w_target(test_h5, s_h5, dp_cut=dp_cut, fjs_reco=None)\n",
    "LUT_pred_base, LUT_target_base = parse_resolved_w_target(test_h5, b_h5, dp_cut=dp_cut, fjs_reco=None)"
   ]
  },
  {
   "cell_type": "code",
   "execution_count": null,
   "id": "44a6a839",
   "metadata": {},
   "outputs": [],
   "source": [
    "eff_s, efferr_s = calc_eff(LUT_pred_spanet, bins)\n",
    "pur_s, purerr_s = calc_pur(LUT_target_spanet, bins)\n",
    "\n",
    "eff_b, efferr_b = calc_eff(LUT_pred_base, bins)\n",
    "pur_b, purerr_b = calc_pur(LUT_target_base, bins)"
   ]
  },
  {
   "cell_type": "code",
   "execution_count": null,
   "id": "816f5d16",
   "metadata": {},
   "outputs": [],
   "source": [
    "fig, ax = plt.subplots(1, 2, figsize=(12, 5))\n",
    "\n",
    "ax[0].errorbar(x=bin_centers, y=eff_b, xerr=xerr, yerr=efferr_b, fmt='o', capsize=5, label='Baseline')\n",
    "ax[0].errorbar(x=bin_centers, y=eff_s, xerr=xerr, yerr=efferr_s, fmt='o', capsize=5, label='SPANet')\n",
    "\n",
    "ax[1].errorbar(x=bin_centers, y=pur_b, xerr=xerr, yerr=purerr_b, fmt='o', capsize=5, label='Baseline')\n",
    "ax[1].errorbar(x=bin_centers, y=pur_s, xerr=xerr, yerr=purerr_s, fmt='o', capsize=5, label='SPANet')\n",
    "\n",
    "\n",
    "ax[0].set(xlabel=r\"Reco H pT (GeV)\", ylabel=r\"Matching efficiency\", title=f\"Resolved Higgs, DP@{dp_cut}, AP>0\")\n",
    "ax[1].set(xlabel=r\"Gen H pT (GeV)\", ylabel=r\"Matching purity\", title=f\"Resolved Higgs, DP@{dp_cut}, AP>0\")\n",
    "ax[0].legend()\n",
    "ax[1].legend()"
   ]
  },
  {
   "cell_type": "code",
   "execution_count": null,
   "id": "45f8479b-7a77-48a0-9c0b-9556475d854b",
   "metadata": {},
   "outputs": [],
   "source": []
  }
 ],
 "metadata": {
  "kernelspec": {
   "display_name": "Python 3 (ipykernel)",
   "language": "python",
   "name": "python3"
  },
  "language_info": {
   "codemirror_mode": {
    "name": "ipython",
    "version": 3
   },
   "file_extension": ".py",
   "mimetype": "text/x-python",
   "name": "python",
   "nbconvert_exporter": "python",
   "pygments_lexer": "ipython3",
   "version": "3.9.10"
  }
 },
 "nbformat": 4,
 "nbformat_minor": 5
}
