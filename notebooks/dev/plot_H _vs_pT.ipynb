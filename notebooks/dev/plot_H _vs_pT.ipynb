{
 "cells": [
  {
   "cell_type": "code",
   "execution_count": 1,
   "id": "8109cc2b",
   "metadata": {
    "ExecuteTime": {
     "end_time": "2023-09-12T22:42:48.072732Z",
     "start_time": "2023-09-12T22:42:47.716626Z"
    }
   },
   "outputs": [],
   "source": [
    "from pathlib import Path\n",
    "\n",
    "import awkward as ak\n",
    "import numpy as np\n",
    "import matplotlib.pyplot as plt\n",
    "\n",
    "import h5py as h5\n",
    "\n",
    "import numba as nb\n",
    "ak.numba.register_and_check()"
   ]
  },
  {
   "cell_type": "code",
   "execution_count": 2,
   "id": "f5491f26",
   "metadata": {
    "ExecuteTime": {
     "end_time": "2023-09-12T22:52:43.225350Z",
     "start_time": "2023-09-12T22:52:43.222740Z"
    }
   },
   "outputs": [],
   "source": [
    "proj_dir = Path.cwd().parent.parent\n",
    "\n",
    "infile_path = proj_dir.joinpath('data/delphes/v2/hhh_test.h5')\n",
    "predfile_path = proj_dir.joinpath('reports/bv2/predictions.h5')\n",
    "\n",
    "plot_dir = proj_dir.joinpath('reports/bv2/figures')"
   ]
  },
  {
   "cell_type": "code",
   "execution_count": 3,
   "id": "8f51df5f",
   "metadata": {
    "ExecuteTime": {
     "end_time": "2023-09-12T22:52:58.120492Z",
     "start_time": "2023-09-12T22:52:58.004623Z"
    }
   },
   "outputs": [],
   "source": [
    "infile = h5.File(infile_path)\n",
    "predfile = h5.File(predfile_path)"
   ]
  },
  {
   "cell_type": "code",
   "execution_count": 4,
   "id": "e073d10c",
   "metadata": {
    "ExecuteTime": {
     "end_time": "2023-09-12T22:53:15.289153Z",
     "start_time": "2023-09-12T22:53:15.285287Z"
    }
   },
   "outputs": [
    {
     "data": {
      "text/plain": [
       "<KeysViewHDF5 ['b1', 'b2', 'mask', 'pt']>"
      ]
     },
     "execution_count": 4,
     "metadata": {},
     "output_type": "execute_result"
    }
   ],
   "source": [
    "infile['TARGETS']['h1'].keys()"
   ]
  },
  {
   "cell_type": "code",
   "execution_count": 5,
   "id": "6d6876c5",
   "metadata": {
    "ExecuteTime": {
     "end_time": "2023-09-12T22:54:56.866346Z",
     "start_time": "2023-09-12T22:54:56.861623Z"
    }
   },
   "outputs": [
    {
     "data": {
      "text/plain": [
       "<KeysViewHDF5 ['assignment_probability', 'bb', 'detection_probability', 'marginal_probability']>"
      ]
     },
     "execution_count": 5,
     "metadata": {},
     "output_type": "execute_result"
    }
   ],
   "source": [
    "predfile['TARGETS']['bh1'].keys()"
   ]
  },
  {
   "cell_type": "code",
   "execution_count": 6,
   "id": "799e22ea",
   "metadata": {},
   "outputs": [
    {
     "data": {
      "text/plain": [
       "array([-1, -1,  0, -1, -1, -1, -1, -1,  0,  1])"
      ]
     },
     "execution_count": 6,
     "metadata": {},
     "output_type": "execute_result"
    }
   ],
   "source": [
    "infile['TARGETS']['bh1']['bb'][0:10]"
   ]
  },
  {
   "cell_type": "markdown",
   "id": "9e63c807",
   "metadata": {},
   "source": [
    "### OptionL: examaine pt order"
   ]
  },
  {
   "cell_type": "code",
   "execution_count": 7,
   "id": "c28ce2a1",
   "metadata": {},
   "outputs": [
    {
     "data": {
      "text/plain": [
       "array([ 85.58358765, 146.53074646, 609.32312012,  77.26717377,\n",
       "       282.46322632,  91.70096588, 218.49435425, 228.49931335,\n",
       "       469.9515686 , 301.28381348,  58.23229218, 211.69009399,\n",
       "       108.37065887, 108.78870392,  83.86267853, 109.72279358,\n",
       "       351.31704712, 140.02876282, 166.67745972, 111.93540192,\n",
       "       215.57685852,  35.19555664, 107.11416626,  67.23423004,\n",
       "       239.55192566,  97.46037292, 276.11138916,  40.23224258,\n",
       "       269.74707031, 318.29168701, 470.49819946,  48.68780899,\n",
       "       127.03714752,  84.28048706, 140.24867249, 302.69415283,\n",
       "       135.57484436, 219.75001526, 162.03977966, 104.96878815,\n",
       "       276.29852295,  80.35949707,  78.07152557, 146.284729  ,\n",
       "       124.21165466, 375.66247559,  26.96552467,  58.24560928,\n",
       "        89.40576935, 119.52960205, 179.57537842, 224.01603699,\n",
       "       142.31286621, 121.42474365, 186.70855713, 109.05266571,\n",
       "        76.33929443, 111.11807251, 163.67677307,  97.18164062,\n",
       "       100.74693298,  49.11566925,  64.93637848, 118.9717865 ,\n",
       "       102.91700745, 172.94692993,  48.07637024,  75.48374176,\n",
       "       140.24278259, 116.5432663 , 218.9708252 , 112.47995758,\n",
       "       157.2049408 ,  42.85361099, 210.18092346,  20.051548  ,\n",
       "        30.13931847, 147.46405029, 100.34740448,  45.89662552,\n",
       "       100.1296463 , 611.28515625,  80.45452881, 102.56569672,\n",
       "       120.06295013,  75.03630829, 379.06118774, 247.32409668,\n",
       "       158.50186157, 196.61894226, 240.31987   , 185.29373169,\n",
       "       126.46044922, 141.53070068, 222.63656616, 159.46838379,\n",
       "       103.80966187, 139.03088379,  87.13381195, 222.51564026])"
      ]
     },
     "execution_count": 7,
     "metadata": {},
     "output_type": "execute_result"
    }
   ],
   "source": [
    "infile['TARGETS']['bh1']['pt'][0:100]"
   ]
  },
  {
   "cell_type": "markdown",
   "id": "96c44c80",
   "metadata": {},
   "source": [
    "### Obtain python arrays for calculating purity and efficiency"
   ]
  },
  {
   "cell_type": "code",
   "execution_count": 8,
   "id": "dc664b0b",
   "metadata": {},
   "outputs": [],
   "source": [
    "# Collect H pt, mask, target and predicted jet and fjets for 3 Hs in each event\n",
    "# h pt\n",
    "h1_pt = np.array(infile['TARGETS']['h1']['pt'])\n",
    "h2_pt = np.array(infile['TARGETS']['h2']['pt'])\n",
    "h3_pt = np.array(infile['TARGETS']['h3']['pt'])\n",
    "\n",
    "bh1_pt = np.array(infile['TARGETS']['bh1']['pt'])\n",
    "bh2_pt = np.array(infile['TARGETS']['bh2']['pt'])\n",
    "bh3_pt = np.array(infile['TARGETS']['bh3']['pt'])\n",
    "\n",
    "# mask\n",
    "h1_mask = np.array(infile['TARGETS']['h1']['mask'])\n",
    "h2_mask = np.array(infile['TARGETS']['h2']['mask'])\n",
    "h3_mask = np.array(infile['TARGETS']['h3']['mask'])\n",
    "\n",
    "bh1_mask = np.array(infile['TARGETS']['bh1']['mask'])\n",
    "bh2_mask = np.array(infile['TARGETS']['bh2']['mask'])\n",
    "bh3_mask = np.array(infile['TARGETS']['bh3']['mask'])\n",
    "\n",
    "# target jet/fjets\n",
    "b1_h1_t = np.array(infile[\"TARGETS\"][\"h1\"]['b1'])\n",
    "b1_h2_t = np.array(infile[\"TARGETS\"][\"h2\"]['b1'])\n",
    "b1_h3_t = np.array(infile[\"TARGETS\"][\"h3\"]['b1'])\n",
    "\n",
    "b2_h1_t = np.array(infile[\"TARGETS\"][\"h1\"]['b2'])\n",
    "b2_h2_t = np.array(infile[\"TARGETS\"][\"h2\"]['b2'])\n",
    "b2_h3_t = np.array(infile[\"TARGETS\"][\"h3\"]['b2'])\n",
    "\n",
    "bb_bh1_t = np.array(infile[\"TARGETS\"][\"bh1\"]['bb'])\n",
    "bb_bh2_t = np.array(infile[\"TARGETS\"][\"bh2\"]['bb'])\n",
    "bb_bh3_t = np.array(infile[\"TARGETS\"][\"bh3\"]['bb'])\n",
    "\n",
    "# pred jet/fjets\n",
    "b1_h1_p = np.array(predfile[\"TARGETS\"][\"h1\"]['b1'])\n",
    "b1_h2_p = np.array(predfile[\"TARGETS\"][\"h2\"]['b1'])\n",
    "b1_h3_p = np.array(predfile[\"TARGETS\"][\"h3\"]['b1'])\n",
    "\n",
    "b2_h1_p = np.array(predfile[\"TARGETS\"][\"h1\"]['b2'])\n",
    "b2_h2_p = np.array(predfile[\"TARGETS\"][\"h2\"]['b2'])\n",
    "b2_h3_p = np.array(predfile[\"TARGETS\"][\"h3\"]['b2'])\n",
    "\n",
    "bb_bh1_p = np.array(predfile[\"TARGETS\"][\"bh1\"]['bb'])\n",
    "bb_bh2_p = np.array(predfile[\"TARGETS\"][\"bh2\"]['bb'])\n",
    "bb_bh3_p = np.array(predfile[\"TARGETS\"][\"bh3\"]['bb'])\n",
    "\n",
    "\n",
    "# fatjet assignment probability\n",
    "ap_bh1 = np.array(predfile[\"TARGETS\"][\"bh1\"]['assignment_probability'])\n",
    "ap_bh2 = np.array(predfile[\"TARGETS\"][\"bh2\"]['assignment_probability'])\n",
    "ap_bh3 = np.array(predfile[\"TARGETS\"][\"bh3\"]['assignment_probability'])"
   ]
  },
  {
   "cell_type": "code",
   "execution_count": 32,
   "id": "188d9d1c",
   "metadata": {},
   "outputs": [
    {
     "data": {
      "image/png": "[encoded data removed]",
      "text/plain": [
       "<Figure size 640x480 with 1 Axes>"
      ]
     },
     "metadata": {},
     "output_type": "display_data"
    }
   ],
   "source": [
    "plt.hist(ap_bh1)\n",
    "plt.show()"
   ]
  },
  {
   "cell_type": "code",
   "execution_count": 33,
   "id": "bcaf5554",
   "metadata": {},
   "outputs": [
    {
     "data": {
      "image/png": "[encoded data removed]",
      "text/plain": [
       "<Figure size 640x480 with 1 Axes>"
      ]
     },
     "metadata": {},
     "output_type": "display_data"
    }
   ],
   "source": [
    "plt.hist(ap_bh2)\n",
    "plt.show()"
   ]
  },
  {
   "cell_type": "markdown",
   "id": "ea3fc91f",
   "metadata": {},
   "source": [
    "### Calculating efficiency (denominator should be pred)"
   ]
  },
  {
   "cell_type": "code",
   "execution_count": 34,
   "id": "93177b60",
   "metadata": {},
   "outputs": [
    {
     "data": {
      "image/png": "[encoded data removed]",
      "text/plain": [
       "<Figure size 640x480 with 1 Axes>"
      ]
     },
     "metadata": {},
     "output_type": "display_data"
    }
   ],
   "source": [
    "plt.hist(ap_bh3)\n",
    "plt.show()"
   ]
  },
  {
   "cell_type": "markdown",
   "id": "72173996",
   "metadata": {},
   "source": [
    "### As prediction h1 can be matched to target h1, 2, 3,  I will do things in the event level first"
   ]
  },
  {
   "cell_type": "code",
   "execution_count": 45,
   "id": "a8871464",
   "metadata": {},
   "outputs": [
    {
     "name": "stdout",
     "output_type": "stream",
     "text": [
      "42829 * var * float64\n"
     ]
    }
   ],
   "source": [
    "# convert some arrays to ak array\n",
    "ap = np.concatenate((ap_bh1.reshape(-1,1), ap_bh2.reshape(-1,1), ap_bh3.reshape(-1,1)), axis=1)\n",
    "ap = ak.Array(ap)\n",
    "bb_bh_p = np.concatenate((bb_bh1_p.reshape(-1,1), bb_bh2_p.reshape(-1,1), bb_bh3_p.reshape(-1,1)), axis=1)\n",
    "bb_bh_p = ak.Array(bb_bh_p)\n",
    "bb_bh_t = np.concatenate((bb_bh1_t.reshape(-1,1), bb_bh2_t.reshape(-1,1), bb_bh3_t.reshape(-1,1)), axis=1)\n",
    "bb_bh_t = ak.Array(bb_bh_t)\n",
    "bh_pt = np.concatenate((bh1_pt.reshape(-1,1), bh2_pt.reshape(-1,1), bh3_pt.reshape(-1,1)), axis=1)\n",
    "bh_pt = ak.Array(bh_pt)\n",
    "\n",
    "# p: prediction\n",
    "AP_threshold = 0.5\n",
    "bh_filter = ap > AP_threshold\n",
    "bb_bh_p_passed = bb_bh_p.mask[bh_filter]\n",
    "bb_bh_p_passed = ak.drop_none(bb_bh_p_passed)\n",
    "\n",
    "# target\n",
    "# bb: boosted bjet index\n",
    "bb_bh_t_selected = bb_bh_t.mask[bh_filter]\n",
    "bb_bh_t_selected = ak.drop_none(bb_bh_t_selected)\n",
    "\n",
    "bh_pt_selected = bh_pt.mask[bh_filter]\n",
    "bh_pt_selected = ak.drop_none(bh_pt_selected)\n",
    "print(bh_pt_selected.type)"
   ]
  },
  {
   "cell_type": "code",
   "execution_count": 41,
   "id": "147f9f15",
   "metadata": {},
   "outputs": [],
   "source": [
    "bh_eff = []\n",
    "# for each event\n",
    "for bb_bh_p_event, bb_bh_t_event, bh_pt_event in zip(bb_bh_p_passed, bb_bh_t_selected, bh_pt_selected):\n",
    "    # for each p fatjet, do we have a t fatject same with the p fatjet\n",
    "    for bb_p, bh_pt in zip(bb_bh_p_event, bh_pt_event):\n",
    "        # bb_p = 11\n",
    "        # bb_bh_t = [2, 4, -1]\n",
    "        bh_eff.append([bh_pt, np.sum(bb_bh_t_event==bb_p)>0])\n",
    "bh_eff = np.array(bh_eff)"
   ]
  },
  {
   "cell_type": "code",
   "execution_count": 42,
   "id": "0767ca2e",
   "metadata": {},
   "outputs": [],
   "source": [
    "bins = np.arange(200, 1000, 100)\n",
    "inds = np.digitize(bh_eff[:,0], bins)\n",
    "\n",
    "\n",
    "avgs = []\n",
    "stds = []\n",
    "for bin_i in range(1, len(bins)):\n",
    "    effs_in_bin = bh_eff[:,1][inds==bin_i]\n",
    "    avg = effs_in_bin.mean()\n",
    "    std = effs_in_bin.std()\n",
    "    avgs.append(avg)\n",
    "    stds.append(std)"
   ]
  },
  {
   "cell_type": "code",
   "execution_count": 43,
   "id": "26627862",
   "metadata": {},
   "outputs": [
    {
     "name": "stdout",
     "output_type": "stream",
     "text": [
      "[0.0, 0.0002242152466367713, 0.0, 0.0, 0.0, 0.0, 0.0]\n"
     ]
    }
   ],
   "source": [
    "print(avgs)"
   ]
  },
  {
   "cell_type": "code",
   "execution_count": 44,
   "id": "63c11585",
   "metadata": {},
   "outputs": [
    {
     "data": {
      "image/png": "[encoded data removed]",
      "text/plain": [
       "<Figure size 640x480 with 1 Axes>"
      ]
     },
     "metadata": {},
     "output_type": "display_data"
    }
   ],
   "source": [
    "plt.bar(x=bins[:-1], height=avgs, yerr=stds, align='center')\n",
    "plt.show()"
   ]
  },
  {
   "cell_type": "code",
   "execution_count": null,
   "id": "4ae004cd",
   "metadata": {},
   "outputs": [],
   "source": [
    "1D: pT\n",
    "2D: matched\n",
    "    \n",
    "    group pT\n",
    "    \n",
    "    [0, 1, 0, 1, 1]\n",
    "    "
   ]
  }
 ],
 "metadata": {
  "kernelspec": {
   "display_name": "Python 3 (ipykernel)",
   "language": "python",
   "name": "python3"
  },
  "language_info": {
   "codemirror_mode": {
    "name": "ipython",
    "version": 3
   },
   "file_extension": ".py",
   "mimetype": "text/x-python",
   "name": "python",
   "nbconvert_exporter": "python",
   "pygments_lexer": "ipython3",
   "version": "3.9.16"
  }
 },
 "nbformat": 4,
 "nbformat_minor": 5
}
