{
 "cells": [
  {
   "cell_type": "code",
   "execution_count": 1,
   "id": "8109cc2b",
   "metadata": {
    "ExecuteTime": {
     "end_time": "2023-09-12T22:42:48.072732Z",
     "start_time": "2023-09-12T22:42:47.716626Z"
    }
   },
   "outputs": [],
   "source": [
    "from pathlib import Path\n",
    "\n",
    "import awkward as ak\n",
    "import numpy as np\n",
    "import matplotlib.pyplot as plt\n",
    "\n",
    "import h5py as h5\n",
    "\n",
    "import numba as nb\n",
    "ak.numba.register_and_check()"
   ]
  },
  {
   "cell_type": "code",
   "execution_count": 2,
   "id": "f5491f26",
   "metadata": {
    "ExecuteTime": {
     "end_time": "2023-09-12T22:52:43.225350Z",
     "start_time": "2023-09-12T22:52:43.222740Z"
    }
   },
   "outputs": [],
   "source": [
    "proj_dir = Path.cwd().parent.parent\n",
    "\n",
    "infile_path = proj_dir.joinpath('reports/bv2/hhh_test.h5')\n",
    "predfile_path = proj_dir.joinpath('reports/bv2/pred_v22.h5')\n",
    "\n",
    "plot_dir = proj_dir.joinpath('reports/bv2/figures')"
   ]
  },
  {
   "cell_type": "code",
   "execution_count": 3,
   "id": "8f51df5f",
   "metadata": {
    "ExecuteTime": {
     "end_time": "2023-09-12T22:52:58.120492Z",
     "start_time": "2023-09-12T22:52:58.004623Z"
    }
   },
   "outputs": [],
   "source": [
    "infile = h5.File(infile_path)\n",
    "predfile = h5.File(predfile_path)"
   ]
  },
  {
   "cell_type": "code",
   "execution_count": 4,
   "id": "e073d10c",
   "metadata": {
    "ExecuteTime": {
     "end_time": "2023-09-12T22:53:15.289153Z",
     "start_time": "2023-09-12T22:53:15.285287Z"
    }
   },
   "outputs": [
    {
     "data": {
      "text/plain": [
       "<KeysViewHDF5 ['b1', 'b2', 'mask', 'pt']>"
      ]
     },
     "execution_count": 4,
     "metadata": {},
     "output_type": "execute_result"
    }
   ],
   "source": [
    "infile['TARGETS']['h1'].keys()"
   ]
  },
  {
   "cell_type": "code",
   "execution_count": 5,
   "id": "6d6876c5",
   "metadata": {
    "ExecuteTime": {
     "end_time": "2023-09-12T22:54:56.866346Z",
     "start_time": "2023-09-12T22:54:56.861623Z"
    }
   },
   "outputs": [
    {
     "data": {
      "text/plain": [
       "<KeysViewHDF5 ['assignment_probability', 'bb', 'detection_probability', 'marginal_probability']>"
      ]
     },
     "execution_count": 5,
     "metadata": {},
     "output_type": "execute_result"
    }
   ],
   "source": [
    "predfile['TARGETS']['bh2'].keys()"
   ]
  },
  {
   "cell_type": "code",
   "execution_count": 6,
   "id": "799e22ea",
   "metadata": {},
   "outputs": [
    {
     "data": {
      "text/plain": [
       "<KeysViewHDF5 ['MASK', 'fj_charge', 'fj_chargedenergyfrac', 'fj_cosphi', 'fj_ehadovereem', 'fj_eta', 'fj_mass', 'fj_ncharged', 'fj_neutralenergyfrac', 'fj_nneutral', 'fj_phi', 'fj_pt', 'fj_sdmass', 'fj_sinphi', 'fj_tau21', 'fj_tau32']>"
      ]
     },
     "execution_count": 6,
     "metadata": {},
     "output_type": "execute_result"
    }
   ],
   "source": [
    "infile['INPUTS']['BoostedJets'].keys()"
   ]
  },
  {
   "cell_type": "code",
   "execution_count": 7,
   "id": "2c80bac3",
   "metadata": {},
   "outputs": [
    {
     "data": {
      "text/plain": [
       "array([ 0,  6,  6, 10, 10,  4,  2,  6, 11,  7,  5, 10,  1,  6,  7, 10, 10,\n",
       "        6, 10,  0, 10,  5,  1,  1,  6,  4, 12,  3, 11, 10, 11, 10, 10,  4,\n",
       "       10, 10, 10, 10, 10,  4,  8,  0,  1,  1,  6, 10,  6, 10,  2,  1,  0,\n",
       "       11,  3,  7,  3,  9, 10,  5, 10,  4,  5,  0,  6,  0, 11, 12,  0, 11,\n",
       "        6,  0, 11,  2,  2, 10, 11,  8,  0,  3,  7, 10,  1, 10,  4, 11, 10,\n",
       "        3, 10,  6,  0,  5, 10, 10,  0,  1, 11, 10,  0,  0,  1,  5])"
      ]
     },
     "execution_count": 7,
     "metadata": {},
     "output_type": "execute_result"
    }
   ],
   "source": [
    "predfile[\"TARGETS\"][\"bh1\"]['bb'][0:100]"
   ]
  },
  {
   "cell_type": "code",
   "execution_count": 8,
   "id": "cd50151f",
   "metadata": {},
   "outputs": [
    {
     "data": {
      "text/plain": [
       "array([False, False,  True, False, False, False, False, False,  True,\n",
       "        True, False, False, False, False, False, False,  True, False,\n",
       "       False, False, False, False, False, False, False, False, False,\n",
       "       False, False, False, False, False, False, False, False,  True,\n",
       "       False, False, False, False, False, False, False, False, False,\n",
       "       False, False, False, False, False, False, False, False, False,\n",
       "       False, False, False, False, False, False, False, False, False,\n",
       "       False, False, False, False, False, False, False, False, False,\n",
       "       False, False, False, False, False, False, False, False, False,\n",
       "        True, False, False, False, False,  True, False, False, False,\n",
       "       False, False, False, False, False, False, False, False, False,\n",
       "       False])"
      ]
     },
     "execution_count": 8,
     "metadata": {},
     "output_type": "execute_result"
    }
   ],
   "source": [
    "infile[\"TARGETS\"][\"bh1\"]['mask'][0:100]"
   ]
  },
  {
   "cell_type": "code",
   "execution_count": 9,
   "id": "e96fcc84",
   "metadata": {},
   "outputs": [
    {
     "data": {
      "text/plain": [
       "array([-1, -1,  0, -1, -1, -1, -1, -1,  0,  1, -1, -1, -1, -1, -1, -1,  0,\n",
       "       -1, -1, -1, -1, -1, -1, -1, -1, -1, -1, -1, -1, -1, -1, -1, -1, -1,\n",
       "       -1,  0, -1, -1, -1, -1, -1, -1, -1, -1, -1, -1, -1, -1, -1, -1, -1,\n",
       "       -1, -1, -1, -1, -1, -1, -1, -1, -1, -1, -1, -1, -1, -1, -1, -1, -1,\n",
       "       -1, -1, -1, -1, -1, -1, -1, -1, -1, -1, -1, -1, -1,  1, -1, -1, -1,\n",
       "       -1,  0, -1, -1, -1, -1, -1, -1, -1, -1, -1, -1, -1, -1, -1])"
      ]
     },
     "execution_count": 9,
     "metadata": {},
     "output_type": "execute_result"
    }
   ],
   "source": [
    "infile[\"TARGETS\"][\"bh1\"]['bb'][0:100]"
   ]
  },
  {
   "cell_type": "code",
   "execution_count": 10,
   "id": "67fe1b84",
   "metadata": {},
   "outputs": [
    {
     "data": {
      "text/plain": [
       "array([False, False, False,  True,  True, False,  True])"
      ]
     },
     "execution_count": 10,
     "metadata": {},
     "output_type": "execute_result"
    }
   ],
   "source": [
    "(predfile[\"TARGETS\"][\"bh1\"]['bb'][:100][infile[\"TARGETS\"][\"bh1\"]['mask'][:100]]-10)==infile[\"TARGETS\"][\"bh1\"]['bb'][:100][infile[\"TARGETS\"][\"bh1\"]['mask'][:100]]"
   ]
  },
  {
   "cell_type": "markdown",
   "id": "ed6afa9d",
   "metadata": {},
   "source": [
    "### Test if indices in pred bb are out of boundary for target mask =True"
   ]
  },
  {
   "cell_type": "code",
   "execution_count": 11,
   "id": "5b380738",
   "metadata": {},
   "outputs": [
    {
     "data": {
      "text/plain": [
       "array([ 2, 10, 11,  6,  7,  3,  4, 11, 12, 10,  8,  6,  3,  0,  2,  7,  6,\n",
       "        2,  7,  2,  6,  1,  3,  0, 11,  2, 10,  1,  6,  5,  2,  7, 12,  3,\n",
       "        7,  6,  6,  7,  6, 10,  2,  1,  3,  0,  2,  8, 10,  9,  3,  4,  1,\n",
       "        5,  6,  6,  6, 10,  4,  8,  5,  3,  0,  1, 11,  1, 10, 11,  2,  7,\n",
       "       10,  1,  6,  3,  1,  4, 10,  0, 10,  4,  3,  6,  2, 11,  2,  6,  8,\n",
       "        2,  7, 10,  2, 11,  7,  4,  4,  0,  6,  4,  1,  2,  4, 10])"
      ]
     },
     "execution_count": 11,
     "metadata": {},
     "output_type": "execute_result"
    }
   ],
   "source": [
    "predfile[\"TARGETS\"][\"bh2\"]['bb'][0:100]"
   ]
  },
  {
   "cell_type": "code",
   "execution_count": null,
   "id": "25bd40f5",
   "metadata": {},
   "outputs": [],
   "source": []
  },
  {
   "cell_type": "markdown",
   "id": "9e63c807",
   "metadata": {},
   "source": [
    "### OptionL: examaine pt order"
   ]
  },
  {
   "cell_type": "markdown",
   "id": "96c44c80",
   "metadata": {},
   "source": [
    "### Obtain python arrays for calculating purity and efficiency"
   ]
  },
  {
   "cell_type": "code",
   "execution_count": 12,
   "id": "dc664b0b",
   "metadata": {},
   "outputs": [],
   "source": [
    "# Collect H pt, mask, target and predicted jet and fjets for 3 Hs in each event\n",
    "# h pt\n",
    "h1_pt = np.array(infile['TARGETS']['h1']['pt'])\n",
    "h2_pt = np.array(infile['TARGETS']['h2']['pt'])\n",
    "h3_pt = np.array(infile['TARGETS']['h3']['pt'])\n",
    "\n",
    "bh1_pt = np.array(infile['TARGETS']['bh1']['pt'])\n",
    "bh2_pt = np.array(infile['TARGETS']['bh2']['pt'])\n",
    "bh3_pt = np.array(infile['TARGETS']['bh3']['pt'])\n",
    "\n",
    "# mask\n",
    "h1_mask = np.array(infile['TARGETS']['h1']['mask'])\n",
    "h2_mask = np.array(infile['TARGETS']['h2']['mask'])\n",
    "h3_mask = np.array(infile['TARGETS']['h3']['mask'])\n",
    "\n",
    "bh1_mask = np.array(infile['TARGETS']['bh1']['mask'])\n",
    "bh2_mask = np.array(infile['TARGETS']['bh2']['mask'])\n",
    "bh3_mask = np.array(infile['TARGETS']['bh3']['mask'])\n",
    "\n",
    "# target jet/fjets\n",
    "b1_h1_t = np.array(infile[\"TARGETS\"][\"h1\"]['b1'])\n",
    "b1_h2_t = np.array(infile[\"TARGETS\"][\"h2\"]['b1'])\n",
    "b1_h3_t = np.array(infile[\"TARGETS\"][\"h3\"]['b1'])\n",
    "\n",
    "b2_h1_t = np.array(infile[\"TARGETS\"][\"h1\"]['b2'])\n",
    "b2_h2_t = np.array(infile[\"TARGETS\"][\"h2\"]['b2'])\n",
    "b2_h3_t = np.array(infile[\"TARGETS\"][\"h3\"]['b2'])\n",
    "\n",
    "bb_bh1_t = np.array(infile[\"TARGETS\"][\"bh1\"]['bb'])\n",
    "bb_bh2_t = np.array(infile[\"TARGETS\"][\"bh2\"]['bb'])\n",
    "bb_bh3_t = np.array(infile[\"TARGETS\"][\"bh3\"]['bb'])\n",
    "\n",
    "# pred jet/fjets\n",
    "b1_h1_p = np.array(predfile[\"TARGETS\"][\"h1\"]['b1'])\n",
    "b1_h2_p = np.array(predfile[\"TARGETS\"][\"h2\"]['b1'])\n",
    "b1_h3_p = np.array(predfile[\"TARGETS\"][\"h3\"]['b1'])\n",
    "\n",
    "b2_h1_p = np.array(predfile[\"TARGETS\"][\"h1\"]['b2'])\n",
    "b2_h2_p = np.array(predfile[\"TARGETS\"][\"h2\"]['b2'])\n",
    "b2_h3_p = np.array(predfile[\"TARGETS\"][\"h3\"]['b2'])\n",
    "\n",
    "bb_bh1_p = np.array(predfile[\"TARGETS\"][\"bh1\"]['bb'])\n",
    "bb_bh2_p = np.array(predfile[\"TARGETS\"][\"bh2\"]['bb'])\n",
    "bb_bh3_p = np.array(predfile[\"TARGETS\"][\"bh3\"]['bb'])\n",
    "\n",
    "\n",
    "# fatjet assignment probability\n",
    "ap_bh1 = np.array(predfile[\"TARGETS\"][\"bh1\"]['assignment_probability'])\n",
    "ap_bh2 = np.array(predfile[\"TARGETS\"][\"bh2\"]['assignment_probability'])\n",
    "ap_bh3 = np.array(predfile[\"TARGETS\"][\"bh3\"]['assignment_probability'])"
   ]
  },
  {
   "cell_type": "code",
   "execution_count": 13,
   "id": "a7385080",
   "metadata": {},
   "outputs": [],
   "source": [
    "# collect fatjet pt\n",
    "fj_pt = np.array(infile['INPUTS']['BoostedJets']['fj_pt'])"
   ]
  },
  {
   "cell_type": "code",
   "execution_count": 14,
   "id": "188d9d1c",
   "metadata": {},
   "outputs": [
    {
     "data": {
      "image/png": "[encoded data removed]",
      "text/plain": [
       "<Figure size 640x480 with 1 Axes>"
      ]
     },
     "metadata": {},
     "output_type": "display_data"
    }
   ],
   "source": [
    "plt.hist(ap_bh1)\n",
    "plt.show()"
   ]
  },
  {
   "cell_type": "code",
   "execution_count": 15,
   "id": "bcaf5554",
   "metadata": {},
   "outputs": [
    {
     "data": {
      "image/png": "[encoded data removed]",
      "text/plain": [
       "<Figure size 640x480 with 1 Axes>"
      ]
     },
     "metadata": {},
     "output_type": "display_data"
    }
   ],
   "source": [
    "plt.hist(ap_bh2)\n",
    "plt.show()"
   ]
  },
  {
   "cell_type": "markdown",
   "id": "ea3fc91f",
   "metadata": {},
   "source": [
    "# Calculating efficiency (denominator should be pred)"
   ]
  },
  {
   "cell_type": "code",
   "execution_count": 16,
   "id": "93177b60",
   "metadata": {},
   "outputs": [
    {
     "data": {
      "image/png": "[encoded data removed]",
      "text/plain": [
       "<Figure size 640x480 with 1 Axes>"
      ]
     },
     "metadata": {},
     "output_type": "display_data"
    }
   ],
   "source": [
    "plt.hist(ap_bh3)\n",
    "plt.show()"
   ]
  },
  {
   "cell_type": "markdown",
   "id": "72173996",
   "metadata": {},
   "source": [
    "### As prediction h1 can be matched to target h1, 2, 3,  I will do things in the event level first"
   ]
  },
  {
   "cell_type": "code",
   "execution_count": 17,
   "id": "a8871464",
   "metadata": {},
   "outputs": [
    {
     "name": "stdout",
     "output_type": "stream",
     "text": [
      "42829 * 3 * float32\n"
     ]
    }
   ],
   "source": [
    "# convert some arrays to ak array\n",
    "ap = np.concatenate((ap_bh1.reshape(-1,1), ap_bh2.reshape(-1,1), ap_bh3.reshape(-1,1)), axis=1)\n",
    "ap = ak.Array(ap)\n",
    "bb_p = np.concatenate((bb_bh1_p.reshape(-1,1), bb_bh2_p.reshape(-1,1), bb_bh3_p.reshape(-1,1)), axis=1)\n",
    "bb_p = ak.Array(bb_p)\n",
    "bb_t = np.concatenate((bb_bh1_t.reshape(-1,1), bb_bh2_t.reshape(-1,1), bb_bh3_t.reshape(-1,1)), axis=1)\n",
    "bb_t = ak.Array(bb_t)\n",
    "fj_pt = ak.Array(fj_pt)\n",
    "print(fj_pt.type)\n",
    "\n",
    "# p: prediction\n",
    "AP_threshold = 0.5\n",
    "ap_filter = ap > AP_threshold\n",
    "bb_p_passed = bb_p.mask[ap_filter]\n",
    "bb_p_passed = ak.drop_none(bb_p_passed)\n",
    "\n",
    "ap_passed = ap.mask[ap_filter]\n",
    "ap_passed = ak.drop_none(ap_passed)\n",
    "\n",
    "sort_by_ap = ak.argsort(ap_passed, axis=-1, ascending=False)\n",
    "bb_p_passed = bb_p_passed[sort_by_ap]"
   ]
  },
  {
   "cell_type": "code",
   "execution_count": 18,
   "id": "147f9f15",
   "metadata": {},
   "outputs": [],
   "source": [
    "bh_eff = []\n",
    "# for each event\n",
    "for bb_p_event, bb_t_event, fj_pt_event in zip(bb_p_passed, bb_t, fj_pt):\n",
    "    # for each predicted fatjet, check if the targets have a t fatject same with the p fatjet\n",
    "    for bb_p in bb_p_event:\n",
    "        match = 0\n",
    "        for bb_t in bb_t_event:\n",
    "            if bb_p == bb_t+10:\n",
    "                match = 1\n",
    "        bh_eff.append([fj_pt_event[bb_t-1], match])\n",
    "bh_eff = np.array(bh_eff)"
   ]
  },
  {
   "cell_type": "code",
   "execution_count": 19,
   "id": "0767ca2e",
   "metadata": {},
   "outputs": [],
   "source": [
    "# set x axis (pT) of the scattered points\n",
    "bins = np.arange(200, 1000, 100)\n",
    "bin_centers = [(bins[i]+bins[i+1])/2 for i in range(bins.size-1)]\n",
    "\n",
    "# group points into bins by fatjet pT\n",
    "inds = np.digitize(bh_eff[:,0], bins)\n",
    "\n",
    "#np.concatenate((ap_bh1.reshape(-1,1), ap_bh2.reshape(-1,1), ap_bh3.reshape(-1,1)), axis=1)\n",
    "effs_per_bin = []\n",
    "for bin_i in range(1, len(bins)):\n",
    "    effs_per_bin.append(bh_eff[:,1][inds==bin_i])\n",
    "effs_per_bin = ak.Array(effs_per_bin)"
   ]
  },
  {
   "cell_type": "code",
   "execution_count": 20,
   "id": "26627862",
   "metadata": {},
   "outputs": [
    {
     "name": "stdout",
     "output_type": "stream",
     "text": [
      "2095.0 out of 12415 are matched in bin centered at 250.0 GeV\n",
      "1772.0 out of 4804 are matched in bin centered at 350.0 GeV\n",
      "1095.0 out of 2281 are matched in bin centered at 450.0 GeV\n",
      "525.0 out of 1044 are matched in bin centered at 550.0 GeV\n",
      "287.0 out of 547 are matched in bin centered at 650.0 GeV\n",
      "161.0 out of 293 are matched in bin centered at 750.0 GeV\n",
      "87.0 out of 167 are matched in bin centered at 850.0 GeV\n"
     ]
    }
   ],
   "source": [
    "for effs, bin_c in zip(effs_per_bin, bin_centers):\n",
    "    print(f\"{ak.sum(effs)} out of {ak.count(effs)} are matched in bin centered at {bin_c} GeV\")"
   ]
  },
  {
   "cell_type": "code",
   "execution_count": 21,
   "id": "63c11585",
   "metadata": {},
   "outputs": [
    {
     "data": {
      "image/png": "[encoded data removed]",
      "text/plain": [
       "<Figure size 640x480 with 1 Axes>"
      ]
     },
     "metadata": {},
     "output_type": "display_data"
    }
   ],
   "source": [
    "plt.scatter(x=bin_centers, y=ak.mean(effs_per_bin, axis=-1))\n",
    "plt.errorbar(x=bin_centers, y=ak.mean(effs_per_bin, axis=-1), yerr=ak.std(effs_per_bin, axis=-1))\n",
    "plt.show()"
   ]
  },
  {
   "cell_type": "code",
   "execution_count": 23,
   "id": "39798763",
   "metadata": {},
   "outputs": [
    {
     "data": {
      "text/html": [
       "<pre>[0.375,\n",
       " 0.482,\n",
       " 0.5,\n",
       " 0.5,\n",
       " 0.499,\n",
       " 0.498,\n",
       " 0.5]\n",
       "-----------------\n",
       "type: 7 * float64</pre>"
      ],
      "text/plain": [
       "<Array [0.375, 0.482, 0.5, 0.5, 0.499, 0.498, 0.5] type='7 * float64'>"
      ]
     },
     "execution_count": 23,
     "metadata": {},
     "output_type": "execute_result"
    }
   ],
   "source": [
    "ak.std(effs_per_bin, axis=-1)"
   ]
  },
  {
   "cell_type": "markdown",
   "id": "e904e58c",
   "metadata": {},
   "source": [
    "# Calculating purity "
   ]
  },
  {
   "cell_type": "code",
   "execution_count": 22,
   "id": "cc951b4b",
   "metadata": {},
   "outputs": [
    {
     "ename": "NameError",
     "evalue": "name 'bb_bh_t' is not defined",
     "output_type": "error",
     "traceback": [
      "\u001b[0;31m---------------------------------------------------------------------------\u001b[0m",
      "\u001b[0;31mNameError\u001b[0m                                 Traceback (most recent call last)",
      "Cell \u001b[0;32mIn[22], line 6\u001b[0m\n\u001b[1;32m      3\u001b[0m bh_mask \u001b[38;5;241m=\u001b[39m ak\u001b[38;5;241m.\u001b[39mArray(bh_mask)\n\u001b[1;32m      5\u001b[0m \u001b[38;5;66;03m# applying masks to the target bh's bb indices:\u001b[39;00m\n\u001b[0;32m----> 6\u001b[0m bb_bh_t_selected \u001b[38;5;241m=\u001b[39m \u001b[43mbb_bh_t\u001b[49m\u001b[38;5;241m.\u001b[39mmask[bh_mask]\n\u001b[1;32m      7\u001b[0m bb_bh_t_selected \u001b[38;5;241m=\u001b[39m ak\u001b[38;5;241m.\u001b[39mdrop_none(bb_bh_t_selected)\n\u001b[1;32m      9\u001b[0m bh_pt \u001b[38;5;241m=\u001b[39m np\u001b[38;5;241m.\u001b[39mconcatenate((bh1_pt\u001b[38;5;241m.\u001b[39mreshape(\u001b[38;5;241m-\u001b[39m\u001b[38;5;241m1\u001b[39m,\u001b[38;5;241m1\u001b[39m), bh2_pt\u001b[38;5;241m.\u001b[39mreshape(\u001b[38;5;241m-\u001b[39m\u001b[38;5;241m1\u001b[39m,\u001b[38;5;241m1\u001b[39m), bh3_pt\u001b[38;5;241m.\u001b[39mreshape(\u001b[38;5;241m-\u001b[39m\u001b[38;5;241m1\u001b[39m,\u001b[38;5;241m1\u001b[39m)), axis\u001b[38;5;241m=\u001b[39m\u001b[38;5;241m1\u001b[39m)\n",
      "\u001b[0;31mNameError\u001b[0m: name 'bb_bh_t' is not defined"
     ]
    }
   ],
   "source": [
    "# get the truth level boosted higgs mask\n",
    "bh_mask = np.concatenate((bh1_mask.reshape(-1,1), bh2_mask.reshape(-1,1), bh3_mask.reshape(-1,1)), axis=1)\n",
    "bh_mask = ak.Array(bh_mask)\n",
    "\n",
    "# applying masks to the target bh's bb indices:\n",
    "bb_bh_t_selected = bb_bh_t.mask[bh_mask]\n",
    "bb_bh_t_selected = ak.drop_none(bb_bh_t_selected)\n",
    "\n",
    "bh_pt = np.concatenate((bh1_pt.reshape(-1,1), bh2_pt.reshape(-1,1), bh3_pt.reshape(-1,1)), axis=1)\n",
    "bh_pt = ak.Array(bh_pt)"
   ]
  },
  {
   "cell_type": "code",
   "execution_count": null,
   "id": "d81a1e8b",
   "metadata": {},
   "outputs": [],
   "source": []
  }
 ],
 "metadata": {
  "kernelspec": {
   "display_name": "Python 3 (ipykernel)",
   "language": "python",
   "name": "python3"
  },
  "language_info": {
   "codemirror_mode": {
    "name": "ipython",
    "version": 3
   },
   "file_extension": ".py",
   "mimetype": "text/x-python",
   "name": "python",
   "nbconvert_exporter": "python",
   "pygments_lexer": "ipython3",
   "version": "3.9.16"
  }
 },
 "nbformat": 4,
 "nbformat_minor": 5
}
