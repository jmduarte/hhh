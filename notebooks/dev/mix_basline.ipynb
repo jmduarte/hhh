{
 "cells": [
  {
   "cell_type": "code",
   "execution_count": 1,
   "id": "3f953076",
   "metadata": {},
   "outputs": [],
   "source": [
    "import itertools\n",
    "import logging\n",
    "from pathlib import Path\n",
    "import numba as nb\n",
    "\n",
    "import awkward as ak\n",
    "import click\n",
    "import h5py\n",
    "import numpy as np\n",
    "import vector\n",
    "\n",
    "from src.data.cms.convert_to_h5 import MIN_JETS, N_JETS, N_FJETS\n",
    "\n",
    "vector.register_awkward()\n",
    "\n",
    "logging.basicConfig(level=logging.INFO)"
   ]
  },
  {
   "cell_type": "code",
   "execution_count": 2,
   "id": "9bfffafb",
   "metadata": {},
   "outputs": [],
   "source": [
    "pred_file = \"\"\n",
    "test_file = \"/Users/billyli/UCSD/hhh/data/delphes/v2/hhh_test.h5\""
   ]
  },
  {
   "cell_type": "code",
   "execution_count": 3,
   "id": "8cd15fc1",
   "metadata": {},
   "outputs": [],
   "source": [
    "HIGGS_MASS = 125.0\n",
    "# precompute possible jet assignments lookup table\n",
    "MIN_JETS=6\n",
    "\n",
    "JET_ASSIGNMENTS = {}\n",
    "for nH in range(0, 1+3):\n",
    "    JET_ASSIGNMENTS[nH] = {}\n",
    "    for nj in range(nH*2, N_JETS + 1):\n",
    "        a = list(itertools.combinations(range(nj), 2))\n",
    "        b = np.array([ assignment for assignment in itertools.combinations(a, nH) if len(np.unique(assignment)) == nH*2])\n",
    "        JET_ASSIGNMENTS[nH][nj] = b\n",
    "\n",
    "FJET_ASSIGNMENTS = {}"
   ]
  },
  {
   "cell_type": "code",
   "execution_count": 4,
   "id": "3f2e1c98",
   "metadata": {},
   "outputs": [
    {
     "data": {
      "text/plain": [
       "array([[0, 2, 4],\n",
       "       [0, 2, 3],\n",
       "       [0, 2, 3],\n",
       "       [0, 1, 4],\n",
       "       [0, 1, 3],\n",
       "       [0, 1, 3],\n",
       "       [0, 1, 4],\n",
       "       [0, 1, 2],\n",
       "       [0, 1, 2],\n",
       "       [0, 1, 3],\n",
       "       [0, 1, 2],\n",
       "       [0, 1, 2],\n",
       "       [0, 1, 3],\n",
       "       [0, 1, 2],\n",
       "       [0, 1, 2]])"
      ]
     },
     "execution_count": 4,
     "metadata": {},
     "output_type": "execute_result"
    }
   ],
   "source": [
    "JET_ASSIGNMENTS[3][6][:,:,0]"
   ]
  },
  {
   "cell_type": "code",
   "execution_count": 5,
   "id": "a81ba0d6",
   "metadata": {},
   "outputs": [],
   "source": [
    "a = list(itertools.combinations(range(3), 2))"
   ]
  },
  {
   "cell_type": "code",
   "execution_count": 6,
   "id": "2fe0ab88",
   "metadata": {},
   "outputs": [
    {
     "data": {
      "text/plain": [
       "[((0, 1), (0, 2), (1, 2))]"
      ]
     },
     "execution_count": 6,
     "metadata": {},
     "output_type": "execute_result"
    }
   ],
   "source": [
    "list(itertools.combinations(a, 3))"
   ]
  },
  {
   "cell_type": "code",
   "execution_count": 7,
   "id": "a98a8c90",
   "metadata": {},
   "outputs": [
    {
     "data": {
      "text/plain": [
       "3"
      ]
     },
     "execution_count": 7,
     "metadata": {},
     "output_type": "execute_result"
    }
   ],
   "source": [
    "len(set((0, 1)+(0, 2)+(1, 2)))"
   ]
  },
  {
   "cell_type": "code",
   "execution_count": 8,
   "id": "31b33688",
   "metadata": {},
   "outputs": [
    {
     "data": {
      "text/plain": [
       "(0, 1, 0, 2, 1, 2)"
      ]
     },
     "execution_count": 8,
     "metadata": {},
     "output_type": "execute_result"
    }
   ],
   "source": [
    "(0, 1)+(0, 2)+(1, 2)"
   ]
  },
  {
   "cell_type": "code",
   "execution_count": 9,
   "id": "845dde96",
   "metadata": {},
   "outputs": [
    {
     "data": {
      "text/plain": [
       "{0, 1, 2}"
      ]
     },
     "execution_count": 9,
     "metadata": {},
     "output_type": "execute_result"
    }
   ],
   "source": [
    "set((0, 1)+(0, 2)+(1, 2))"
   ]
  },
  {
   "cell_type": "code",
   "execution_count": 10,
   "id": "cd13e524",
   "metadata": {},
   "outputs": [],
   "source": [
    "in_file = h5py.File(test_file)"
   ]
  },
  {
   "cell_type": "code",
   "execution_count": 11,
   "id": "167a6d65",
   "metadata": {},
   "outputs": [
    {
     "data": {
      "text/plain": [
       "<KeysViewHDF5 ['MASK', 'fj_charge', 'fj_chargedenergyfrac', 'fj_cosphi', 'fj_ehadovereem', 'fj_eta', 'fj_mass', 'fj_ncharged', 'fj_neutralenergyfrac', 'fj_nneutral', 'fj_phi', 'fj_pt', 'fj_sdmass', 'fj_sinphi', 'fj_tau21', 'fj_tau32']>"
      ]
     },
     "execution_count": 11,
     "metadata": {},
     "output_type": "execute_result"
    }
   ],
   "source": [
    "in_file['INPUTS']['BoostedJets'].keys()"
   ]
  },
  {
   "cell_type": "code",
   "execution_count": 12,
   "id": "6f12174f",
   "metadata": {},
   "outputs": [
    {
     "data": {
      "text/plain": [
       "<KeysViewHDF5 ['MASK', 'btag', 'cosphi', 'eta', 'flavor', 'mass', 'matchedfj', 'phi', 'pt', 'sinphi']>"
      ]
     },
     "execution_count": 12,
     "metadata": {},
     "output_type": "execute_result"
    }
   ],
   "source": [
    "in_file['INPUTS']['Jets'].keys()"
   ]
  },
  {
   "cell_type": "code",
   "execution_count": 13,
   "id": "4ffe3d07",
   "metadata": {},
   "outputs": [],
   "source": [
    "# a function that loads jets from hhh_test.h5\n",
    "def load_jets(in_file):\n",
    "    # load jets from the h5\n",
    "    pt = ak.Array(in_file[\"INPUTS\"][\"Jets\"][\"pt\"])\n",
    "    eta = ak.Array(in_file[\"INPUTS\"][\"Jets\"][\"eta\"])\n",
    "    phi = ak.Array(in_file[\"INPUTS\"][\"Jets\"][\"phi\"])\n",
    "    btag = ak.Array(in_file[\"INPUTS\"][\"Jets\"][\"btag\"])\n",
    "    mass = ak.Array(in_file[\"INPUTS\"][\"Jets\"][\"mass\"])\n",
    "    mask = ak.Array(in_file[\"INPUTS\"][\"Jets\"][\"MASK\"])\n",
    "\n",
    "    jets = ak.zip(\n",
    "        {\n",
    "            \"pt\": pt,\n",
    "            \"eta\": eta,\n",
    "            \"phi\": phi,\n",
    "            \"btag\": btag,\n",
    "            \"mass\": mass,\n",
    "            \"mask\": mask\n",
    "        },\n",
    "        with_name=\"Momentum4D\",\n",
    "    )\n",
    "    \n",
    "    return jets"
   ]
  },
  {
   "cell_type": "code",
   "execution_count": 14,
   "id": "718e93a4",
   "metadata": {},
   "outputs": [],
   "source": [
    "# a function that loads fat jets from hhh_test.h5\n",
    "def load_fjets(in_file):\n",
    "     # load fatjets from h5\n",
    "    fj_pt = ak.Array(in_file[\"INPUTS\"][\"BoostedJets\"][\"fj_pt\"])\n",
    "    fj_eta = ak.Array(in_file[\"INPUTS\"][\"BoostedJets\"][\"fj_eta\"])\n",
    "    fj_phi = ak.Array(in_file[\"INPUTS\"][\"BoostedJets\"][\"fj_phi\"])\n",
    "    fj_mass = ak.Array(in_file[\"INPUTS\"][\"BoostedJets\"][\"fj_mass\"])\n",
    "    fj_mask = ak.Array(in_file[\"INPUTS\"][\"BoostedJets\"][\"MASK\"])\n",
    "\n",
    "    fjets = ak.zip(\n",
    "        {\n",
    "            \"pt\": fj_pt,\n",
    "            \"eta\": fj_eta,\n",
    "            \"phi\": fj_phi,\n",
    "            'mass': fj_mass,\n",
    "            'mask': fj_mask\n",
    "        },\n",
    "        with_name=\"Momentum4D\"\n",
    "    )\n",
    "    \n",
    "    return fjets"
   ]
  },
  {
   "cell_type": "code",
   "execution_count": 15,
   "id": "d36d4dc8",
   "metadata": {},
   "outputs": [],
   "source": [
    "fjs = load_fjets(in_file)\n",
    "fj_mask = fjs['mask']\n",
    "fjmass_cond = (fjs['mass']>110) & (fjs['mass']<140)\n",
    "fjpt_cond = fjs['pt']>300\n",
    "fj_cond = fjmass_cond & fjpt_cond & fj_mask\n",
    "fjs_selected = fjs[fj_cond]\n",
    "\n",
    "fj_idx = ak.local_index(fjs)\n",
    "bh_fj_idx = fj_idx[fj_cond]"
   ]
  },
  {
   "cell_type": "code",
   "execution_count": 16,
   "id": "ed1d868d",
   "metadata": {},
   "outputs": [],
   "source": [
    "js = load_jets(in_file)\n",
    "js_idx = ak.local_index(js)"
   ]
  },
  {
   "cell_type": "code",
   "execution_count": 17,
   "id": "cc406254",
   "metadata": {},
   "outputs": [
    {
     "data": {
      "text/html": [
       "<pre>{pt: 99.1,\n",
       " eta: -0.14,\n",
       " phi: 3.02,\n",
       " btag: 1,\n",
       " mass: 27.2,\n",
       " mask: True}\n",
       "------------------\n",
       "type: Momentum4D[\n",
       "    pt: float64,\n",
       "    eta: float64,\n",
       "    phi: float64,\n",
       "    btag: float64,\n",
       "    mass: float64,\n",
       "    mask: bool\n",
       "]</pre>"
      ],
      "text/plain": [
       "<MomentumRecord4D {pt: 99.1, eta: -0.14, phi: 3.02, ...} type='Momentum4D[p...'>"
      ]
     },
     "execution_count": 17,
     "metadata": {},
     "output_type": "execute_result"
    }
   ],
   "source": [
    "js[0][0]"
   ]
  },
  {
   "cell_type": "code",
   "execution_count": 18,
   "id": "9bbf8f4a",
   "metadata": {
    "scrolled": false
   },
   "outputs": [
    {
     "data": {
      "text/html": [
       "<pre>[1.99]\n",
       "-----------------\n",
       "type: 1 * float64</pre>"
      ],
      "text/plain": [
       "<Array [1.99] type='1 * float64'>"
      ]
     },
     "execution_count": 18,
     "metadata": {},
     "output_type": "execute_result"
    }
   ],
   "source": [
    "fjs_selected[8].deltaR(js[0][0])"
   ]
  },
  {
   "cell_type": "code",
   "execution_count": 19,
   "id": "e1a758c9",
   "metadata": {},
   "outputs": [],
   "source": [
    "FJET_DR = 0.8\n",
    "\n",
    "@nb.njit\n",
    "def match_fjet_to_jet(fjets, jets, builder):\n",
    "    for fjets_event, jets_event in zip(fjets, jets):\n",
    "        builder.begin_list()\n",
    "        for i, jet in enumerate(jets_event):\n",
    "            match_idx = -1\n",
    "            for j, fjet in enumerate(fjets_event):\n",
    "                if jet.deltaR(fjet) < FJET_DR:\n",
    "                    match_idx = j\n",
    "            builder.append(match_idx)\n",
    "        builder.end_list()\n",
    "\n",
    "    return builder"
   ]
  },
  {
   "cell_type": "code",
   "execution_count": 20,
   "id": "da003aac",
   "metadata": {},
   "outputs": [],
   "source": [
    "matched_fj_idx = match_fjet_to_jet(fjs_selected, js, ak.ArrayBuilder()).snapshot()\n",
    "js_unoverlapped = js[matched_fj_idx==-1]\n",
    "idx_js_unoverlapped = js_idx[matched_fj_idx==-1]"
   ]
  },
  {
   "cell_type": "code",
   "execution_count": 21,
   "id": "0015dd31",
   "metadata": {},
   "outputs": [],
   "source": [
    "js_unoverlapped\n",
    "jcounts = ak.count(js_unoverlapped, axis=-1)"
   ]
  },
  {
   "cell_type": "code",
   "execution_count": 22,
   "id": "58584575",
   "metadata": {},
   "outputs": [],
   "source": [
    "n_bhs_matched = ak.count(fjs_selected, axis=-1)\n",
    "NrHs = (3-n_bhs_matched).to_numpy()"
   ]
  },
  {
   "cell_type": "code",
   "execution_count": 23,
   "id": "404e5bf3",
   "metadata": {},
   "outputs": [],
   "source": [
    "jet_assignments = [JET_ASSIGNMENTS[NrH_event][jcount_event] for jcount_event, NrH_event in zip(jcounts, NrHs)]"
   ]
  },
  {
   "cell_type": "code",
   "execution_count": 24,
   "id": "6dcbefd5",
   "metadata": {},
   "outputs": [
    {
     "name": "stdout",
     "output_type": "stream",
     "text": [
      "[3 3 3 ... 3 2 3]\n"
     ]
    }
   ],
   "source": [
    "print(NrHs)"
   ]
  },
  {
   "cell_type": "code",
   "execution_count": 25,
   "id": "d317e051",
   "metadata": {},
   "outputs": [],
   "source": [
    "# @nb.njit\n",
    "def chi2_matching(js, jcounts, NrHs, jet_assignments, builder):\n",
    "    HIGGS_MASS = 125\n",
    "    predictions = []\n",
    "    for js_e, jcount_e, ja_e, NrH_e in zip(js, jcounts, jet_assignments, NrHs):\n",
    "        # print(NrH_e)\n",
    "        builder.begin_list()\n",
    "        j_b1 = js_e[ja_e[:,:,0]]\n",
    "        j_b2 = js_e[ja_e[:,:,1]]\n",
    "        mjj = (j_b1 + j_b2).mass\n",
    "        chi2 = ak.sum(np.square(mjj - HIGGS_MASS), axis=-1)\n",
    "        chi2_argmin = ak.argmin(chi2, axis=-1)\n",
    "        \n",
    "        prediction_e = [ja_e[:,i,:] for i in range(NrH_e)]\n",
    "        predictions.append(prediction_e)\n",
    "\n",
    "    return predictions"
   ]
  },
  {
   "cell_type": "code",
   "execution_count": 26,
   "id": "4833659e",
   "metadata": {},
   "outputs": [
    {
     "ename": "IndexError",
     "evalue": "too many indices for array: array is 2-dimensional, but 3 were indexed",
     "output_type": "error",
     "traceback": [
      "\u001b[0;31m---------------------------------------------------------------------------\u001b[0m",
      "\u001b[0;31mIndexError\u001b[0m                                Traceback (most recent call last)",
      "Cell \u001b[0;32mIn[26], line 1\u001b[0m\n\u001b[0;32m----> 1\u001b[0m \u001b[43mchi2_matching\u001b[49m\u001b[43m(\u001b[49m\u001b[43mjs_unoverlapped\u001b[49m\u001b[43m,\u001b[49m\u001b[43m \u001b[49m\u001b[43mjcounts\u001b[49m\u001b[43m,\u001b[49m\u001b[43m \u001b[49m\u001b[43mNrHs\u001b[49m\u001b[43m,\u001b[49m\u001b[43m \u001b[49m\u001b[43mjet_assignments\u001b[49m\u001b[43m,\u001b[49m\u001b[43m \u001b[49m\u001b[43mak\u001b[49m\u001b[38;5;241;43m.\u001b[39;49m\u001b[43mArrayBuilder\u001b[49m\u001b[43m(\u001b[49m\u001b[43m)\u001b[49m\u001b[43m)\u001b[49m\u001b[38;5;241m.\u001b[39msnapshot()\n",
      "Cell \u001b[0;32mIn[25], line 8\u001b[0m, in \u001b[0;36mchi2_matching\u001b[0;34m(js, jcounts, NrHs, jet_assignments, builder)\u001b[0m\n\u001b[1;32m      5\u001b[0m \u001b[38;5;28;01mfor\u001b[39;00m js_e, jcount_e, ja_e, NrH_e \u001b[38;5;129;01min\u001b[39;00m \u001b[38;5;28mzip\u001b[39m(js, jcounts, jet_assignments, NrHs):\n\u001b[1;32m      6\u001b[0m     \u001b[38;5;66;03m# print(NrH_e)\u001b[39;00m\n\u001b[1;32m      7\u001b[0m     builder\u001b[38;5;241m.\u001b[39mbegin_list()\n\u001b[0;32m----> 8\u001b[0m     j_b1 \u001b[38;5;241m=\u001b[39m js_e[\u001b[43mja_e\u001b[49m\u001b[43m[\u001b[49m\u001b[43m:\u001b[49m\u001b[43m,\u001b[49m\u001b[43m:\u001b[49m\u001b[43m,\u001b[49m\u001b[38;5;241;43m0\u001b[39;49m\u001b[43m]\u001b[49m]\n\u001b[1;32m      9\u001b[0m     j_b2 \u001b[38;5;241m=\u001b[39m js_e[ja_e[:,:,\u001b[38;5;241m1\u001b[39m]]\n\u001b[1;32m     10\u001b[0m     mjj \u001b[38;5;241m=\u001b[39m (j_b1 \u001b[38;5;241m+\u001b[39m j_b2)\u001b[38;5;241m.\u001b[39mmass\n",
      "\u001b[0;31mIndexError\u001b[0m: too many indices for array: array is 2-dimensional, but 3 were indexed"
     ]
    }
   ],
   "source": [
    "chi2_matching(js_unoverlapped, jcounts, NrHs, jet_assignments, ak.ArrayBuilder()).snapshot()"
   ]
  },
  {
   "cell_type": "code",
   "execution_count": null,
   "id": "683200fe",
   "metadata": {},
   "outputs": [],
   "source": [
    "#js_b1 = js[]\n",
    "# jet_assignments = ak.Array(jet_assignments)\n",
    "jet_assignments[0][1]"
   ]
  },
  {
   "cell_type": "code",
   "execution_count": null,
   "id": "10c1e89b",
   "metadata": {},
   "outputs": [],
   "source": [
    "idx_js_b1 = [ pair[0] for ev in jet_assignments for comb in ev for pair in comb ]\n",
    "idx_js_b2 = [ pair[1] for ev in jet_assignments for comb in ev for pair in comb ]"
   ]
  },
  {
   "cell_type": "code",
   "execution_count": null,
   "id": "4c5390eb",
   "metadata": {},
   "outputs": [],
   "source": []
  },
  {
   "cell_type": "code",
   "execution_count": null,
   "id": "b0efea04",
   "metadata": {},
   "outputs": [],
   "source": [
    "def main(pred_file, test_file):\n",
    "    # load input test h5 file\n",
    "    in_file = h5py.File(test_file)\n",
    "    \n",
    "    jets = load_jets(in_file)\n",
    "    fjets = load_fjets(in_file)\n",
    "    \n",
    "    # select fjets based on pT and mass\n",
    "    \n",
    "    \n",
    "    # find ak4jets that matched to selected ak8jets (dR check)\n",
    "    \n",
    "    # remove overlapped ak4jets\n",
    "    \n",
    "    # assign ak4 jets to the remaining higgs by chi2\n",
    "    \n",
    "    # save all assignment to the h5file\n",
    "    \n",
    "    return\n",
    "    \n",
    "    \n",
    "\n",
    "   \n",
    "\n",
    "\n",
    "main(pred_file, test_file)\n"
   ]
  },
  {
   "cell_type": "markdown",
   "id": "6bb99e9f",
   "metadata": {},
   "source": [
    "## code segments waiting"
   ]
  },
  {
   "cell_type": "code",
   "execution_count": null,
   "id": "29b39ed1",
   "metadata": {},
   "outputs": [],
   "source": [
    "\n",
    "    \n",
    "    # just consider top-6 jets\n",
    "    nj = 6\n",
    "    mjj = (jets[:, JET_ASSIGNMENTS[nj][:, :, 0]] + jets[:, JET_ASSIGNMENTS[nj][:, :, 1]]).mass\n",
    "    chi2 = ak.sum(np.square(mjj - HIGGS_MASS), axis=-1)\n",
    "    chi2_argmin = ak.argmin(chi2, axis=-1)\n",
    "\n",
    "    h1_bs = np.concatenate(\n",
    "        (\n",
    "            np.array(in_file[\"TARGETS\"][\"h1\"][\"b1\"])[:, np.newaxis],\n",
    "            np.array(in_file[\"TARGETS\"][\"h1\"][\"b2\"])[:, np.newaxis],\n",
    "        ),\n",
    "        axis=-1,\n",
    "    )\n",
    "    h2_bs = np.concatenate(\n",
    "        (\n",
    "            np.array(in_file[\"TARGETS\"][\"h2\"][\"b1\"])[:, np.newaxis],\n",
    "            np.array(in_file[\"TARGETS\"][\"h2\"][\"b2\"])[:, np.newaxis],\n",
    "        ),\n",
    "        axis=-1,\n",
    "    )\n",
    "    h3_bs = np.concatenate(\n",
    "        (\n",
    "            np.array(in_file[\"TARGETS\"][\"h3\"][\"b1\"])[:, np.newaxis],\n",
    "            np.array(in_file[\"TARGETS\"][\"h3\"][\"b2\"])[:, np.newaxis],\n",
    "        ),\n",
    "        axis=-1,\n",
    "    )\n",
    "\n",
    "    # chi2 on fjets to find Higgs\n",
    "    \n",
    "    num_events = len(fj_pt) \n",
    "    bh1_b_pred = np.ones(shape=(num_events, 1), dtype=int)\n",
    "    bh2_b_pred = np.ones(shape=(num_events, 1), dtype=int)*2\n",
    "    bh3_b_pred = np.ones(shape=(num_events, 1), dtype=int)*3\n",
    "\n",
    "    bh1_b = np.array(in_file[\"TARGETS\"][\"bh1\"][\"bb\"])\n",
    "    bh2_b = np.array(in_file[\"TARGETS\"][\"bh2\"][\"bb\"])\n",
    "    bh3_b = np.array(in_file[\"TARGETS\"][\"bh3\"][\"bb\"])\n",
    "\n",
    "    targets = [h1_bs, h2_bs, h3_bs, bh1_b, bh2_b, bh3_b]\n",
    "\n",
    "    masks = np.concatenate(\n",
    "        (\n",
    "            np.array(in_file[\"TARGETS\"][\"h1\"][\"mask\"])[np.newaxis, :],\n",
    "            np.array(in_file[\"TARGETS\"][\"h2\"][\"mask\"])[np.newaxis, :],\n",
    "            np.array(in_file[\"TARGETS\"][\"h3\"][\"mask\"])[np.newaxis, :],\n",
    "            np.array(in_file[\"TARGETS\"][\"bh1\"][\"mask\"])[np.newaxis, :],\n",
    "            np.array(in_file[\"TARGETS\"][\"bh2\"][\"mask\"])[np.newaxis, :],\n",
    "            np.array(in_file[\"TARGETS\"][\"bh3\"][\"mask\"])[np.newaxis, :]\n",
    "        ),\n",
    "        axis=0,\n",
    "    )\n",
    "\n",
    "    predictions = [\n",
    "        JET_ASSIGNMENTS[nj][chi2_argmin][:, 0, :],\n",
    "        JET_ASSIGNMENTS[nj][chi2_argmin][:, 1, :],\n",
    "        JET_ASSIGNMENTS[nj][chi2_argmin][:, 2, :],\n",
    "        bh1_b_pred,\n",
    "        bh2_b_pred,\n",
    "        bh3_b_pred,\n",
    "    ]\n",
    "\n",
    "    num_vectors = np.sum(mask, axis=-1).to_numpy() # number of unique objects in every event\n",
    "    lines = 2 # how many lines are generated in the table\n",
    "    results, jet_limits, clusters = evaluate_predictions(predictions, num_vectors, targets, masks, event_file, lines)\n",
    "    display_table(results, jet_limits, clusters)\n"
   ]
  }
 ],
 "metadata": {
  "kernelspec": {
   "display_name": "Python 3 (ipykernel)",
   "language": "python",
   "name": "python3"
  },
  "language_info": {
   "codemirror_mode": {
    "name": "ipython",
    "version": 3
   },
   "file_extension": ".py",
   "mimetype": "text/x-python",
   "name": "python",
   "nbconvert_exporter": "python",
   "pygments_lexer": "ipython3",
   "version": "3.9.10"
  }
 },
 "nbformat": 4,
 "nbformat_minor": 5
}
