{
 "cells": [
  {
   "cell_type": "code",
   "execution_count": 2,
   "id": "3f953076",
   "metadata": {},
   "outputs": [
    {
     "name": "stderr",
     "output_type": "stream",
     "text": [
      "/Users/billyli/miniforge_x86_new/lib/python3.9/site-packages/tqdm/auto.py:22: TqdmWarning: IProgress not found. Please update jupyter and ipywidgets. See https://ipywidgets.readthedocs.io/en/stable/user_install.html\n",
      "  from .autonotebook import tqdm as notebook_tqdm\n"
     ]
    }
   ],
   "source": [
    "import itertools\n",
    "import logging\n",
    "from pathlib import Path\n",
    "\n",
    "import awkward as ak\n",
    "import click\n",
    "import h5py\n",
    "import numpy as np\n",
    "import vector\n",
    "\n",
    "from src.data.cms.convert_to_h5 import MIN_JETS, N_JETS, N_FJETS\n",
    "\n",
    "vector.register_awkward()\n",
    "\n",
    "logging.basicConfig(level=logging.INFO)"
   ]
  },
  {
   "cell_type": "code",
   "execution_count": 1,
   "id": "8cd15fc1",
   "metadata": {},
   "outputs": [],
   "source": [
    "HIGGS_MASS = 125.0\n",
    "PROJECT_DIR = Path(__file__).resolve().parents[2]\n",
    "# precompute possible jet assignments lookup table\n",
    "JET_ASSIGNMENTS = {}\n",
    "for nj in range(MIN_JETS, N_JETS + 1):\n",
    "    a = list(itertools.combinations(range(nj), 2))\n",
    "    b = np.array([(i, j, k) for i, j, k in itertools.combinations(a, 3) if len(set(i + j + k)) == MIN_JETS])\n",
    "    JET_ASSIGNMENTS[nj] = b\n",
    "\n",
    "FJET_ASSIGNMENTS = {}"
   ]
  },
  {
   "cell_type": "code",
   "execution_count": 3,
   "id": "4ffe3d07",
   "metadata": {},
   "outputs": [],
   "source": [
    "# a function that loads jets from hhh_test.h5\n",
    "def load_jets(in_file):\n",
    "    # load jets from the h5\n",
    "    pt = ak.Array(in_file[\"INPUTS\"][\"Jets\"][\"pt\"])\n",
    "    eta = ak.Array(in_file[\"INPUTS\"][\"Jets\"][\"eta\"])\n",
    "    sinphi = ak.Array(in_file[\"INPUTS\"][\"Jets\"][\"sinphi\"])\n",
    "    cosphi = ak.Array(in_file[\"INPUTS\"][\"Jets\"][\"cosphi\"])\n",
    "    phi = np.arcsin(sinphi)\n",
    "    btag = ak.Array(in_file[\"INPUTS\"][\"Jets\"][\"btag\"])\n",
    "    mass = ak.Array(in_file[\"INPUTS\"][\"Jets\"][\"mass\"])\n",
    "    mask = ak.Array(in_file[\"INPUTS\"][\"Jets\"][\"MASK\"])\n",
    "\n",
    "    # remove zero-padded jets\n",
    "    pt = pt[mask]\n",
    "    eta = eta[mask]\n",
    "    sinphi = sinphi[mask]\n",
    "    cosphi = cosphi[mask]\n",
    "    phi = phi[mask]\n",
    "    btag = btag[mask]\n",
    "    mass = mass[mask]\n",
    "\n",
    "    jets = ak.zip(\n",
    "        {\n",
    "            \"pt\": pt,\n",
    "            \"eta\": eta,\n",
    "            \"sinphi\": sinphi,\n",
    "            \"cosphi\": cosphi,\n",
    "            \"phi\": phi,\n",
    "            \"btag\": btag,\n",
    "            \"mass\": mass\n",
    "        },\n",
    "        with_name=\"Momentum4D\",\n",
    "    )\n",
    "    \n",
    "    return jets"
   ]
  },
  {
   "cell_type": "code",
   "execution_count": 26,
   "id": "718e93a4",
   "metadata": {},
   "outputs": [],
   "source": [
    "# a function that loads fat jets from hhh_test.h5\n",
    "def load_fjets(in_file):\n",
    "     # load fatjets from h5\n",
    "    fj_pt = ak.Array(in_file[\"INPUTS\"][\"BoostedJets\"][\"fj_pt\"])\n",
    "    fj_eta = ak.Array(in_file[\"INPUTS\"][\"BoostedJets\"][\"fj_eta\"])\n",
    "    fj_sinphi = ak.Array(in_file[\"INPUTS\"][\"BoostedJets\"]['fj_sinphi'])\n",
    "    fj_cosphi = ak.Array(in_file[\"INPUTS\"][\"BoostedJets\"][\"fj_cosphi\"])\n",
    "    fj_mass = ak.Array(in_file[\"INPUTS\"][\"BoostedJets\"][\"fj_mass\"])\n",
    "    fj_mask = ak.Array(in_file[\"INPUTS\"][\"BoostedJets\"][\"MASK\"])\n",
    "\n",
    "    # remove zero-padded jets\n",
    "    fj_pt = fj_pt[fj_mask]\n",
    "    fj_eta = fj_eta[fj_mask]\n",
    "    fj_sinphi = fj_sinphi[fj_mask]\n",
    "    fj_cosphi = fj_cosphi[fj_mask]\n",
    "    fj_mass = fj_mass[fj_mask]\n",
    "\n",
    "    fjets = ak.zip(\n",
    "        {\n",
    "            \"fj_pt\": fj_pt,\n",
    "            \"fj_eta\": fj_eta,\n",
    "            \"fj_sinphi\": fj_sinphi,\n",
    "            \"fj_cosphi\": fj_cosphi,\n",
    "            'fj_mass': fj_mass\n",
    "        },\n",
    "        with_name=\"Momentum4D\"\n",
    "    )\n",
    "    \n",
    "    return fjets"
   ]
  },
  {
   "cell_type": "code",
   "execution_count": 24,
   "id": "dadd49ed",
   "metadata": {},
   "outputs": [
    {
     "ename": "SyntaxError",
     "evalue": "unexpected EOF while parsing (1900233828.py, line 3)",
     "output_type": "error",
     "traceback": [
      "\u001b[0;36m  Cell \u001b[0;32mIn[24], line 3\u001b[0;36m\u001b[0m\n\u001b[0;31m    @click.option(\"--test_file\", '-tf', default='-sf', help=\"Event file\")\u001b[0m\n\u001b[0m                                                                         ^\u001b[0m\n\u001b[0;31mSyntaxError\u001b[0m\u001b[0;31m:\u001b[0m unexpected EOF while parsing\n"
     ]
    }
   ],
   "source": [
    "@click.command()\n",
    "@click.option(\"--pred_file\", '-pf', default=f\"{str(Path.cwd().joinpath('predictions.h5'))}\", help=\"Path of the output prediction file\")\n",
    "@click.option(\"--test_file\", '-tf', default='-sf', help=\"Event file\")"
   ]
  },
  {
   "cell_type": "code",
   "execution_count": 27,
   "id": "cd13e524",
   "metadata": {},
   "outputs": [],
   "source": [
    "in_file = h5py.File(test_file)\n",
    "fjets = load_fjets(in_file)"
   ]
  },
  {
   "cell_type": "code",
   "execution_count": 31,
   "id": "d36d4dc8",
   "metadata": {},
   "outputs": [
    {
     "data": {
      "text/html": [
       "<pre>[[],\n",
       " [],\n",
       " [],\n",
       " [],\n",
       " [],\n",
       " [],\n",
       " [],\n",
       " [],\n",
       " [{fj_pt: 360, fj_eta: -0.287, fj_sinphi: 0.862, fj_cosphi: 0.507, ...}],\n",
       " [],\n",
       " ...,\n",
       " [],\n",
       " [],\n",
       " [],\n",
       " [],\n",
       " [],\n",
       " [],\n",
       " [],\n",
       " [{fj_pt: 323, fj_eta: 0.00926, fj_sinphi: 0.856, fj_cosphi: -0.517, ...}],\n",
       " []]\n",
       "---------------------------------------------------------------------------\n",
       "type: 42829 * var * Momentum4D[\n",
       "    fj_pt: float64,\n",
       "    fj_eta: float64,\n",
       "    fj_sinphi: float64,\n",
       "    fj_cosphi: float64,\n",
       "    fj_mass: float64\n",
       "]</pre>"
      ],
      "text/plain": [
       "<MomentumArray4D [[], [], ..., [{fj_pt: 323, ...}], []] type='42829 * var *...'>"
      ]
     },
     "execution_count": 31,
     "metadata": {},
     "output_type": "execute_result"
    }
   ],
   "source": []
  },
  {
   "cell_type": "code",
   "execution_count": 17,
   "id": "b0efea04",
   "metadata": {},
   "outputs": [],
   "source": [
    "pred_file = \"\"\n",
    "test_file = \"/Users/billyli/UCSD/hhh/data/delphes/v2/hhh_test.h5\"\n",
    "def main(pred_file, test_file):\n",
    "    # load input test h5 file\n",
    "    in_file = h5py.File(test_file)\n",
    "    \n",
    "    jets = load_jets(in_file)\n",
    "    fjets = load_fjets(in_file)\n",
    "    \n",
    "    # select fjets based on pT and mass\n",
    "    fjmass_cond = (fjets['fj_mass']>110) & (fjets['fj_mass']<140)\n",
    "    fjpt_cond = fjets['fj_pt']>300\n",
    "    fj_cond = fjmass_cond & fjpt_cond\n",
    "    fjets_selected = fjets[fj_cond]\n",
    "    \n",
    "    # find ak4jets that matched to selected ak8jets (dR check)\n",
    "    \n",
    "    # remove overlapped ak4jets\n",
    "    \n",
    "    # assign ak4 jets to the remaining higgs by chi2\n",
    "    \n",
    "    # save all assignment to the h5file\n",
    "    \n",
    "    return\n",
    "    \n",
    "    \n",
    "\n",
    "   \n",
    "\n",
    "\n",
    "main(pred_file, test_file)\n"
   ]
  },
  {
   "cell_type": "markdown",
   "id": "6bb99e9f",
   "metadata": {},
   "source": [
    "## code segments waiting"
   ]
  },
  {
   "cell_type": "code",
   "execution_count": null,
   "id": "29b39ed1",
   "metadata": {},
   "outputs": [],
   "source": [
    "\n",
    "    \n",
    "    # just consider top-6 jets\n",
    "    nj = 6\n",
    "    mjj = (jets[:, JET_ASSIGNMENTS[nj][:, :, 0]] + jets[:, JET_ASSIGNMENTS[nj][:, :, 1]]).mass\n",
    "    chi2 = ak.sum(np.square(mjj - HIGGS_MASS), axis=-1)\n",
    "    chi2_argmin = ak.argmin(chi2, axis=-1)\n",
    "\n",
    "    h1_bs = np.concatenate(\n",
    "        (\n",
    "            np.array(in_file[\"TARGETS\"][\"h1\"][\"b1\"])[:, np.newaxis],\n",
    "            np.array(in_file[\"TARGETS\"][\"h1\"][\"b2\"])[:, np.newaxis],\n",
    "        ),\n",
    "        axis=-1,\n",
    "    )\n",
    "    h2_bs = np.concatenate(\n",
    "        (\n",
    "            np.array(in_file[\"TARGETS\"][\"h2\"][\"b1\"])[:, np.newaxis],\n",
    "            np.array(in_file[\"TARGETS\"][\"h2\"][\"b2\"])[:, np.newaxis],\n",
    "        ),\n",
    "        axis=-1,\n",
    "    )\n",
    "    h3_bs = np.concatenate(\n",
    "        (\n",
    "            np.array(in_file[\"TARGETS\"][\"h3\"][\"b1\"])[:, np.newaxis],\n",
    "            np.array(in_file[\"TARGETS\"][\"h3\"][\"b2\"])[:, np.newaxis],\n",
    "        ),\n",
    "        axis=-1,\n",
    "    )\n",
    "\n",
    "    # chi2 on fjets to find Higgs\n",
    "    \n",
    "    num_events = len(fj_pt) \n",
    "    bh1_b_pred = np.ones(shape=(num_events, 1), dtype=int)\n",
    "    bh2_b_pred = np.ones(shape=(num_events, 1), dtype=int)*2\n",
    "    bh3_b_pred = np.ones(shape=(num_events, 1), dtype=int)*3\n",
    "\n",
    "    bh1_b = np.array(in_file[\"TARGETS\"][\"bh1\"][\"bb\"])\n",
    "    bh2_b = np.array(in_file[\"TARGETS\"][\"bh2\"][\"bb\"])\n",
    "    bh3_b = np.array(in_file[\"TARGETS\"][\"bh3\"][\"bb\"])\n",
    "\n",
    "    targets = [h1_bs, h2_bs, h3_bs, bh1_b, bh2_b, bh3_b]\n",
    "\n",
    "    masks = np.concatenate(\n",
    "        (\n",
    "            np.array(in_file[\"TARGETS\"][\"h1\"][\"mask\"])[np.newaxis, :],\n",
    "            np.array(in_file[\"TARGETS\"][\"h2\"][\"mask\"])[np.newaxis, :],\n",
    "            np.array(in_file[\"TARGETS\"][\"h3\"][\"mask\"])[np.newaxis, :],\n",
    "            np.array(in_file[\"TARGETS\"][\"bh1\"][\"mask\"])[np.newaxis, :],\n",
    "            np.array(in_file[\"TARGETS\"][\"bh2\"][\"mask\"])[np.newaxis, :],\n",
    "            np.array(in_file[\"TARGETS\"][\"bh3\"][\"mask\"])[np.newaxis, :]\n",
    "        ),\n",
    "        axis=0,\n",
    "    )\n",
    "\n",
    "    predictions = [\n",
    "        JET_ASSIGNMENTS[nj][chi2_argmin][:, 0, :],\n",
    "        JET_ASSIGNMENTS[nj][chi2_argmin][:, 1, :],\n",
    "        JET_ASSIGNMENTS[nj][chi2_argmin][:, 2, :],\n",
    "        bh1_b_pred,\n",
    "        bh2_b_pred,\n",
    "        bh3_b_pred,\n",
    "    ]\n",
    "\n",
    "    num_vectors = np.sum(mask, axis=-1).to_numpy() # number of unique objects in every event\n",
    "    lines = 2 # how many lines are generated in the table\n",
    "    results, jet_limits, clusters = evaluate_predictions(predictions, num_vectors, targets, masks, event_file, lines)\n",
    "    display_table(results, jet_limits, clusters)\n"
   ]
  }
 ],
 "metadata": {
  "kernelspec": {
   "display_name": "Python 3 (ipykernel)",
   "language": "python",
   "name": "python3"
  },
  "language_info": {
   "codemirror_mode": {
    "name": "ipython",
    "version": 3
   },
   "file_extension": ".py",
   "mimetype": "text/x-python",
   "name": "python",
   "nbconvert_exporter": "python",
   "pygments_lexer": "ipython3",
   "version": "3.9.10"
  }
 },
 "nbformat": 4,
 "nbformat_minor": 5
}
