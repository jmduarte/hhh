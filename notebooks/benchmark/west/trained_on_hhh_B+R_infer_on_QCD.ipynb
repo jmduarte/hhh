{
 "cells": [
  {
   "cell_type": "markdown",
   "id": "50cb9178",
   "metadata": {},
   "source": [
    "Side note: we are evaluating particle level information\n",
    "maybe we should also do the event level information"
   ]
  },
  {
   "cell_type": "code",
   "execution_count": 1,
   "id": "26570c5c",
   "metadata": {},
   "outputs": [
    {
     "name": "stderr",
     "output_type": "stream",
     "text": [
      "/Users/billyli/miniforge_x86_new/lib/python3.9/site-packages/coffea/util.py:154: FutureWarning: In coffea version v0.8.0 (target date: 31 Dec 2022), this will be an error.\n",
      "(Set coffea.deprecations_as_errors = True to get a stack trace now.)\n",
      "ImportError: coffea.hist is deprecated\n",
      "  warnings.warn(message, FutureWarning)\n"
     ]
    }
   ],
   "source": [
    "import itertools\n",
    "import logging\n",
    "from pathlib import Path\n",
    "import numba as nb\n",
    "\n",
    "import awkward as ak\n",
    "import click\n",
    "import h5py as h5\n",
    "import numpy as np\n",
    "import vector\n",
    "\n",
    "from coffea.hist.plot import clopper_pearson_interval\n",
    "import matplotlib.pyplot as plt\n",
    "\n",
    "# from src.data.cms.convert_to_h5 import MIN_JETS, N_JETS, N_FJETS\n",
    "\n",
    "vector.register_awkward()\n",
    "\n",
    "logging.basicConfig(level=logging.INFO)"
   ]
  },
  {
   "cell_type": "code",
   "execution_count": 2,
   "id": "885cebd6",
   "metadata": {},
   "outputs": [],
   "source": [
    "# read spanet prediction\n",
    "# spanet_file = \"/Users/billyli/UCSD/hhh/reports/bv2/qcd/qcd_finetune_i0_llow_pt.h5\"\n",
    "# s_h5 = h5.File(spanet_file, 'a')\n",
    "\n",
    "# spanet_file = \"/Users/billyli/UCSD/hhh/reports/bv2/qcd/qcd_finetune_i0_llow_pt.h5\"\n",
    "# s_h5 = h5.File(spanet_file, 'a')\n",
    "\n",
    "spanet_file = \"/Users/billyli/UCSD/hhh/reports/bv2/best_per_week/072324/072324_v10_qcd.h5\"\n",
    "s_h5 = h5.File(spanet_file, 'a')\n",
    "\n",
    "# read baseline prediction\n",
    "# baseline_file = \"/Users/billyli/UCSD/hhh/reports/bv2/best_per_week/060524/060524_v4_qcd.h5\"\n",
    "# b_h5 = h5.File(baseline_file)\n",
    "baseline_file = \"/Users/billyli/UCSD/hhh/reports/bv2/pred_baseline_on_qcd_test.h5\"\n",
    "b_h5 = h5.File(baseline_file)"
   ]
  },
  {
   "cell_type": "markdown",
   "id": "53e6d6f2",
   "metadata": {},
   "source": [
    "### Reco Boosted"
   ]
  },
  {
   "cell_type": "code",
   "execution_count": 3,
   "id": "25e77ea9",
   "metadata": {},
   "outputs": [],
   "source": [
    "def reset_collision_dp(dps, aps):\n",
    "    ap_filter = aps < 1/(13*13)\n",
    "    dps_reset = dps\n",
    "    dps_reset[ap_filter] = 0\n",
    "    return dps"
   ]
  },
  {
   "cell_type": "code",
   "execution_count": 4,
   "id": "1dfae57b",
   "metadata": {},
   "outputs": [],
   "source": [
    "def dp_to_HiggsNumProb(dps):\n",
    "    # get maximum number of targets\n",
    "    Nmax = dps.shape[-1]\n",
    "    \n",
    "    # prepare a list for constructing [P_0H, P_1H, P_2H, ...]\n",
    "    probs = []\n",
    "    \n",
    "    # loop through all possible number of existing targets\n",
    "    for N in range(Nmax+1):\n",
    "        # get all combinations of targets\n",
    "        combs = list(itertools.combinations(range(Nmax),N))\n",
    "    \n",
    "        # calculate the probability of N particles existing for each combination\n",
    "        P_exist_per_comb = [np.prod(dps[:,list(comb)], axis=-1) for comb in combs]\n",
    "        \n",
    "        # calculate the probability fo Nmax-N particles not existing for each  combination\n",
    "        P_noexist_per_comb = [np.prod(1- dps[:, list(set(range(Nmax))-set(comb))], axis=-1) for comb in combs]\n",
    "        \n",
    "        # concatenate each combination to array for further calculation   \n",
    "        P_exist_per_comb = [np.reshape(P_comb_e, newshape=(-1,1)) for P_comb_e in P_exist_per_comb]\n",
    "        P_exist_per_comb = np.concatenate(P_exist_per_comb, axis=1)\n",
    "        P_noexist_per_comb = [np.reshape(P_comb_e, newshape=(-1,1)) for P_comb_e in P_noexist_per_comb]\n",
    "        P_noexist_per_comb = np.concatenate(P_noexist_per_comb, axis=1)\n",
    "        \n",
    "        # for each combination, calculate the joint probability \n",
    "        # of N particles existing and Nmax-N not existing\n",
    "        P_per_comb = P_exist_per_comb * P_noexist_per_comb\n",
    "        \n",
    "        # sum over all possible configurations of N existing and Nmax-N not existing\n",
    "        P = np.sum(P_per_comb, axis=-1)\n",
    "        \n",
    "        # reshape and add to the prob list\n",
    "        probs.append(np.reshape(P, newshape=(-1,1)))\n",
    "\n",
    "    # convert the probs list to arr\n",
    "    probs_arr = np.concatenate(probs, axis=1)\n",
    "    \n",
    "    return probs_arr"
   ]
  },
  {
   "cell_type": "code",
   "execution_count": 5,
   "id": "bb5d139d",
   "metadata": {},
   "outputs": [],
   "source": [
    "def sel_pred_bH_by_dp_ap(dps, aps, bb_ps):\n",
    "    # get most possible number of H_reco by dps\n",
    "    HiggsNumProb = dp_to_HiggsNumProb(dps)\n",
    "    HiggsNum = np.argmax(HiggsNumProb, axis=-1)\n",
    "    \n",
    "    # get the top N (dp x ap) jet assignment indices\n",
    "    ps = dps*aps\n",
    "    idx_descend = np.flip(np.argsort(ps, axis=-1), axis=-1)\n",
    "    idx_sel = [idx_e[:N_e] for idx_e, N_e in zip(idx_descend, HiggsNum)]\n",
    "    \n",
    "    # select the predicted bb assignment via the indices\n",
    "    bb_ps_sel = bb_ps[idx_sel]\n",
    "    \n",
    "    # require bb assignment is a fatjet\n",
    "    ak8Filter = bb_ps_sel>9\n",
    "    bb_ps_passed = bb_ps_sel.mask[ak8Filter]\n",
    "    bb_ps_passed = ak.drop_none(bb_ps_passed)\n",
    "    \n",
    "    return bb_ps_passed"
   ]
  },
  {
   "cell_type": "code",
   "execution_count": 6,
   "id": "7d593c93",
   "metadata": {},
   "outputs": [],
   "source": [
    "def sel_target_bH_by_mask(bb_ts, bh_pts, bh_masks):\n",
    "    bb_ts_selected = bb_ts.mask[bh_masks]\n",
    "    bb_ts_selected = ak.drop_none(bb_ts_selected)\n",
    "    \n",
    "    bh_selected_pts = bh_pts.mask[bh_masks]\n",
    "    bh_selected_pts = ak.drop_none(bh_selected_pts)\n",
    "    \n",
    "    return bb_ts_selected, bh_selected_pts"
   ]
  },
  {
   "cell_type": "code",
   "execution_count": 7,
   "id": "47b96abe",
   "metadata": {},
   "outputs": [],
   "source": [
    "# A pred look up table is in shape\n",
    "# [event,\n",
    "#    pred_H, \n",
    "#       [correct, pred_H_pt]]\n",
    "def gen_pred_bH_LUT(bb_ps_passed, bb_ts_selected, fj_pts):\n",
    "    LUT = []\n",
    "    # for each event\n",
    "    for bb_t_event, bb_p_event, fj_pt_event in zip(bb_ts_selected, bb_ps_passed, fj_pts):\n",
    "        # for each predicted bb assignment, check if any target H have a same bb assignment\n",
    "        LUT_event = []\n",
    "        for i, bb_p in enumerate(bb_p_event):\n",
    "            correct = 0\n",
    "            predH_pt = fj_pt_event[bb_p-10]\n",
    "            for bb_t in bb_t_event:\n",
    "                if bb_p == bb_t+10:\n",
    "                    correct = 1\n",
    "            LUT_event.append([correct, predH_pt])\n",
    "        LUT.append(LUT_event)\n",
    "    return LUT"
   ]
  },
  {
   "cell_type": "code",
   "execution_count": 8,
   "id": "f6d1575a",
   "metadata": {},
   "outputs": [],
   "source": [
    "# A target look up table is in shape\n",
    "# [event,\n",
    "#    target_H, \n",
    "#        target_bb_assign,\n",
    "#           [retrieved, targetH_pt]]\n",
    "def gen_target_bH_LUT(bb_ps_passed, bb_ts_selected, targetH_pts):\n",
    "    LUT = []\n",
    "    # for each event\n",
    "    for bb_t_event, bb_p_event, targetH_pts_event in zip(bb_ts_selected, bb_ps_passed, targetH_pts):\n",
    "        # for each target fatjet, check if the predictions have a p fatject same with the t fatjet\n",
    "        LUT_event = []\n",
    "        for i, bb_t in enumerate(bb_t_event):\n",
    "            retrieved = 0\n",
    "            targetH_pt = targetH_pts_event[i]\n",
    "            for bb_p in bb_p_event:\n",
    "                if bb_p == bb_t+10:\n",
    "                    retrieved = 1\n",
    "            LUT_event.append([retrieved, targetH_pt])\n",
    "        LUT.append(LUT_event)\n",
    "    return LUT"
   ]
  },
  {
   "cell_type": "code",
   "execution_count": 9,
   "id": "df848618",
   "metadata": {},
   "outputs": [],
   "source": [
    "# generate pred/target LUT\n",
    "# each entry corresponds to [recoH correct or not, reco H pt]\n",
    "# or \n",
    "# [targetH retrieved or not, target H pt]\n",
    "def get_reco_boosted_h_mass(predfile):\n",
    "    # Collect H pt, mask, target and predicted jet and fjets for 3 Hs in each event\n",
    "    if 'TARGETS' not in predfile.keys():\n",
    "        predfile[\"INPUTS\"] = predfile[\"SpecialKey.Inputs\"]\n",
    "        predfile[\"TARGETS\"] = predfile[\"SpecialKey.Targets\"]\n",
    "\n",
    "    try:\n",
    "        # pred assignment\n",
    "        bb_bh1_p = np.array(predfile[\"TARGETS\"][\"bh1\"]['bb'])\n",
    "        bb_bh2_p = np.array(predfile[\"TARGETS\"][\"bh2\"]['bb'])\n",
    "        bb_bh3_p = np.array(predfile[\"TARGETS\"][\"bh3\"]['bb'])\n",
    "    \n",
    "        # boosted Higgs detection probability\n",
    "        dp_bh1 = np.array(predfile[\"TARGETS\"][\"bh1\"]['detection_probability'])\n",
    "        dp_bh2 = np.array(predfile[\"TARGETS\"][\"bh2\"]['detection_probability'])\n",
    "        dp_bh3 = np.array(predfile[\"TARGETS\"][\"bh3\"]['detection_probability'])\n",
    "\n",
    "        # fatjet assignment probability\n",
    "        ap_bh1 = np.array(predfile[\"TARGETS\"][\"bh1\"]['assignment_probability'])\n",
    "        ap_bh2 = np.array(predfile[\"TARGETS\"][\"bh2\"]['assignment_probability'])\n",
    "        ap_bh3 = np.array(predfile[\"TARGETS\"][\"bh3\"]['assignment_probability'])\n",
    "    except:\n",
    "        # pred assignment\n",
    "        bb_bh1_p = np.array(predfile[\"TARGETS\"][\"bh1\"]['bb'])+10\n",
    "        bb_bh2_p = np.array(predfile[\"TARGETS\"][\"bh2\"]['bb'])+10\n",
    "        bb_bh3_p = np.array(predfile[\"TARGETS\"][\"bh3\"]['bb'])+10\n",
    "    \n",
    "         # boosted Higgs detection probability\n",
    "        dp_bh1 = np.array(predfile[\"TARGETS\"][\"bh1\"]['mask']).astype('float')\n",
    "        dp_bh2 = np.array(predfile[\"TARGETS\"][\"bh2\"]['mask']).astype('float')\n",
    "        dp_bh3 = np.array(predfile[\"TARGETS\"][\"bh3\"]['mask']).astype('float')\n",
    "\n",
    "        # fatjet assignment probability\n",
    "        ap_bh1 = np.array(predfile[\"TARGETS\"][\"bh1\"]['mask']).astype('float')\n",
    "        ap_bh2 = np.array(predfile[\"TARGETS\"][\"bh2\"]['mask']).astype('float')\n",
    "        ap_bh3 = np.array(predfile[\"TARGETS\"][\"bh3\"]['mask']).astype('float')\n",
    "    \n",
    "    # collect fatjet pt\n",
    "    fj_pt = np.array(predfile['INPUTS']['BoostedJets']['fj_pt'])\n",
    "    \n",
    "    dps = np.concatenate((dp_bh1.reshape(-1, 1), dp_bh2.reshape(-1, 1), dp_bh3.reshape(-1, 1)), axis=1)\n",
    "    aps = np.concatenate((ap_bh1.reshape(-1, 1), ap_bh2.reshape(-1, 1), ap_bh3.reshape(-1, 1)), axis=1)\n",
    "\n",
    "    # convert some arrays to ak array\n",
    "    bb_ps = np.concatenate((bb_bh1_p.reshape(-1, 1), bb_bh2_p.reshape(-1, 1), bb_bh3_p.reshape(-1, 1)), axis=1)\n",
    "    bb_ps = ak.Array(bb_ps)\n",
    "    fj_pt = ak.Array(fj_pt)\n",
    "    \n",
    "    # select predictions and targets\n",
    "    bb_ps_selected = sel_pred_bH_by_dp_ap(dps, aps, bb_ps)\n",
    "    \n",
    "    # reconstruct bH to remove overlapped ak4 jets\n",
    "    fj_eta = np.array(predfile['INPUTS']['BoostedJets']['fj_eta'])\n",
    "    fj_phi = np.array(predfile['INPUTS']['BoostedJets']['fj_phi'])\n",
    "    fj_mass = ak.Array(predfile['INPUTS']['BoostedJets']['fj_mass'])\n",
    "    \n",
    "    fjs = ak.zip(\n",
    "        {\n",
    "            \"pt\": fj_pt,\n",
    "            \"eta\": fj_eta,\n",
    "            \"phi\": fj_phi,\n",
    "            \"mass\": fj_mass,\n",
    "        },\n",
    "        with_name=\"Momentum4D\"\n",
    "    )\n",
    "    fj_reco = fjs[bb_ps_selected-10]\n",
    "    \n",
    "    return fj_mass[bb_ps_selected-10], fj_reco"
   ]
  },
  {
   "cell_type": "code",
   "execution_count": 10,
   "id": "27c759a4",
   "metadata": {},
   "outputs": [],
   "source": [
    "reco_bh_mass_s, fjs_reco_s = get_reco_boosted_h_mass(s_h5)\n",
    "reco_bh_mass_b, fjs_reco_b = get_reco_boosted_h_mass(b_h5)"
   ]
  },
  {
   "cell_type": "code",
   "execution_count": 11,
   "id": "c6b1ee99",
   "metadata": {},
   "outputs": [
    {
     "data": {
      "image/png": "[encoded data removed]",
      "text/plain": [
       "<Figure size 640x480 with 1 Axes>"
      ]
     },
     "metadata": {},
     "output_type": "display_data"
    }
   ],
   "source": [
    "plt.hist(ak.ravel(reco_bh_mass_s), bins=np.arange(105, 150, 2.5), histtype='step', label='reweighted spanet', density=True)\n",
    "plt.hist(ak.ravel(reco_bh_mass_b), bins=np.arange(105, 150, 2.5), histtype='step', label='baseline', density=True)\n",
    "plt.xlabel('Boosted Mass Sculpting (GeV)')\n",
    "plt.legend()\n",
    "plt.show()"
   ]
  },
  {
   "cell_type": "code",
   "execution_count": 12,
   "id": "49748453",
   "metadata": {},
   "outputs": [],
   "source": [
    "def get_unoverlapped_jet_index(fjs, js, dR_min=0.8):\n",
    "    overlapped = ak.sum(js[:, np.newaxis].deltaR(fjs)<dR_min, axis=-2)>0\n",
    "    jet_index_passed = ak.local_index(js).mask[~overlapped]\n",
    "    jet_index_passed = ak.drop_none(jet_index_passed)\n",
    "    return jet_index_passed"
   ]
  },
  {
   "cell_type": "code",
   "execution_count": 13,
   "id": "d6bead7c",
   "metadata": {},
   "outputs": [],
   "source": [
    "def sel_pred_h_by_dp_ap(dps, aps, b1_ps, b2_ps):\n",
    "    # get most possible number of H_reco by dps\n",
    "    HiggsNumProb = dp_to_HiggsNumProb(dps)\n",
    "    HiggsNum = np.argmax(HiggsNumProb, axis=-1)\n",
    "    \n",
    "    # get the top N (dp x ap) jet assignment indices\n",
    "    ps = dps*aps\n",
    "    idx_descend = np.flip(np.argsort(ps, axis=-1), axis=-1)\n",
    "#     print('ap', aps[0])\n",
    "#     print('dp', dps[0])\n",
    "#     print('HiggsNumProb', HiggsNumProb[0])\n",
    "#     print('HiggsNum', HiggsNum[0])\n",
    "#     print('b1', b1_ps[0])\n",
    "#     print('b2', b2_ps[0])\n",
    "    \n",
    "    idx_sel = [idx_e[:N_e] for idx_e, N_e in zip(idx_descend, HiggsNum)]\n",
    "    \n",
    "    # select the predicted b assignment via the indices\n",
    "    b1_ps_sel = b1_ps[idx_sel]\n",
    "    b2_ps_sel = b2_ps[idx_sel]\n",
    "\n",
    "    # require b1 b2 assignment are AK4 jet\n",
    "    b1_ak4_filter = b1_ps_sel<10\n",
    "    b2_ak4_filter = b2_ps_sel<10\n",
    "    filter = b1_ak4_filter & b2_ak4_filter\n",
    "    \n",
    "    b1_ps_passed = b1_ps_sel.mask[filter]\n",
    "    b1_ps_passed = ak.drop_none(b1_ps_passed)\n",
    "    \n",
    "    b2_ps_passed = b2_ps_sel.mask[filter]\n",
    "    b2_ps_passed = ak.drop_none(b2_ps_passed)\n",
    "    \n",
    "    return b1_ps_passed, b2_ps_passed"
   ]
  },
  {
   "cell_type": "code",
   "execution_count": 14,
   "id": "5c1ebbc7",
   "metadata": {},
   "outputs": [],
   "source": [
    "def sel_target_h_by_mask(b1_ts, b2_ts, h_pts, bi_cat_H, h_masks):\n",
    "    b1_ts_selected = b1_ts.mask[h_masks]\n",
    "    b1_ts_selected = ak.drop_none(b1_ts_selected)\n",
    "    \n",
    "    b2_ts_selected = b2_ts.mask[h_masks]\n",
    "    b2_ts_selected = ak.drop_none(b2_ts_selected)\n",
    "    \n",
    "    h_selected_pts = h_pts.mask[h_masks]\n",
    "    h_selected_pts = ak.drop_none(h_selected_pts)\n",
    "    \n",
    "    bi_cat_H_passed = bi_cat_H.mask[h_masks]\n",
    "    bi_cat_H_passed = ak.drop_none(bi_cat_H_passed)\n",
    "    \n",
    "    return b1_ts_selected, b2_ts_selected, h_selected_pts, bi_cat_H_passed"
   ]
  },
  {
   "cell_type": "code",
   "execution_count": 15,
   "id": "a6788f6f",
   "metadata": {},
   "outputs": [],
   "source": [
    "# A pred look up table is in shape\n",
    "# [event,\n",
    "#    pred_H, \n",
    "#       [correct_or_not, pt, overlap_w_H_reco, has_boost_H_target, which_H_target]]\n",
    "@nb.njit\n",
    "def calc_reco_h_mass(b1_ps_passed, b2_ps_passed, js, goodJetIdx, builder):\n",
    "    # for each event\n",
    "    for b1_ps_e, b2_ps_e, jets_e, goodJetIdx_e in zip(b1_ps_passed, b2_ps_passed, js, goodJetIdx):\n",
    "        # for each predicted bb assignment, check if any target H have a same bb assignment\n",
    "        builder.begin_list()\n",
    "        for b1_p, b2_p in zip(b1_ps_e, b2_ps_e):\n",
    "            if (b1_p in goodJetIdx_e) and (b2_p in goodJetIdx_e):\n",
    "                overlap = 0\n",
    "            else:\n",
    "                overlap = 1\n",
    "                continue\n",
    "                \n",
    "            predH_mass = (jets_e[b1_p]+jets_e[b2_p]).mass\n",
    "                    \n",
    "            builder.append(predH_mass)\n",
    "        \n",
    "        builder.end_list()\n",
    "    return builder"
   ]
  },
  {
   "cell_type": "code",
   "execution_count": 16,
   "id": "44e959b5",
   "metadata": {},
   "outputs": [],
   "source": [
    "def get_reco_resolved_h_mass(predfile, fjs_reco=None):\n",
    "    if 'TARGETS' not in predfile.keys():\n",
    "        predfile[\"INPUTS\"] = predfile[\"SpecialKey.Inputs\"]\n",
    "        predfile[\"TARGETS\"] = predfile[\"SpecialKey.Targets\"]\n",
    "    \n",
    "    # predict assignments\n",
    "    b1_h1_p = np.array(predfile[\"TARGETS\"][\"h1\"]['b1']).astype('int')\n",
    "    b1_h2_p = np.array(predfile[\"TARGETS\"][\"h2\"]['b1']).astype('int')\n",
    "    b1_h3_p = np.array(predfile[\"TARGETS\"][\"h3\"]['b1']).astype('int')\n",
    "\n",
    "    b2_h1_p = np.array(predfile[\"TARGETS\"][\"h1\"]['b2']).astype('int')\n",
    "    b2_h2_p = np.array(predfile[\"TARGETS\"][\"h2\"]['b2']).astype('int')\n",
    "    b2_h3_p = np.array(predfile[\"TARGETS\"][\"h3\"]['b2']).astype('int')\n",
    "    \n",
    "    # resolved Higgs detection probability\n",
    "    dp_h1 = np.array(predfile[\"TARGETS\"][\"h1\"]['detection_probability'])\n",
    "    dp_h2 = np.array(predfile[\"TARGETS\"][\"h2\"]['detection_probability'])\n",
    "    dp_h3 = np.array(predfile[\"TARGETS\"][\"h3\"]['detection_probability'])\n",
    "    \n",
    "    # ak4 jets assignment probability\n",
    "    ap_h1 = np.array(predfile[\"TARGETS\"][\"h1\"]['assignment_probability'])\n",
    "    ap_h2 = np.array(predfile[\"TARGETS\"][\"h2\"]['assignment_probability'])\n",
    "    ap_h3 = np.array(predfile[\"TARGETS\"][\"h3\"]['assignment_probability'])\n",
    "    \n",
    "    # reconstruct jet 4-momentum objects\n",
    "    j_pt = np.array(predfile['INPUTS']['Jets']['pt'])\n",
    "    j_eta = np.array(predfile['INPUTS']['Jets']['eta'])\n",
    "    j_phi = np.array(predfile['INPUTS']['Jets']['phi'])\n",
    "    j_mass = np.array(predfile['INPUTS']['Jets']['mass'])\n",
    "    js = ak.zip(\n",
    "        {\n",
    "            \"pt\": j_pt,\n",
    "            \"eta\": j_eta,\n",
    "            \"phi\": j_phi,\n",
    "            \"mass\": j_mass,\n",
    "        },\n",
    "        with_name=\"Momentum4D\"\n",
    "    )\n",
    "    \n",
    "    # convert some numpy arrays to ak arrays\n",
    "    dps = np.concatenate((dp_h1.reshape(-1, 1), dp_h2.reshape(-1, 1), dp_h3.reshape(-1, 1)), axis=1)\n",
    "    # dps = ak.Array(dps)\n",
    "    aps = np.concatenate((ap_h1.reshape(-1, 1), ap_h2.reshape(-1, 1), ap_h3.reshape(-1, 1)), axis=1)\n",
    "    # aps = ak.Array(aps)\n",
    "    \n",
    "    dps = reset_collision_dp(dps, aps)\n",
    "    \n",
    "    b1_ps = np.concatenate((b1_h1_p.reshape(-1, 1), b1_h2_p.reshape(-1, 1), b1_h3_p.reshape(-1, 1)), axis=1)\n",
    "    b1_ps = ak.Array(b1_ps)\n",
    "    b2_ps = np.concatenate((b2_h1_p.reshape(-1, 1), b2_h2_p.reshape(-1, 1), b2_h3_p.reshape(-1, 1)), axis=1)\n",
    "    b2_ps = ak.Array(b2_ps)\n",
    "\n",
    "    \n",
    "    # select predictions and targets\n",
    "    b1_ps_selected, b2_ps_selected = sel_pred_h_by_dp_ap(dps, aps, b1_ps, b2_ps)\n",
    "\n",
    "    # find jets that are overlapped with reco boosted Higgs\n",
    "    if fjs_reco is None:\n",
    "        goodJetIdx =  ak.local_index(js)\n",
    "    else:\n",
    "        goodJetIdx = get_unoverlapped_jet_index(fjs_reco, js, dR_min=0.4)\n",
    "    \n",
    "    # get reco H mass\n",
    "    h_mass = calc_reco_h_mass(b1_ps_selected, b2_ps_selected, js, goodJetIdx, ak.ArrayBuilder()).snapshot()\n",
    "    \n",
    "    return h_mass"
   ]
  },
  {
   "cell_type": "code",
   "execution_count": 17,
   "id": "3eb50b68",
   "metadata": {},
   "outputs": [],
   "source": [
    "reco_rh_mass_s = get_reco_resolved_h_mass(s_h5, fjs_reco=None)\n",
    "reco_rh_mass_b = get_reco_resolved_h_mass(b_h5, fjs_reco=None)"
   ]
  },
  {
   "cell_type": "code",
   "execution_count": 18,
   "id": "352cf694",
   "metadata": {},
   "outputs": [
    {
     "data": {
      "text/plain": [
       "Text(0.5, 0, 'Resolved Mass Sculpting (GeV)')"
      ]
     },
     "execution_count": 18,
     "metadata": {},
     "output_type": "execute_result"
    },
    {
     "data": {
      "image/png": "[encoded data removed]",
      "text/plain": [
       "<Figure size 640x480 with 1 Axes>"
      ]
     },
     "metadata": {},
     "output_type": "display_data"
    }
   ],
   "source": [
    "plt.hist(ak.ravel(reco_rh_mass_s), bins=np.arange(30, 230, 2), histtype='step', label='reweighted spanet', density=True)\n",
    "plt.hist(ak.ravel(reco_rh_mass_b), bins=np.arange(30, 230, 2), histtype='step', label='baseline', density=True)\n",
    "plt.legend()\n",
    "plt.xlabel('Resolved Mass Sculpting (GeV)')"
   ]
  },
  {
   "cell_type": "code",
   "execution_count": 19,
   "id": "37c76ea3",
   "metadata": {},
   "outputs": [],
   "source": [
    "reco_rh_wOR_mass_s = get_reco_resolved_h_mass(s_h5, fjs_reco=fjs_reco_s)\n",
    "reco_rh_wOR_mass_b = get_reco_resolved_h_mass(b_h5, fjs_reco=fjs_reco_b)"
   ]
  },
  {
   "cell_type": "code",
   "execution_count": 20,
   "id": "610e5557",
   "metadata": {},
   "outputs": [],
   "source": [
    "reco_merged_h_mass_s = ak.ravel(reco_bh_mass_s).tolist() + ak.ravel(reco_rh_wOR_mass_s).tolist()\n",
    "reco_merged_h_mass_b = ak.ravel(reco_bh_mass_b).tolist() + ak.ravel(reco_rh_wOR_mass_b).tolist()"
   ]
  },
  {
   "cell_type": "code",
   "execution_count": 21,
   "id": "ad6d6b54",
   "metadata": {},
   "outputs": [
    {
     "data": {
      "image/png": "[encoded data removed]",
      "text/plain": [
       "<Figure size 640x480 with 1 Axes>"
      ]
     },
     "metadata": {},
     "output_type": "display_data"
    }
   ],
   "source": [
    "plt.hist(reco_merged_h_mass_s, bins=np.arange(30, 230, 10), histtype='step', label='SPANet', density=True)\n",
    "plt.hist(reco_merged_h_mass_b, bins=np.arange(30, 230, 5), histtype='step', label='Baseline', density=True)\n",
    "plt.legend(title='Resolved+Boosted')\n",
    "plt.xlabel('QCD Mass Sculpting')\n",
    "plt.savefig(\"/Users/billyli/Documents/SPANet/SPANet_results/HHH/B+R/072324_v10_mass_sculpting.pdf\", format='pdf')"
   ]
  },
  {
   "cell_type": "code",
   "execution_count": null,
   "id": "224211c2",
   "metadata": {},
   "outputs": [],
   "source": []
  },
  {
   "cell_type": "code",
   "execution_count": null,
   "id": "5b5b9548",
   "metadata": {},
   "outputs": [],
   "source": []
  }
 ],
 "metadata": {
  "kernelspec": {
   "display_name": "Python 3 (ipykernel)",
   "language": "python",
   "name": "python3"
  },
  "language_info": {
   "codemirror_mode": {
    "name": "ipython",
    "version": 3
   },
   "file_extension": ".py",
   "mimetype": "text/x-python",
   "name": "python",
   "nbconvert_exporter": "python",
   "pygments_lexer": "ipython3",
   "version": "3.9.10"
  }
 },
 "nbformat": 4,
 "nbformat_minor": 5
}
