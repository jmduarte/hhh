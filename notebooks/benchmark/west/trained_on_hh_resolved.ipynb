{
 "cells": [
  {
   "cell_type": "markdown",
   "id": "13f819cb",
   "metadata": {},
   "source": [
    "Side note: we are evaluating particle level information\n",
    "maybe we should also do the event level information"
   ]
  },
  {
   "cell_type": "code",
   "execution_count": 1,
   "id": "076e12b2",
   "metadata": {},
   "outputs": [],
   "source": [
    "date = \"1118\""
   ]
  },
  {
   "cell_type": "code",
   "execution_count": 2,
   "id": "ba38b25a",
   "metadata": {},
   "outputs": [
    {
     "name": "stderr",
     "output_type": "stream",
     "text": [
      "/Users/billyli/miniforge_x86_new/lib/python3.9/site-packages/coffea/util.py:154: FutureWarning: In coffea version v0.8.0 (target date: 31 Dec 2022), this will be an error.\n",
      "(Set coffea.deprecations_as_errors = True to get a stack trace now.)\n",
      "ImportError: coffea.hist is deprecated\n",
      "  warnings.warn(message, FutureWarning)\n"
     ]
    }
   ],
   "source": [
    "import itertools\n",
    "import logging\n",
    "from pathlib import Path\n",
    "import numba as nb\n",
    "\n",
    "import awkward as ak\n",
    "import click\n",
    "import h5py as h5\n",
    "import numpy as np\n",
    "import vector\n",
    "\n",
    "from coffea.hist.plot import clopper_pearson_interval\n",
    "import matplotlib.pyplot as plt\n",
    "\n",
    "# from src.data.cms.convert_to_h5 import MIN_JETS, N_JETS, N_FJETS\n",
    "\n",
    "vector.register_awkward()\n",
    "\n",
    "logging.basicConfig(level=logging.INFO)"
   ]
  },
  {
   "cell_type": "code",
   "execution_count": 3,
   "id": "11586b69",
   "metadata": {},
   "outputs": [],
   "source": [
    "# read test target file\n",
    "test_file = \"/Users/billyli/UCSD/hhh/reports/bv2_2h/hh_testing.h5\"\n",
    "test_h5 = h5.File(test_file)\n",
    "\n",
    "# read spanet prediction\n",
    "spanet_file = \"/Users/billyli/UCSD/hhh/reports/benchmark/HH_resolved/1118.h5\"\n",
    "s_h5 = h5.File(spanet_file, \"a\")\n",
    "\n",
    "# read baseline prediction\n",
    "baseline_file = \"/Users/billyli/UCSD/hhh_pred/src/models/mix_baseline_hh.h5\"\n",
    "b_h5 = h5.File(baseline_file)\n"
   ]
  },
  {
   "cell_type": "code",
   "execution_count": 4,
   "id": "f16cddfa",
   "metadata": {},
   "outputs": [],
   "source": [
    "if \"TARGETS\" not in s_h5.keys():\n",
    "    s_h5[\"INPUTS\"] = s_h5[\"SpecialKey.Inputs\"]\n",
    "    s_h5[\"TARGETS\"] = s_h5[\"SpecialKey.Targets\"]"
   ]
  },
  {
   "cell_type": "code",
   "execution_count": 5,
   "id": "fb2cbbfd",
   "metadata": {},
   "outputs": [
    {
     "data": {
      "text/plain": [
       "<KeysViewHDF5 ['INPUTS', 'SpecialKey.Inputs', 'SpecialKey.Targets', 'TARGETS']>"
      ]
     },
     "execution_count": 5,
     "metadata": {},
     "output_type": "execute_result"
    }
   ],
   "source": [
    "s_h5.keys()"
   ]
  },
  {
   "cell_type": "markdown",
   "id": "ed6167b0",
   "metadata": {},
   "source": [
    "### Reco Boosted"
   ]
  },
  {
   "cell_type": "code",
   "execution_count": 6,
   "id": "5f57ba12",
   "metadata": {},
   "outputs": [],
   "source": [
    "def reset_collision_dp(dps, aps):\n",
    "    ap_filter = aps < 1/(13*13)\n",
    "    dps_reset = dps\n",
    "    dps_reset[ap_filter] = 0\n",
    "    return dps_reset"
   ]
  },
  {
   "cell_type": "code",
   "execution_count": 7,
   "id": "29011e52",
   "metadata": {},
   "outputs": [],
   "source": [
    "def dp_to_HiggsNumProb(dps):\n",
    "    # get maximum number of targets\n",
    "    Nmax = dps.shape[-1]\n",
    "    \n",
    "    # prepare a list for constructing [P_0H, P_1H, P_2H, ...]\n",
    "    probs = []\n",
    "    \n",
    "    # loop through all possible number of existing targets\n",
    "    for N in range(Nmax+1):\n",
    "        # get all combinations of targets\n",
    "        combs = list(itertools.combinations(range(Nmax),N))\n",
    "    \n",
    "        # calculate the probability of N particles existing for each combination\n",
    "        P_exist_per_comb = [np.prod(dps[:,list(comb)], axis=-1) for comb in combs]\n",
    "        \n",
    "        # calculate the probability fo Nmax-N particles not existing for each  combination\n",
    "        P_noexist_per_comb = [np.prod(1- dps[:, list(set(range(Nmax))-set(comb))], axis=-1) for comb in combs]\n",
    "        \n",
    "        # concatenate each combination to array for further calculation   \n",
    "        P_exist_per_comb = [np.reshape(P_comb_e, newshape=(-1,1)) for P_comb_e in P_exist_per_comb]\n",
    "        P_exist_per_comb = np.concatenate(P_exist_per_comb, axis=1)\n",
    "        P_noexist_per_comb = [np.reshape(P_comb_e, newshape=(-1,1)) for P_comb_e in P_noexist_per_comb]\n",
    "        P_noexist_per_comb = np.concatenate(P_noexist_per_comb, axis=1)\n",
    "        \n",
    "        # for each combination, calculate the joint probability \n",
    "        # of N particles existing and Nmax-N not existing\n",
    "        P_per_comb = P_exist_per_comb * P_noexist_per_comb\n",
    "        \n",
    "        # sum over all possible configurations of N existing and Nmax-N not existing\n",
    "        P = np.sum(P_per_comb, axis=-1)\n",
    "        \n",
    "        # reshape and add to the prob list\n",
    "        probs.append(np.reshape(P, newshape=(-1,1)))\n",
    "\n",
    "    # convert the probs list to arr\n",
    "    probs_arr = np.concatenate(probs, axis=1)\n",
    "    \n",
    "    return probs_arr"
   ]
  },
  {
   "cell_type": "code",
   "execution_count": 8,
   "id": "e3896b0e",
   "metadata": {},
   "outputs": [],
   "source": [
    "def sel_pred_h_by_dp_ap(dps, aps, b1_ps, b2_ps):\n",
    "    # get most possible number of H_reco by dps\n",
    "    HiggsNumProb = dp_to_HiggsNumProb(dps)\n",
    "    HiggsNum = np.argmax(HiggsNumProb, axis=-1)\n",
    "    \n",
    "    # get the top N (dp x ap) jet assignment indices\n",
    "    ps = dps*aps\n",
    "    idx_descend = np.flip(np.argsort(ps, axis=-1), axis=-1)\n",
    "    \n",
    "    idx_sel = [idx_e[:N_e] for idx_e, N_e in zip(idx_descend, HiggsNum)]\n",
    "    \n",
    "    # select the predicted b assignment via the indices\n",
    "    b1_ps_sel = b1_ps[idx_sel]\n",
    "    b2_ps_sel = b2_ps[idx_sel]\n",
    "\n",
    "    # require b1 b2 assignment are AK4 jet\n",
    "    b1_ak4_filter = b1_ps_sel<10\n",
    "    b2_ak4_filter = b2_ps_sel<10\n",
    "    filter = b1_ak4_filter & b2_ak4_filter\n",
    "    \n",
    "    b1_ps_passed = b1_ps_sel.mask[filter]\n",
    "    b1_ps_passed = ak.drop_none(b1_ps_passed)\n",
    "    \n",
    "    b2_ps_passed = b2_ps_sel.mask[filter]\n",
    "    b2_ps_passed = ak.drop_none(b2_ps_passed)\n",
    "    \n",
    "    return b1_ps_passed, b2_ps_passed"
   ]
  },
  {
   "cell_type": "code",
   "execution_count": 9,
   "id": "4bcac1c5",
   "metadata": {},
   "outputs": [],
   "source": [
    "def sel_target_h_by_mask(b1_ts, b2_ts, h_pts, bi_cat_H, h_masks):\n",
    "    b1_ts_selected = b1_ts.mask[h_masks]\n",
    "    b1_ts_selected = ak.drop_none(b1_ts_selected)\n",
    "    \n",
    "    b2_ts_selected = b2_ts.mask[h_masks]\n",
    "    b2_ts_selected = ak.drop_none(b2_ts_selected)\n",
    "    \n",
    "    h_selected_pts = h_pts.mask[h_masks]\n",
    "    h_selected_pts = ak.drop_none(h_selected_pts)\n",
    "    \n",
    "    bi_cat_H_passed = bi_cat_H.mask[h_masks]\n",
    "    bi_cat_H_passed = ak.drop_none(bi_cat_H_passed)\n",
    "    \n",
    "    return b1_ts_selected, b2_ts_selected, h_selected_pts, bi_cat_H_passed"
   ]
  },
  {
   "cell_type": "code",
   "execution_count": 10,
   "id": "6b54c1ae",
   "metadata": {},
   "outputs": [],
   "source": [
    "# A pred look up table is in shape\n",
    "# [event,\n",
    "#    pred_H, \n",
    "#       [correct_or_not, pt, overlap_w_H_reco, has_boost_H_target, which_H_target]]\n",
    "@nb.njit\n",
    "def gen_pred_h_LUT(b1_ps_passed, b2_ps_passed, b1_ts_selected, b2_ts_selected, js, goodJetIdx, bi_cat_H_selected, builder):\n",
    "    # for each event\n",
    "    for b1_ps_e, b2_ps_e, b1_ts_e, b2_ts_e, jets_e, goodJetIdx_e, bi_cat_H_e in zip(b1_ps_passed, b2_ps_passed, b1_ts_selected, b2_ts_selected, js, goodJetIdx, bi_cat_H_selected):\n",
    "        # for each predicted bb assignment, check if any target H have a same bb assignment\n",
    "        builder.begin_list()\n",
    "        for b1_p, b2_p in zip(b1_ps_e, b2_ps_e):\n",
    "            if (b1_p in goodJetIdx_e) and (b2_p in goodJetIdx_e):\n",
    "                overlap = 0\n",
    "            else:\n",
    "                overlap = 1\n",
    "            correct = 0\n",
    "            has_t_bH = -1\n",
    "            bH = -1\n",
    "            \n",
    "            predH_pt = (jets_e[b1_p]+jets_e[b2_p]).pt\n",
    "#             try:\n",
    "#                 predH_pt = (jets_e[b1_p]+jets_e[b2_p]).pt\n",
    "#             except:\n",
    "# #                 print(jets_e[b1_p])\n",
    "# #                 print(jets_e[b2_p])\n",
    "#                   pass\n",
    "            \n",
    "            for i, (b1_t, b2_t, bi_cat_H) in enumerate(zip(b1_ts_e, b2_ts_e, bi_cat_H_e)):\n",
    "                if set((b1_p, b2_p)) == set((b1_t, b2_t)):\n",
    "                    correct = 1\n",
    "                    has_t_bH = bi_cat_H\n",
    "                    bH = i\n",
    "                    \n",
    "            builder.begin_list()\n",
    "            builder.append(correct)\n",
    "            builder.append(predH_pt)\n",
    "            builder.append(overlap)\n",
    "            builder.append(has_t_bH)\n",
    "            builder.append(bH)\n",
    "            builder.append(b1_p)\n",
    "            builder.append(b2_p)\n",
    "            builder.end_list()\n",
    "        \n",
    "        builder.end_list()\n",
    "    return builder"
   ]
  },
  {
   "cell_type": "code",
   "execution_count": 11,
   "id": "38a62113",
   "metadata": {},
   "outputs": [],
   "source": [
    "# A target look up table is in shape\n",
    "# [event,\n",
    "#    target_H, \n",
    "#        target_bb_assign,\n",
    "#           [retrieved, targetH_pt, can_boost_reco]]\n",
    "@nb.njit\n",
    "def gen_target_h_LUT(b1_ps_passed, b2_ps_passed, b1_ts_selected, b2_ts_selected, targetH_pts, bi_cat_H_selected, builder):\n",
    "    # for each event\n",
    "    for b1_ps_e, b2_ps_e, b1_ts_e, b2_ts_e, tH_pts_e, bi_cat_H_e in zip(b1_ps_passed, b2_ps_passed, b1_ts_selected, b2_ts_selected, targetH_pts, bi_cat_H_selected):\n",
    "        # for each target fatjet, check if the predictions have a p fatject same with the t fatjet\n",
    "        builder.begin_list()\n",
    "        for b1_t, b2_t, tH_pt, bi_cat_H in zip(b1_ts_e, b2_ts_e, tH_pts_e, bi_cat_H_e):\n",
    "            retrieved = 0\n",
    "            can_boost_reco = bi_cat_H\n",
    "            for b1_p, b2_p in zip(b1_ps_e, b2_ps_e):\n",
    "                if set((b1_p, b2_p)) == set((b1_t, b2_t)):\n",
    "                    retrieved = 1\n",
    "            builder.begin_list()\n",
    "            builder.append(retrieved)\n",
    "            builder.append(tH_pt)\n",
    "            builder.append(can_boost_reco)\n",
    "            builder.end_list()\n",
    "        \n",
    "        builder.end_list()\n",
    "    return builder"
   ]
  },
  {
   "cell_type": "code",
   "execution_count": 12,
   "id": "135e1e4c",
   "metadata": {},
   "outputs": [],
   "source": [
    "def parse_resolved_w_target(testfile, predfile, fjs_reco=None):\n",
    "    # h pt\n",
    "    h1_pt = np.array(testfile['TARGETS']['h1']['pt'])\n",
    "    h2_pt = np.array(testfile['TARGETS']['h2']['pt'])\n",
    "    \n",
    "    # resolved mask\n",
    "    h1_mask = np.array(testfile['TARGETS']['h1']['mask'])\n",
    "    h2_mask = np.array(testfile['TARGETS']['h2']['mask'])\n",
    "    \n",
    "    h_masks = np.concatenate((h1_mask.reshape(-1, 1), h2_mask.reshape(-1, 1)), axis=1)\n",
    "    # h_masks = h_masks.astype(float)\n",
    "    # h_masks = ak.Array(h_masks)\n",
    "    \n",
    "    # boosted mask\n",
    "    bh1_mask = np.array(testfile['TARGETS']['bh1']['mask'])\n",
    "    bh2_mask = np.array(testfile['TARGETS']['bh2']['mask'])\n",
    "    \n",
    "    bh_masks = np.concatenate((bh1_mask.reshape(-1, 1), bh2_mask.reshape(-1, 1)), axis=1)\n",
    "    # bh_masks = bh_masks.astype(float)\n",
    "    # bh_masks = ak.Array(bh_masks)\n",
    "    \n",
    "    # findout which resolved higgs also have boosted reco\n",
    "    bi_cat_H = h_masks & bh_masks\n",
    "    bi_cat_H = bi_cat_H.astype(float)\n",
    "    bi_cat_H = ak.Array(bi_cat_H)\n",
    "    \n",
    "    \n",
    "    # target assignments\n",
    "    b1_h1_t = np.array(testfile[\"TARGETS\"][\"h1\"]['b1']).astype('int')\n",
    "    b1_h2_t = np.array(testfile[\"TARGETS\"][\"h2\"]['b1']).astype('int')\n",
    "\n",
    "    b2_h1_t = np.array(testfile[\"TARGETS\"][\"h1\"]['b2']).astype('int')\n",
    "    b2_h2_t = np.array(testfile[\"TARGETS\"][\"h2\"]['b2']).astype('int')\n",
    "    \n",
    "    # predict assignments\n",
    "    b1_h1_p = np.array(predfile[\"TARGETS\"][\"h1\"]['b1']).astype('int')\n",
    "    b1_h2_p = np.array(predfile[\"TARGETS\"][\"h2\"]['b1']).astype('int')\n",
    "\n",
    "    b2_h1_p = np.array(predfile[\"TARGETS\"][\"h1\"]['b2']).astype('int')\n",
    "    b2_h2_p = np.array(predfile[\"TARGETS\"][\"h2\"]['b2']).astype('int')\n",
    "    \n",
    "    # resolved Higgs detection probability\n",
    "    dp_h1 = np.array(predfile[\"TARGETS\"][\"h1\"]['detection_probability'])\n",
    "    dp_h2 = np.array(predfile[\"TARGETS\"][\"h2\"]['detection_probability'])\n",
    "    \n",
    "    # ak4 jets assignment probability\n",
    "    ap_h1 = np.array(predfile[\"TARGETS\"][\"h1\"]['assignment_probability'])\n",
    "    ap_h2 = np.array(predfile[\"TARGETS\"][\"h2\"]['assignment_probability'])\n",
    "    \n",
    "    # reconstruct jet 4-momentum objects\n",
    "    j_pt = np.array(testfile['INPUTS']['Jets']['pt'])\n",
    "    j_eta = np.array(testfile['INPUTS']['Jets']['eta'])\n",
    "    j_phi = np.array(testfile['INPUTS']['Jets']['phi'])\n",
    "    j_mass = np.array(testfile['INPUTS']['Jets']['mass'])\n",
    "    js = ak.zip(\n",
    "        {\n",
    "            \"pt\": j_pt,\n",
    "            \"eta\": j_eta,\n",
    "            \"phi\": j_phi,\n",
    "            \"mass\": j_mass,\n",
    "        },\n",
    "        with_name=\"Momentum4D\"\n",
    "    )\n",
    "    \n",
    "    # convert some numpy arrays to ak arrays\n",
    "    dps = np.concatenate((dp_h1.reshape(-1, 1), dp_h2.reshape(-1, 1),), axis=1)\n",
    "    # dps = ak.Array(dps)\n",
    "    aps = np.concatenate((ap_h1.reshape(-1, 1), ap_h2.reshape(-1, 1)), axis=1)\n",
    "    # aps = ak.Array(aps)\n",
    "    \n",
    "    dps = reset_collision_dp(dps, aps)\n",
    "    \n",
    "    b1_ps = np.concatenate((b1_h1_p.reshape(-1, 1), b1_h2_p.reshape(-1, 1)), axis=1)\n",
    "    b1_ps = ak.Array(b1_ps)\n",
    "    b1_ts = np.concatenate((b1_h1_t.reshape(-1, 1), b1_h2_t.reshape(-1, 1)), axis=1)\n",
    "    b1_ts = ak.Array(b1_ts)\n",
    "    b2_ps = np.concatenate((b2_h1_p.reshape(-1, 1), b2_h2_p.reshape(-1, 1)), axis=1)\n",
    "    b2_ps = ak.Array(b2_ps)\n",
    "    b2_ts = np.concatenate((b2_h1_t.reshape(-1, 1), b2_h2_t.reshape(-1, 1)), axis=1)\n",
    "    b2_ts = ak.Array(b2_ts)\n",
    "\n",
    "    \n",
    "    \n",
    "    h_pts = np.concatenate((h1_pt.reshape(-1, 1), h2_pt.reshape(-1, 1)), axis=1)\n",
    "    h_pts = ak.Array(h_pts)\n",
    "    \n",
    "    # select predictions and targets\n",
    "    b1_ts_selected, b2_ts_selected, targetH_selected_pts, bi_cat_H_selected = sel_target_h_by_mask(b1_ts, b2_ts, h_pts, bi_cat_H, h_masks)\n",
    "    b1_ps_selected, b2_ps_selected = sel_pred_h_by_dp_ap(dps, aps, b1_ps, b2_ps)\n",
    "    \n",
    "    # find jets that are overlapped with reco boosted Higgs\n",
    "    if fjs_reco is None:\n",
    "        goodJetIdx =  ak.local_index(js)\n",
    "    else:\n",
    "        goodJetIdx = get_unoverlapped_jet_index(fjs_reco, js, dR_min=0.4)\n",
    "    \n",
    "    # generate look up tables\n",
    "    LUT_pred = gen_pred_h_LUT(b1_ps_selected, b2_ps_selected, b1_ts_selected, b2_ts_selected, js, goodJetIdx, bi_cat_H_selected, ak.ArrayBuilder()).snapshot()\n",
    "    LUT_target = gen_target_h_LUT(b1_ps_selected, b2_ps_selected, b1_ts_selected, b2_ts_selected, targetH_selected_pts, bi_cat_H_selected, ak.ArrayBuilder()).snapshot()\n",
    "    \n",
    "    \n",
    "    return LUT_pred, LUT_target, goodJetIdx"
   ]
  },
  {
   "cell_type": "code",
   "execution_count": 13,
   "id": "4bef1a35",
   "metadata": {},
   "outputs": [],
   "source": [
    "# calculate efficiency\n",
    "# if bins=None, put all data in a single bin\n",
    "def calc_pur(LUT_boosted_pred, LUT_resolved_pred, bins):\n",
    "\n",
    "    predHs = []\n",
    "    N_OR = 0\n",
    "    \n",
    "    if LUT_boosted_pred is not None:\n",
    "        # boosted H don't need post processing\n",
    "        predHs_boosted = [predH for event in LUT_boosted_pred for predH in event]\n",
    "        predHs += predHs_boosted\n",
    "\n",
    "    if LUT_resolved_pred is not None:\n",
    "        if LUT_boosted_pred is not None:\n",
    "            # calculate merged efficiency\n",
    "            # Remove overlapped resolved H_reco \n",
    "            predHs_resolved = []\n",
    "            for event in LUT_resolved_pred:\n",
    "                for predH in event:\n",
    "                    if predH[2] == 0:\n",
    "                        predHs_resolved.append(predH[0:2])\n",
    "                    else:\n",
    "                        N_OR += 1\n",
    "            predHs += predHs_resolved\n",
    "        else:\n",
    "            # calculate resolved efficiency\n",
    "            predHs_resolved = [predH[0:2] for event in LUT_resolved_pred for predH in event]\n",
    "            predHs += predHs_resolved\n",
    "        \n",
    "    # then merge into the list with their pT\n",
    "    predHs = np.array(predHs)\n",
    "    \n",
    "    print(predHs.shape)\n",
    "    # bins[i-1] <= x < bins[i]\n",
    "    predHs_inds = np.digitize(predHs[:,1], bins)\n",
    "    \n",
    "    correctTruth_per_bin = []\n",
    "    for bin_i in range(1, len(bins)+1):\n",
    "        correctTruth_per_bin.append(predHs[:,0][predHs_inds==bin_i])\n",
    "    correctTruth_per_bin = ak.Array(correctTruth_per_bin)\n",
    "    \n",
    "    means = ak.mean(correctTruth_per_bin, axis=-1)\n",
    "    \n",
    "    print(\"Removed:\", N_OR)\n",
    "    print(\"number of correct match\", *ak.sum(correctTruth_per_bin, axis=-1))\n",
    "    print(\"number of candidates:\", *ak.num(correctTruth_per_bin, axis=-1))\n",
    "    print(\"total number of candidates:\", ak.sum(ak.num(correctTruth_per_bin, axis=-1)))\n",
    "    \n",
    "    errs = np.abs(\n",
    "    clopper_pearson_interval(num=ak.sum(correctTruth_per_bin, axis=-1),\\\n",
    "                             denom=ak.num(correctTruth_per_bin, axis=-1)) - means\n",
    "    )\n",
    "    \n",
    "    return means, errs"
   ]
  },
  {
   "cell_type": "code",
   "execution_count": 14,
   "id": "f8b011c8",
   "metadata": {},
   "outputs": [],
   "source": [
    "# calculate purity\n",
    "def calc_eff(LUT_boosted_target, LUT_resolved_target, bins):\n",
    "\n",
    "    targetHs = []\n",
    "\n",
    "    if LUT_boosted_target is not None:\n",
    "        # boosted H don't need post processing\n",
    "        targetHs_boosted = [targetH for event in LUT_boosted_target for targetH in event]\n",
    "        targetHs += targetHs_boosted\n",
    "\n",
    "    if LUT_resolved_target is not None:\n",
    "        if LUT_boosted_target is not None:\n",
    "            # calculate merged purity\n",
    "            # only consider resolved target H that doesn't have a corresponding boosted H target\n",
    "            targetHs_resolved = [targetH[0:2] for event in LUT_resolved_target for targetH in event if targetH[2]==0]\n",
    "            targetHs += targetHs_resolved\n",
    "        else:\n",
    "            # calculate resolved only purity\n",
    "            targetHs_resolved = [targetH[0:2] for event in LUT_resolved_target for targetH in event]\n",
    "            targetHs += targetHs_resolved\n",
    "\n",
    "    targetHs = np.array(targetHs)\n",
    "\n",
    "    targetHs_inds = np.digitize(targetHs[:,1], bins)\n",
    "    \n",
    "    correctTruth_per_bin = []\n",
    "    for bin_i in range(1, len(bins)+1):\n",
    "        correctTruth_per_bin.append(targetHs[:,0][targetHs_inds==bin_i])\n",
    "    correctTruth_per_bin = ak.Array(correctTruth_per_bin)\n",
    "    \n",
    "    \n",
    "    means = ak.mean(correctTruth_per_bin, axis=-1)\n",
    "    \n",
    "    errs = np.abs(\n",
    "    clopper_pearson_interval(num=ak.sum(correctTruth_per_bin, axis=-1),\\\n",
    "                             denom=ak.num(correctTruth_per_bin, axis=-1)) - means\n",
    "    )\n",
    "    \n",
    "    return means, errs"
   ]
  },
  {
   "cell_type": "code",
   "execution_count": 15,
   "id": "c7ddc22c",
   "metadata": {},
   "outputs": [],
   "source": [
    "bins = np.arange(0, 1050, 50)\n",
    "bin_centers = [(bins[i]+bins[i+1])/2 for i in range(bins.size-1)]\n",
    "xerr=(bins[1]-bins[0])/2*np.ones(bins.shape[0]-1)"
   ]
  },
  {
   "cell_type": "code",
   "execution_count": 16,
   "id": "6726412a",
   "metadata": {},
   "outputs": [],
   "source": [
    "LUT_resolved_pred_spanet, LUT_resolved_target_spanet, _ = parse_resolved_w_target(test_h5, s_h5, fjs_reco=None)"
   ]
  },
  {
   "cell_type": "code",
   "execution_count": 17,
   "id": "e4972ece",
   "metadata": {},
   "outputs": [],
   "source": [
    "LUT_resolved_pred_base, LUT_resolved_target_base, _ = parse_resolved_w_target(test_h5, b_h5, fjs_reco=None)"
   ]
  },
  {
   "cell_type": "code",
   "execution_count": 18,
   "id": "02696477",
   "metadata": {},
   "outputs": [],
   "source": [
    "bins = np.arange(0, 1050, 50)"
   ]
  },
  {
   "cell_type": "code",
   "execution_count": 19,
   "id": "34a95ec3",
   "metadata": {},
   "outputs": [],
   "source": [
    "bins = np.arange(0, 1050, 50)\n",
    "bin_centers = [(bins[i]+bins[i+1])/2 for i in range(bins.size-1)]\n",
    "xerr=(bins[1]-bins[0])/2*np.ones(bins.shape[0]-1)"
   ]
  },
  {
   "cell_type": "code",
   "execution_count": 20,
   "id": "3d858d9c-4423-4402-9344-b68dbfb67ca0",
   "metadata": {},
   "outputs": [
    {
     "name": "stdout",
     "output_type": "stream",
     "text": [
      "(89097, 2)\n",
      "Removed: 0\n",
      "number of correct match 2257.0 8244.0 15187.0 14461.0 9744.0 5764.0 3315.0 1856.0 969.0 417.0 170.0 85.0 46.0 19.0 7.0 3.0 7.0 1.0 3.0 1.0 6.0\n",
      "number of candidates: 4106 14388 22601 19653 12521 7237 4038 2292 1190 550 233 126 67 30 22 8 9 4 5 2 15\n",
      "total number of candidates: 89097\n"
     ]
    }
   ],
   "source": [
    "pur_s, purerr_s = calc_pur(None, LUT_resolved_pred_spanet, bins)\n",
    "eff_s, efferr_s = calc_eff(None, LUT_resolved_target_spanet, bins)"
   ]
  },
  {
   "cell_type": "code",
   "execution_count": 21,
   "id": "bf8c9a14-b0ac-48e4-a0df-68597915e5fc",
   "metadata": {},
   "outputs": [
    {
     "name": "stdout",
     "output_type": "stream",
     "text": [
      "(115847, 2)\n",
      "Removed: 0\n",
      "number of correct match 1706.0 5467.0 9910.0 10416.0 7194.0 4097.0 1644.0 732.0 362.0 158.0 77.0 40.0 22.0 16.0 13.0 9.0 8.0 4.0 9.0 1.0 15.0\n",
      "number of candidates: 9426 22690 27430 23430 14932 8250 3900 2031 1171 698 449 321 242 189 148 117 86 70 54 31 182\n",
      "total number of candidates: 115847\n"
     ]
    }
   ],
   "source": [
    "pur_b, purerr_b = calc_pur(None, LUT_resolved_pred_base, bins)\n",
    "eff_b, efferr_b = calc_eff(None, LUT_resolved_target_base, bins)"
   ]
  },
  {
   "cell_type": "code",
   "execution_count": 22,
   "id": "65661bca-ad89-47c1-84f5-91b60ad4a8c8",
   "metadata": {},
   "outputs": [
    {
     "data": {
      "image/png": "[encoded data removed]",
      "text/plain": [
       "<Figure size 1200x500 with 2 Axes>"
      ]
     },
     "metadata": {},
     "output_type": "display_data"
    }
   ],
   "source": [
    "fig, ax = plt.subplots(1, 2, figsize=(12, 5))\n",
    "\n",
    "bins = np.append(bins, 2*bins[-1]-bins[-2])\n",
    "bin_centers = [(bins[i]+bins[i+1])/2 for i in range(bins.size-1)]\n",
    "xerr=(bins[1]-bins[0])/2*np.ones(bins.shape[0]-1)\n",
    "\n",
    "\n",
    "ax[0].errorbar(x=bin_centers, y=pur_s, xerr=xerr, yerr=purerr_s, fmt='o', capsize=5, label='SPANet')\n",
    "ax[0].errorbar(x=bin_centers, y=pur_b, xerr=xerr, yerr=purerr_b, fmt='o', capsize=5, label='Baseline')\n",
    "# ax[1].errorbar(x=bin_centers, y=pur_pb, xerr=xerr, yerr=purerr_pb, fmt='o', capsize=5, label='SPANet Particle Balance Off')\n",
    "\n",
    "ax[1].errorbar(x=bin_centers, y=eff_s, xerr=xerr, yerr=efferr_s, fmt='o', capsize=5, label='SPANet')\n",
    "ax[1].errorbar(x=bin_centers, y=eff_b, xerr=xerr, yerr=efferr_b, fmt='o', capsize=5, label='Baseline')\n",
    "# ax[0].errorbar(x=bin_centers, y=eff_pb, xerr=xerr, yerr=efferr_pb, fmt='o', capsize=5, label='SPANet Particle Balance Off')\n",
    "\n",
    "ax[0].set(xlabel=r\"Reco. H $p_\\mathrm{T}$ (GeV)\", ylabel=r\"Matching purity\")\n",
    "ax[1].set(xlabel=r\"Gen. H $p_\\mathrm{T}$ (GeV)\", ylabel=r\"Matching efficiency\")\n",
    "ax[0].legend(title='HH Resolved')\n",
    "ax[1].legend(title='HH Resolved')\n",
    "\n",
    "ax[0].set_ylim([-0.1, 1.1])\n",
    "ax[1].set_ylim([-0.1, 1.1])\n",
    "fig.savefig(f\"/Users/billyli/Documents/SPANet/SPANet_results/HH/R/{date}_west.pdf\", format='pdf')"
   ]
  }
 ],
 "metadata": {
  "kernelspec": {
   "display_name": "Python 3 (ipykernel)",
   "language": "python",
   "name": "python3"
  },
  "language_info": {
   "codemirror_mode": {
    "name": "ipython",
    "version": 3
   },
   "file_extension": ".py",
   "mimetype": "text/x-python",
   "name": "python",
   "nbconvert_exporter": "python",
   "pygments_lexer": "ipython3",
   "version": "3.9.10"
  }
 },
 "nbformat": 4,
 "nbformat_minor": 5
}
