{
 "cells": [
  {
   "cell_type": "code",
   "execution_count": 3,
   "id": "fb0fc16f",
   "metadata": {},
   "outputs": [],
   "source": [
    "import itertools\n",
    "import logging\n",
    "from pathlib import Path\n",
    "import numba as nb\n",
    "\n",
    "import awkward as ak\n",
    "import click\n",
    "import h5py as h5\n",
    "import numpy as np\n",
    "import vector\n",
    "\n",
    "from src.data.cms.convert_to_h5 import MIN_JETS, N_JETS, N_FJETS\n",
    "\n",
    "vector.register_awkward()\n",
    "\n",
    "logging.basicConfig(level=logging.INFO)"
   ]
  },
  {
   "cell_type": "code",
   "execution_count": 4,
   "id": "cad6b150",
   "metadata": {},
   "outputs": [],
   "source": [
    "# read test target file\n",
    "test_file = \"//Users/billyli/UCSD/hhh/reports/bv2/hhh_test.h5\"\n",
    "test_h5 = h5.File(test_file)\n",
    "\n",
    "# read baseline prediction\n",
    "baseline_file = \"//Users/billyli/UCSD/hhh/reports/bv2/pred_baseline.h5\"\n",
    "b_h5 = h5.File(baseline_file)\n",
    "\n",
    "# read spanet prediction\n",
    "spanet_file = \"//Users/billyli/UCSD/hhh/reports/bv2/pred_v22.h5\"\n",
    "s_h5 = h5.File(spanet_file)"
   ]
  },
  {
   "cell_type": "code",
   "execution_count": null,
   "id": "458d96f8",
   "metadata": {},
   "outputs": [],
   "source": [
    "def calc_eff_per_bin(dps, bb_ps, bb_ts, fj_pts, dp_cut, bins):\n",
    "    dp_filter = dps>dp_cut\n",
    "    bb_ps_passed = bb_ps.mask[dp_filter]\n",
    "    bb_ps_passed = ak.drop_none(bb_ps_passed)\n",
    "    \n",
    "    dps_passed = dps.mask[dp_filter]\n",
    "    dps_passed = ak.drop_none(dps_passed)\n",
    "\n",
    "    sort_by_dp = ak.argsort(dps_passed, axis=-1, ascending=False)\n",
    "    bb_ps_passed = bb_ps_passed[sort_by_dp]\n",
    "\n",
    "    bh_effs = []\n",
    "    # for each event\n",
    "    for bb_p_event, bb_t_event, fj_pt_event in zip(bb_ps_passed, bb_ts, fj_pts):\n",
    "        # for each predicted fatjet, check if the targets have a t fatject same with the p fatjet\n",
    "        for bb_p in bb_p_event:\n",
    "            match = 0\n",
    "            for bb_t in bb_t_event:\n",
    "                if bb_p == bb_t+10:\n",
    "                    match = 1\n",
    "            bh_effs.append([fj_pt_event[bb_t], match])\n",
    "    bh_effs = np.array(bh_effs)\n",
    "    \n",
    "    bin_centers = [(bins[i]+bins[i+1])/2 for i in range(bins.size-1)]\n",
    "    \n",
    "    # group points into bins by fatjet pT\n",
    "    eff_inds = np.digitize(bh_effs[:, 0], bins)\n",
    "\n",
    "    effs_per_bin = []\n",
    "    for bin_i in range(1, len(bins)):\n",
    "        effs_per_bin.append(bh_effs[:, 1][eff_inds == bin_i])\n",
    "    effs_per_bin = ak.Array(effs_per_bin)\n",
    "    \n",
    "    return "
   ]
  },
  {
   "cell_type": "code",
   "execution_count": null,
   "id": "a597865b",
   "metadata": {},
   "outputs": [],
   "source": [
    "def calc_pur_per_bin:\n",
    "    return"
   ]
  },
  {
   "cell_type": "code",
   "execution_count": null,
   "id": "f6ac6b00",
   "metadata": {},
   "outputs": [],
   "source": [
    "def "
   ]
  }
 ],
 "metadata": {
  "kernelspec": {
   "display_name": "Python 3 (ipykernel)",
   "language": "python",
   "name": "python3"
  },
  "language_info": {
   "codemirror_mode": {
    "name": "ipython",
    "version": 3
   },
   "file_extension": ".py",
   "mimetype": "text/x-python",
   "name": "python",
   "nbconvert_exporter": "python",
   "pygments_lexer": "ipython3",
   "version": "3.9.10"
  }
 },
 "nbformat": 4,
 "nbformat_minor": 5
}
